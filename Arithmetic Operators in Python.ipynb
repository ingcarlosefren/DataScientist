{
 "cells": [
  {
   "cell_type": "markdown",
   "id": "quarterly-blind",
   "metadata": {},
   "source": [
    "# Arithmetic Operators"
   ]
  },
  {
   "cell_type": "code",
   "execution_count": 1,
   "id": "piano-romance",
   "metadata": {},
   "outputs": [
    {
     "data": {
      "text/plain": [
       "8"
      ]
     },
     "execution_count": 1,
     "metadata": {},
     "output_type": "execute_result"
    }
   ],
   "source": [
    "#Addition\n",
    "5+3"
   ]
  },
  {
   "cell_type": "code",
   "execution_count": 2,
   "id": "absolute-range",
   "metadata": {},
   "outputs": [
    {
     "data": {
      "text/plain": [
       "2"
      ]
     },
     "execution_count": 2,
     "metadata": {},
     "output_type": "execute_result"
    }
   ],
   "source": [
    "#Subtraction\n",
    "5-3"
   ]
  },
  {
   "cell_type": "code",
   "execution_count": 3,
   "id": "subsequent-funds",
   "metadata": {},
   "outputs": [
    {
     "data": {
      "text/plain": [
       "15"
      ]
     },
     "execution_count": 3,
     "metadata": {},
     "output_type": "execute_result"
    }
   ],
   "source": [
    "#Multiplication\n",
    "5*3"
   ]
  },
  {
   "cell_type": "code",
   "execution_count": 4,
   "id": "specific-nudist",
   "metadata": {},
   "outputs": [
    {
     "data": {
      "text/plain": [
       "4.0"
      ]
     },
     "execution_count": 4,
     "metadata": {},
     "output_type": "execute_result"
    }
   ],
   "source": [
    "#Division\n",
    "8/2"
   ]
  },
  {
   "cell_type": "markdown",
   "id": "great-uruguay",
   "metadata": {},
   "source": [
    "# Comparison Operators"
   ]
  },
  {
   "cell_type": "code",
   "execution_count": 5,
   "id": "regulated-cedar",
   "metadata": {},
   "outputs": [
    {
     "data": {
      "text/plain": [
       "True"
      ]
     },
     "execution_count": 5,
     "metadata": {},
     "output_type": "execute_result"
    }
   ],
   "source": [
    "4<6"
   ]
  },
  {
   "cell_type": "code",
   "execution_count": 6,
   "id": "linear-threat",
   "metadata": {},
   "outputs": [
    {
     "data": {
      "text/plain": [
       "True"
      ]
     },
     "execution_count": 6,
     "metadata": {},
     "output_type": "execute_result"
    }
   ],
   "source": [
    "6<=8"
   ]
  },
  {
   "cell_type": "code",
   "execution_count": 7,
   "id": "broad-testament",
   "metadata": {},
   "outputs": [
    {
     "data": {
      "text/plain": [
       "False"
      ]
     },
     "execution_count": 7,
     "metadata": {},
     "output_type": "execute_result"
    }
   ],
   "source": [
    "7==4"
   ]
  },
  {
   "cell_type": "code",
   "execution_count": 8,
   "id": "micro-baptist",
   "metadata": {},
   "outputs": [
    {
     "data": {
      "text/plain": [
       "False"
      ]
     },
     "execution_count": 8,
     "metadata": {},
     "output_type": "execute_result"
    }
   ],
   "source": [
    "5>7"
   ]
  },
  {
   "cell_type": "code",
   "execution_count": 9,
   "id": "smoking-portsmouth",
   "metadata": {},
   "outputs": [
    {
     "data": {
      "text/plain": [
       "True"
      ]
     },
     "execution_count": 9,
     "metadata": {},
     "output_type": "execute_result"
    }
   ],
   "source": [
    "5>=5"
   ]
  },
  {
   "cell_type": "code",
   "execution_count": 10,
   "id": "sweet-region",
   "metadata": {},
   "outputs": [
    {
     "data": {
      "text/plain": [
       "True"
      ]
     },
     "execution_count": 10,
     "metadata": {},
     "output_type": "execute_result"
    }
   ],
   "source": [
    "7!=9"
   ]
  },
  {
   "cell_type": "markdown",
   "id": "prescribed-venice",
   "metadata": {},
   "source": [
    "# Logical operators"
   ]
  },
  {
   "cell_type": "code",
   "execution_count": null,
   "id": "apparent-speaking",
   "metadata": {},
   "outputs": [],
   "source": []
  }
 ],
 "metadata": {
  "kernelspec": {
   "display_name": "Python 3",
   "language": "python",
   "name": "python3"
  },
  "language_info": {
   "codemirror_mode": {
    "name": "ipython",
    "version": 3
   },
   "file_extension": ".py",
   "mimetype": "text/x-python",
   "name": "python",
   "nbconvert_exporter": "python",
   "pygments_lexer": "ipython3",
   "version": "3.9.2"
  }
 },
 "nbformat": 4,
 "nbformat_minor": 5
}
