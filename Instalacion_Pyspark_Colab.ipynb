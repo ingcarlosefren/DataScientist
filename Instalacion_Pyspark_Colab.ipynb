{
  "nbformat": 4,
  "nbformat_minor": 0,
  "metadata": {
    "accelerator": "TPU",
    "colab": {
      "name": "Instalacion_Pyspark_Colab.ipynb",
      "provenance": [],
      "collapsed_sections": [
        "970P74QEjOJd",
        "uGsipHzQjW8m",
        "6oXqhQ_8jonp",
        "TSCE5yR45ZgR",
        "d5lqnJdZvdJA",
        "pZQP1rkKOUV5",
        "JrhlUxWHBuYW",
        "gKEkmDWQE2A7",
        "BQIqTIipIkbn",
        "1h_I9uEhn1Tk",
        "1KV8YjkrvMoT",
        "m27Ew2Vuz2Za",
        "CM4XsaTxnxnB",
        "xVzDJxNYo1Pq",
        "GKxWLxJID-qx",
        "IwoE137skwtJ",
        "aryEFeB2k7PJ",
        "t-HQBZm5u1m1",
        "ngd-eAGnliGG",
        "Xpm45a4XmFaY",
        "md8C2I-pcALS",
        "K9_BTeolcxTO"
      ],
      "mount_file_id": "1oF_1bsaZUxHUBCiaTX11PghFqdl5NctL",
      "authorship_tag": "ABX9TyMdC/03V5+wvqyTeE0Kq8ha",
      "include_colab_link": true
    },
    "kernelspec": {
      "display_name": "Python 3",
      "name": "python3"
    },
    "language_info": {
      "name": "python"
    }
  },
  "cells": [
    {
      "cell_type": "markdown",
      "metadata": {
        "id": "view-in-github",
        "colab_type": "text"
      },
      "source": [
        "<a href=\"https://colab.research.google.com/github/ingcarlosefren/DataScientist/blob/master/Instalacion_Pyspark_Colab.ipynb\" target=\"_parent\"><img src=\"https://colab.research.google.com/assets/colab-badge.svg\" alt=\"Open In Colab\"/></a>"
      ]
    },
    {
      "cell_type": "markdown",
      "metadata": {
        "id": "970P74QEjOJd"
      },
      "source": [
        "#1. Instalacion de Pyspark"
      ]
    },
    {
      "cell_type": "code",
      "metadata": {
        "colab": {
          "base_uri": "https://localhost:8080/"
        },
        "id": "9IneokFjwpKd",
        "outputId": "2e4e3fa8-0bec-4c86-9e0d-bf4540eb0e23"
      },
      "source": [
        "#Realizamos la instalacion de spark\n",
        "#Siempre que la sesin se cierre debemos realizar la instalacion ya que los recursos que se asignan no son los mismos\n",
        "#este archivo colab.sh es un scrip que realiza la instalacion de manera automatizada.\n",
        "!wget http://setup.johnsnowlabs.com/colab.sh -O - | bash"
      ],
      "execution_count": 1,
      "outputs": [
        {
          "output_type": "stream",
          "name": "stdout",
          "text": [
            "--2021-09-16 08:15:43--  http://setup.johnsnowlabs.com/colab.sh\n",
            "Resolving setup.johnsnowlabs.com (setup.johnsnowlabs.com)... 51.158.130.125\n",
            "Connecting to setup.johnsnowlabs.com (setup.johnsnowlabs.com)|51.158.130.125|:80... connected.\n",
            "HTTP request sent, awaiting response... 302 Moved Temporarily\n",
            "Location: https://raw.githubusercontent.com/JohnSnowLabs/spark-nlp/master/scripts/colab_setup.sh [following]\n",
            "--2021-09-16 08:15:44--  https://raw.githubusercontent.com/JohnSnowLabs/spark-nlp/master/scripts/colab_setup.sh\n",
            "Resolving raw.githubusercontent.com (raw.githubusercontent.com)... 185.199.108.133, 185.199.109.133, 185.199.110.133, ...\n",
            "Connecting to raw.githubusercontent.com (raw.githubusercontent.com)|185.199.108.133|:443... connected.\n",
            "HTTP request sent, awaiting response... 200 OK\n",
            "Length: 1608 (1.6K) [text/plain]\n",
            "Saving to: ‘STDOUT’\n",
            "\n",
            "-                     0%[                    ]       0  --.-KB/s               setup Colab for PySpark 3.0.3 and Spark NLP 3.2.3\n",
            "-                   100%[===================>]   1.57K  --.-KB/s    in 0.001s  \n",
            "\n",
            "2021-09-16 08:15:44 (1.84 MB/s) - written to stdout [1608/1608]\n",
            "\n",
            "Get:1 http://security.ubuntu.com/ubuntu bionic-security InRelease [88.7 kB]\n",
            "Get:2 https://cloud.r-project.org/bin/linux/ubuntu bionic-cran40/ InRelease [3,626 B]\n",
            "Ign:3 https://developer.download.nvidia.com/compute/cuda/repos/ubuntu1804/x86_64  InRelease\n",
            "Ign:4 https://developer.download.nvidia.com/compute/machine-learning/repos/ubuntu1804/x86_64  InRelease\n",
            "Get:5 http://ppa.launchpad.net/c2d4u.team/c2d4u4.0+/ubuntu bionic InRelease [15.9 kB]\n",
            "Get:6 https://developer.download.nvidia.com/compute/cuda/repos/ubuntu1804/x86_64  Release [696 B]\n",
            "Hit:7 https://developer.download.nvidia.com/compute/machine-learning/repos/ubuntu1804/x86_64  Release\n",
            "Get:8 https://developer.download.nvidia.com/compute/cuda/repos/ubuntu1804/x86_64  Release.gpg [836 B]\n",
            "Hit:9 http://archive.ubuntu.com/ubuntu bionic InRelease\n",
            "Get:10 http://archive.ubuntu.com/ubuntu bionic-updates InRelease [88.7 kB]\n",
            "Hit:11 http://ppa.launchpad.net/cran/libgit2/ubuntu bionic InRelease\n",
            "Get:12 http://security.ubuntu.com/ubuntu bionic-security/main amd64 Packages [2,324 kB]\n",
            "Get:13 http://ppa.launchpad.net/deadsnakes/ppa/ubuntu bionic InRelease [15.9 kB]\n",
            "Get:14 http://archive.ubuntu.com/ubuntu bionic-backports InRelease [74.6 kB]\n",
            "Get:16 http://security.ubuntu.com/ubuntu bionic-security/universe amd64 Packages [1,428 kB]\n",
            "Get:17 http://security.ubuntu.com/ubuntu bionic-security/restricted amd64 Packages [567 kB]\n",
            "Hit:18 http://ppa.launchpad.net/graphics-drivers/ppa/ubuntu bionic InRelease\n",
            "Get:19 https://developer.download.nvidia.com/compute/cuda/repos/ubuntu1804/x86_64  Packages [718 kB]\n",
            "Get:20 http://ppa.launchpad.net/c2d4u.team/c2d4u4.0+/ubuntu bionic/main Sources [1,799 kB]\n",
            "Get:21 http://archive.ubuntu.com/ubuntu bionic-updates/restricted amd64 Packages [600 kB]\n",
            "Get:22 http://archive.ubuntu.com/ubuntu bionic-updates/main amd64 Packages [2,760 kB]\n",
            "Get:23 http://ppa.launchpad.net/c2d4u.team/c2d4u4.0+/ubuntu bionic/main amd64 Packages [921 kB]\n",
            "Get:24 http://archive.ubuntu.com/ubuntu bionic-updates/universe amd64 Packages [2,202 kB]\n",
            "Get:25 http://ppa.launchpad.net/deadsnakes/ppa/ubuntu bionic/main amd64 Packages [40.8 kB]\n",
            "Fetched 13.6 MB in 4s (3,522 kB/s)\n",
            "Reading package lists... Done\n",
            "\u001b[K     |████████████████████████████████| 209.1 MB 55 kB/s \n",
            "\u001b[K     |████████████████████████████████| 118 kB 53.4 MB/s \n",
            "\u001b[K     |████████████████████████████████| 198 kB 47.9 MB/s \n",
            "\u001b[?25h  Building wheel for pyspark (setup.py) ... \u001b[?25l\u001b[?25hdone\n"
          ]
        }
      ]
    },
    {
      "cell_type": "code",
      "metadata": {
        "id": "sRpVS2Yz4rgD"
      },
      "source": [
        "# Cargar Pyspark Context\n",
        "from pyspark import SparkConf, SparkContext\n",
        "sc = SparkContext( conf = (SparkConf().setMaster(\"local\").setAppName(\"My_app\")))\n"
      ],
      "execution_count": 2,
      "outputs": []
    },
    {
      "cell_type": "code",
      "metadata": {
        "colab": {
          "base_uri": "https://localhost:8080/",
          "height": 193
        },
        "id": "1kJRNczN7D5h",
        "outputId": "d3b5fc93-889f-411c-b793-acc4865650e7"
      },
      "source": [
        "# SparkContext version\n",
        "sc"
      ],
      "execution_count": 3,
      "outputs": [
        {
          "output_type": "execute_result",
          "data": {
            "text/html": [
              "\n",
              "        <div>\n",
              "            <p><b>SparkContext</b></p>\n",
              "\n",
              "            <p><a href=\"http://8648a73fe503:4040\">Spark UI</a></p>\n",
              "\n",
              "            <dl>\n",
              "              <dt>Version</dt>\n",
              "                <dd><code>v3.0.3</code></dd>\n",
              "              <dt>Master</dt>\n",
              "                <dd><code>local</code></dd>\n",
              "              <dt>AppName</dt>\n",
              "                <dd><code>My_app</code></dd>\n",
              "            </dl>\n",
              "        </div>\n",
              "        "
            ],
            "text/plain": [
              "<SparkContext master=local appName=My_app>"
            ]
          },
          "metadata": {},
          "execution_count": 3
        }
      ]
    },
    {
      "cell_type": "code",
      "metadata": {
        "colab": {
          "base_uri": "https://localhost:8080/",
          "height": 35
        },
        "id": "80Gt1ups7OZy",
        "outputId": "bbee62f3-73e9-4dfd-9474-91fc770710e7"
      },
      "source": [
        "# Python version\n",
        "sc.pythonVer"
      ],
      "execution_count": 4,
      "outputs": [
        {
          "output_type": "execute_result",
          "data": {
            "application/vnd.google.colaboratory.intrinsic+json": {
              "type": "string"
            },
            "text/plain": [
              "'3.7'"
            ]
          },
          "metadata": {},
          "execution_count": 4
        }
      ]
    },
    {
      "cell_type": "markdown",
      "metadata": {
        "id": "uGsipHzQjW8m"
      },
      "source": [
        "#2. Configuracion de Google Drive para poder leer y guardar archivos "
      ]
    },
    {
      "cell_type": "code",
      "metadata": {
        "colab": {
          "base_uri": "https://localhost:8080/"
        },
        "id": "8e_xj6sy6XgT",
        "outputId": "828c99d0-074b-4a56-9e70-0479ee238f02"
      },
      "source": [
        "# Import PyDrive and associated libraries.\n",
        "# This only needs to be done once per notebook.\n",
        "from pydrive.auth import GoogleAuth\n",
        "from pydrive.drive import GoogleDrive\n",
        "from google.colab import auth\n",
        "from oauth2client.client import GoogleCredentials\n",
        "\n",
        "# Authenticate and create the PyDrive client.\n",
        "# This only needs to be done once per notebook.\n",
        "auth.authenticate_user()\n",
        "gauth = GoogleAuth()\n",
        "gauth.credentials = GoogleCredentials.get_application_default()\n",
        "drive = GoogleDrive(gauth)\n",
        "\n",
        "# Download a file based on its file ID.\n",
        "#\n",
        "# A file ID looks like: laggVyWshwcyP6kEI-y_W3P8D26sz\n",
        "\n",
        "#ID_IBEX: 13mq7MdXncQMuObZH1Oet4hUxGoONTUzo\n",
        "#ID_MNIST_TEST: 1AFA7I2RHc8dfSjMYhfuM5lB3HFQeS7VY\n",
        "#ID_MNIST_TRAIN: 1bDL2oitGrqhDhCoKZ2IEdC8XrIdTJvOI\n",
        "#ID:FOOD_INS: 1ZITkm3vlk3mglWU5LUwbFC0w46eRyr3Z\n",
        "\n",
        "file_id = '1ZITkm3vlk3mglWU5LUwbFC0w46eRyr3Z'\n",
        "downloaded = drive.CreateFile({'id': file_id})\n",
        "print('Downloaded content \"{}\"'.format(downloaded.GetContentString()))"
      ],
      "execution_count": 6,
      "outputs": [
        {
          "output_type": "stream",
          "name": "stderr",
          "text": [
            "WARNING:googleapiclient.discovery_cache:file_cache is unavailable when using oauth2client >= 4.0.0 or google-auth\n",
            "Traceback (most recent call last):\n",
            "  File \"/usr/local/lib/python3.7/dist-packages/googleapiclient/discovery_cache/file_cache.py\", line 33, in <module>\n",
            "    from oauth2client.contrib.locked_file import LockedFile\n",
            "ModuleNotFoundError: No module named 'oauth2client.contrib.locked_file'\n",
            "\n",
            "During handling of the above exception, another exception occurred:\n",
            "\n",
            "Traceback (most recent call last):\n",
            "  File \"/usr/local/lib/python3.7/dist-packages/googleapiclient/discovery_cache/file_cache.py\", line 37, in <module>\n",
            "    from oauth2client.locked_file import LockedFile\n",
            "ModuleNotFoundError: No module named 'oauth2client.locked_file'\n",
            "\n",
            "During handling of the above exception, another exception occurred:\n",
            "\n",
            "Traceback (most recent call last):\n",
            "  File \"/usr/local/lib/python3.7/dist-packages/googleapiclient/discovery_cache/__init__.py\", line 44, in autodetect\n",
            "    from . import file_cache\n",
            "  File \"/usr/local/lib/python3.7/dist-packages/googleapiclient/discovery_cache/file_cache.py\", line 41, in <module>\n",
            "    \"file_cache is unavailable when using oauth2client >= 4.0.0 or google-auth\"\n",
            "ImportError: file_cache is unavailable when using oauth2client >= 4.0.0 or google-auth\n",
            "IOPub data rate exceeded.\n",
            "The notebook server will temporarily stop sending output\n",
            "to the client in order to avoid crashing it.\n",
            "To change this limit, set the config variable\n",
            "`--NotebookApp.iopub_data_rate_limit`.\n",
            "\n",
            "Current values:\n",
            "NotebookApp.iopub_data_rate_limit=1000000.0 (bytes/sec)\n",
            "NotebookApp.rate_limit_window=3.0 (secs)\n",
            "\n"
          ]
        }
      ]
    },
    {
      "cell_type": "markdown",
      "metadata": {
        "id": "6oXqhQ_8jonp"
      },
      "source": [
        "#3. Primer Ejemplo Practicas CSDM \"IBEX.csv\""
      ]
    },
    {
      "cell_type": "code",
      "metadata": {
        "colab": {
          "base_uri": "https://localhost:8080/"
        },
        "id": "44jHUqva-Qdn",
        "outputId": "f93d2f8a-3662-47a5-9440-2fac98764774"
      },
      "source": [
        "!ls -l drive/MyDrive/DatosPyspark/"
      ],
      "execution_count": 7,
      "outputs": [
        {
          "output_type": "stream",
          "name": "stdout",
          "text": [
            "total 309899\n",
            "-rw------- 1 root root 189370978 Apr  9 15:22 Food_Inspections.csv\n",
            "-rw------- 1 root root     20814 Apr  9 19:10 IBEX.csv\n",
            "drwx------ 2 root root      4096 Apr  9 22:43 img\n",
            "-rw------- 1 root root  18299443 Apr  9 21:56 mnist_test.csv\n",
            "-rw------- 1 root root 109635994 Apr  9 21:28 mnist_train.csv\n",
            "drwx------ 2 root root      4096 Apr 30 11:03 Output_Pyspark\n"
          ]
        }
      ]
    },
    {
      "cell_type": "code",
      "metadata": {
        "id": "5-GikzdN-j6I"
      },
      "source": [
        "#importamps \n",
        "raw_data = sc.textFile(\"drive/MyDrive/DatosPyspark/IBEX.csv\")"
      ],
      "execution_count": 8,
      "outputs": []
    },
    {
      "cell_type": "code",
      "metadata": {
        "colab": {
          "base_uri": "https://localhost:8080/"
        },
        "id": "zH44Y6tM-qVA",
        "outputId": "ed59a569-fb09-4c04-c406-6fe70f69f771"
      },
      "source": [
        "raw_data.take(1)"
      ],
      "execution_count": 9,
      "outputs": [
        {
          "output_type": "execute_result",
          "data": {
            "text/plain": [
              "['2020-03-23,6223.700195,6472.000000,6148.000000,6230.200195,6230.200195,282033200']"
            ]
          },
          "metadata": {},
          "execution_count": 9
        }
      ]
    },
    {
      "cell_type": "code",
      "metadata": {
        "id": "mrj8y5G5BQXZ",
        "colab": {
          "base_uri": "https://localhost:8080/"
        },
        "outputId": "cbba9c53-e0c2-4245-ba10-f8590a4d7992"
      },
      "source": [
        "from pyspark import SparkConf, SparkContext\n",
        "from collections import namedtuple\n",
        "from datetime import datetime, timedelta\n",
        "\n",
        "# definimos la cabecera de los datos\n",
        "Record = namedtuple(\"Record\", [\"date\", \"open\", \"high\", \"low\", \"close\", \"adj_close\", \"volume\"])\n",
        "\n",
        "#creamos la funcion que importa los datos y convierte las columnas a tipos numericos flotantes\n",
        "def parse_record(s):\n",
        "    fields = s.split(\",\")\n",
        "    return Record(fields[0], *map(float, fields[1:6]), int(fields[6]))\n",
        "\n",
        "#incrementar 1 dia a la fecha introducida con el fin de hallar el valor del siguiente dia\n",
        "def get_next_date(s):\n",
        "    fmt=\"%Y-%m-%d\"\n",
        "    return(datetime.strptime(s,fmt) + timedelta(days=1)).strftime(fmt)\n",
        "\n",
        "#Ejecutamos y Almacenamos en cache para facilitar el calculo\n",
        "parsed_data = sc.textFile(\"drive/MyDrive/DatosPyspark/IBEX.csv\").map(parse_record).cache()\n",
        "\n",
        "#creamos un nuevo rdd con la fecha y el valor de cierre de la accion\n",
        "date_and_close_price = parsed_data.map(lambda r: (r.date, r.close))\n",
        "\n",
        "#creamos un nuevo rdd que contenga el valor al cierre de la accion del dia anterior y el dia actual para poder hallar el rendimiento\n",
        "date_and_prev_close_price = parsed_data.map(lambda r: (get_next_date(r.date), r.close))\n",
        "\n",
        "#une los dataset\n",
        "joined = date_and_close_price.join(date_and_prev_close_price)\n",
        "\n",
        "#calcular el rendimiento\n",
        "returns=joined.mapValues(lambda p: (p[0]/p[1]-1.0)*100.0)\n",
        "\n",
        "#imprime el resultado\n",
        "print(returns.collect())\n",
        "\n",
        "#guarda los datos en un solo archivo \n",
        "returns.repartition(1).saveAsTextFile(\"drive/MyDrive/DatosPyspark/Output_Pyspark\")"
      ],
      "execution_count": 12,
      "outputs": [
        {
          "output_type": "stream",
          "name": "stdout",
          "text": [
            "[('2020-03-24', 7.818362087159203), ('2020-03-25', 3.351050325793814), ('2020-03-26', 1.3079092861510544), ('2020-03-27', -3.629930698993844), ('2020-03-31', 1.884412706598071), ('2020-04-03', 0.11408405543265054), ('2020-04-07', 2.304109981926783), ('2020-04-08', -0.7169408026278301), ('2020-04-09', 1.708914185281274), ('2020-04-15', -3.785556850718208), ('2020-04-22', 1.2795958379780092), ('2020-04-24', -1.9654650263099316), ('2020-04-28', 1.5538206724791337), ('2020-05-05', 1.1148965605330075), ('2020-05-07', 0.8873256481813474), ('2020-05-08', 0.7755307129807321), ('2020-05-15', -1.0801178645423515), ('2020-05-19', -2.510579438815652), ('2020-05-20', 1.1272336459625443), ('2020-05-21', 0.03740499077358184), ('2020-05-22', 0.17050151557571613), ('2020-05-27', 2.4357872097984234), ('2020-06-03', 2.9467717918516767), ('2020-06-05', 4.041342454942876), ('2020-06-09', -1.8211559024742252), ('2020-06-12', 0.20198124484749336), ('2020-06-16', 3.2510022500716884), ('2020-06-17', -0.22146692503115517), ('2020-06-18', -1.1833607136594093), ('2020-06-19', 0.32475439591255206), ('2020-06-23', 1.26195875871844), ('2020-06-25', 1.0395358904871088), ('2020-06-26', -1.26404557535299), ('2020-06-30', -0.6416536647089077), ('2020-07-01', -0.0553143243937293), ('2020-07-02', 3.7523895132044904), ('2020-07-03', -1.2682380278602245), ('2020-07-07', -1.4398810273977936), ('2020-07-08', -1.6247281144054826), ('2020-07-14', -1.0084948361809731), ('2020-07-15', 1.8443974156691967), ('2020-07-23', -0.07036705769936091), ('2020-07-28', 1.0570914981180124), ('2020-08-05', 0.25777738332257716), ('2020-08-07', -0.1063525216548844), ('2020-08-11', 2.9714073195250768), ('2020-08-18', -0.657255854725447), ('2020-08-20', -1.4236782032924), ('2020-08-21', -0.16014910431828566), ('2020-08-25', -0.00984929161704784), ('2020-08-26', 0.20539218672674942), ('2020-09-01', -0.1807891240404591), ('2020-09-02', 0.5749687441743978), ('2020-09-04', -0.23265493862403286), ('2020-09-11', -0.8000914167307971), ('2020-09-15', 1.221387993310974), ('2020-09-17', -0.34594716029977546), ('2020-09-24', -0.1623079060367849), ('2020-09-29', -1.1470205698299374), ('2020-10-01', 0.20992908308177238), ('2020-10-02', 0.3536007296488952), ('2020-10-07', -0.37628811548453545), ('2020-10-08', 1.1967946314400901), ('2020-10-09', -0.5991863655247287), ('2020-10-13', -1.0904877715436578), ('2020-10-21', -1.6716441941262206), ('2020-10-23', 1.4242386282000696), ('2020-10-28', -2.6596290677954104), ('2020-10-29', -0.9668864751567585), ('2020-10-30', 0.6300943764416367), ('2020-11-04', 0.44877960128260064), ('2020-11-05', 2.0982364095057715), ('2020-11-13', 0.7468314134092768), ('2020-11-19', -0.6427338846081487), ('2020-11-25', 0.2640239645981035), ('2020-11-27', 1.062360831612752), ('2020-12-03', -0.2444970133900659), ('2020-12-08', -0.580018394652615), ('2020-12-16', -0.15823441140118133), ('2020-12-17', 0.17077095644695284), ('2020-12-23', 1.7569496555915887), ('2020-12-24', 0.46943001312869104), ('2021-01-12', -0.13879280885432665), ('2021-01-15', -1.692467982686563), ('2021-01-19', -0.6723605306196645), ('2021-01-21', -0.999494337075657), ('2021-01-22', -1.0551482371056076), ('2021-01-28', 1.0162084762997736), ('2021-02-03', 0.7785270065395977), ('2021-02-04', 1.370311197984564), ('2021-02-05', 1.1338745708123321), ('2021-02-10', -0.4394531292433057), ('2021-02-11', -0.3446797968828186), ('2021-02-23', 1.724555738728295), ('2021-02-25', 0.582860093341675), ('2021-03-04', 0.29654587514273967), ('2021-03-05', -0.8044074096241305), ('2021-03-11', 0.7952869545487573), ('2021-03-19', -1.5258634019679418), ('2020-04-01', -3.035930129030151), ('2020-04-02', -0.08055148005806645), ('2020-04-16', -1.1126558666569197), ('2020-04-17', 1.6618846235421092), ('2020-04-21', -2.877846710092946), ('2020-04-23', 0.39733616736816746), ('2020-04-29', 3.2078330136281696), ('2020-04-30', -1.8906754299812034), ('2020-05-06', -1.1263096729803634), ('2020-05-12', 1.356374169765151), ('2020-05-13', -1.9415365048575883), ('2020-05-14', -1.2938415005574244), ('2020-05-26', 2.145317074777875), ('2020-05-28', 0.6913387413757022), ('2020-05-29', -1.7663113227809002), ('2020-06-02', 2.5853740068915387), ('2020-06-04', -0.781497138438425), ('2020-06-10', -1.1403055251163585), ('2020-06-11', -5.035294131376822), ('2020-06-24', -3.265485927083467), ('2020-07-09', -1.221609538070234), ('2020-07-10', 1.1634843253356397), ('2020-07-16', -0.1722835465457817), ('2020-07-17', -0.45888520081306394), ('2020-07-21', 0.22064723188017776), ('2020-07-22', -1.3930202415104453), ('2020-07-24', -1.2214073067608133), ('2020-07-29', -0.5547541888890839), ('2020-07-30', -2.908607745111369), ('2020-07-31', -1.703687424325906), ('2020-08-04', 0.6681017634408537), ('2020-08-06', -1.1619854643539984), ('2020-08-12', 0.4474426929166331), ('2020-08-13', -0.6236293859649078), ('2020-08-14', -1.3268077373974285), ('2020-08-19', 0.7212295733655116), ('2020-08-27', -0.4534578829144986), ('2020-08-28', 0.5965532858070555), ('2020-09-03', 0.13005899937770238), ('2020-09-08', -1.7752509149979723), ('2020-09-09', 0.9475183608914417), ('2020-09-10', -0.30907301489683237), ('2020-09-16', 1.0631012649232385), ('2020-09-18', -2.2071122138259125), ('2020-09-22', -0.6529848971701835), ('2020-09-23', 0.08422971629298281), ('2020-09-25', -0.22729471690323688), ('2020-09-30', 0.04468541402835591), ('2020-10-06', 1.4375801694793466), ('2020-10-14', 0.6021628727278072), ('2020-10-15', -1.442909689528793), ('2020-10-16', 0.48263688154475126), ('2020-10-20', 0.9780998818212927), ('2020-10-22', -0.21874626734199598), ('2020-10-27', -2.142154498364135), ('2020-11-03', 2.520651080080194), ('2020-11-06', -0.7769892765210562), ('2020-11-10', 3.3782878423294305), ('2020-11-11', 1.0672548959451023), ('2020-11-12', -0.8686528004173577), ('2020-11-17', -0.649875895078289), ('2020-11-18', 0.5948879694495091), ('2020-11-20', 0.6014943611395207), ('2020-11-24', 2.0297699098124067), ('2020-11-26', -0.7360968016536074), ('2020-12-01', 0.791143926200899), ('2020-12-02', 0.982704426054859), ('2020-12-04', 1.4901190519622354), ('2020-12-09', 0.09358982407914329), ('2020-12-10', -0.6435709841167259), ('2020-12-11', -1.456799553191146), ('2020-12-15', 0.14249333330706992), ('2020-12-18', -1.4227193734425492), ('2020-12-22', 1.8537111814775464), ('2020-12-29', 0.2354174649233709), ('2020-12-30', -0.24954620891782797), ('2020-12-31', -0.9896461783804211), ('2021-01-05', -0.09507352349129583), ('2021-01-06', 3.198415683124267), ('2021-01-07', 0.42513443623597436), ('2021-01-08', 0.2611604201061546), ('2021-01-13', 0.18211597656248024), ('2021-01-14', 0.13515904041896398), ('2021-01-20', 0.062197938773023154), ('2021-01-26', 0.8559900050546521), ('2021-01-27', -1.4086769247636854), ('2021-01-29', -2.2061140876142415), ('2021-02-02', 1.9581403808779818), ('2021-02-09', -1.4356977734517606), ('2021-02-12', 0.21648131019020855), ('2021-02-16', -0.6070555860303473), ('2021-02-17', -0.3801954849776079), ('2021-02-18', -0.7953032298270157), ('2021-02-19', 1.1603231389891278), ('2021-02-24', 0.21206724141955569), ('2021-02-26', -1.115677308610108), ('2021-03-02', -0.26616780702923837), ('2021-03-03', -0.3171449845428609), ('2021-03-09', 0.618178096143529), ('2021-03-10', 0.3389647694864717), ('2021-03-12', 0.5993250320027954), ('2021-03-16', 0.25823705896996785), ('2021-03-17', -0.6722362023301676), ('2021-03-18', 0.2918728879586219), ('2021-03-23', 0.12943974351291576)]\n"
          ]
        }
      ]
    },
    {
      "cell_type": "markdown",
      "metadata": {
        "id": "TSCE5yR45ZgR"
      },
      "source": [
        "#4. Segundo Ejemplo Machine Learning \"Food_Inspections.csv\""
      ]
    },
    {
      "cell_type": "markdown",
      "metadata": {
        "id": "d5lqnJdZvdJA"
      },
      "source": [
        "### 4.0. Carga de lo Datos"
      ]
    },
    {
      "cell_type": "code",
      "metadata": {
        "colab": {
          "base_uri": "https://localhost:8080/"
        },
        "id": "iWq20Y4L5z1d",
        "outputId": "0fefbe91-9fb7-476d-9fdd-0a734832013f"
      },
      "source": [
        "#1. importamos los datos \n",
        "raw_data = sc.textFile(\"drive/MyDrive/DatosPyspark/Food_Inspections.csv\")\n",
        "\n",
        "raw_data.take(1)"
      ],
      "execution_count": null,
      "outputs": [
        {
          "output_type": "execute_result",
          "data": {
            "text/plain": [
              "['Inspection ID,DBA Name,AKA Name,License #,Facility Type,Risk,Address,City,State,Zip,Inspection Date,Inspection Type,Results,Violations,Latitude,Longitude,Location']"
            ]
          },
          "metadata": {
            "tags": []
          },
          "execution_count": 58
        }
      ]
    },
    {
      "cell_type": "code",
      "metadata": {
        "id": "zH455OAgRZwb"
      },
      "source": [
        "#creamos un vector para las cabeceras\n",
        "from collections import namedtuple\n",
        "Record = namedtuple(\"Record\", [\"InspectionID\", \"DBAName\", \"AKAName\", \"LicenseN\", \"FacilityType\",\n",
        "\"Risk\", \"Address\", \"City\", \"State\", \"Zip\", \"InspectionDate\", \"InspectionType\", \"Results\",\n",
        "\"Violations\", \"Latitude\", \"Longitude\", \"Location\"])\n"
      ],
      "execution_count": null,
      "outputs": []
    },
    {
      "cell_type": "code",
      "metadata": {
        "id": "YDWlAuc9PujO"
      },
      "source": [
        "#creamos la funcion que dividira el archivo\n",
        "def parse_record(s):\n",
        "  fields = s.split(\",\")\n",
        "  return Record(*fields[0:17])"
      ],
      "execution_count": null,
      "outputs": []
    },
    {
      "cell_type": "code",
      "metadata": {
        "id": "0awe6rrxSA0Q"
      },
      "source": [
        "#ejecutamos la funcion parse_record\n",
        "parsed_data = raw_data.map(parse_record)"
      ],
      "execution_count": null,
      "outputs": []
    },
    {
      "cell_type": "code",
      "metadata": {
        "colab": {
          "base_uri": "https://localhost:8080/"
        },
        "id": "Kw29KDv4SJEp",
        "outputId": "a6864a8f-5c1e-47c0-e5cc-5e9f6741f674"
      },
      "source": [
        "parsed_data.take(1)"
      ],
      "execution_count": null,
      "outputs": [
        {
          "output_type": "execute_result",
          "data": {
            "text/plain": [
              "[Record(InspectionID='Inspection ID', DBAName='DBA Name', AKAName='AKA Name', LicenseN='License #', FacilityType='Facility Type', Risk='Risk', Address='Address', City='City', State='State', Zip='Zip', InspectionDate='Inspection Date', InspectionType='Inspection Type', Results='Results', Violations='Violations', Latitude='Latitude', Longitude='Longitude', Location='Location')]"
            ]
          },
          "metadata": {
            "tags": []
          },
          "execution_count": 62
        }
      ]
    },
    {
      "cell_type": "code",
      "metadata": {
        "colab": {
          "base_uri": "https://localhost:8080/"
        },
        "id": "_t7m9YvuSZz_",
        "outputId": "ec219af4-8cdd-47d9-ab31-c438eb4857ff"
      },
      "source": [
        "parsed_data.take(2)[1]"
      ],
      "execution_count": null,
      "outputs": [
        {
          "output_type": "execute_result",
          "data": {
            "text/plain": [
              "Record(InspectionID='70269', DBAName=\"mr.daniel's\", AKAName=\"mr.daniel's\", LicenseN='1899292', FacilityType='Restaurant', Risk='Risk 1 (High)', Address='5645 W BELMONT AVE ', City='CHICAGO', State='IL', Zip='60634', InspectionDate='01/04/2010', InspectionType='License Re-Inspection', Results='Pass', Violations='', Latitude='41.93844282365204', Longitude='-87.76831838068422', Location='\"(-87.76831838068422')"
            ]
          },
          "metadata": {
            "tags": []
          },
          "execution_count": 63
        }
      ]
    },
    {
      "cell_type": "code",
      "metadata": {
        "id": "1w-IaCQsTOfz"
      },
      "source": [
        "#para trabajar con dataframes se debe cargar previamente la libreria sql y crear la session en la variable spark\n",
        "from pyspark.sql import SparkSession\n",
        "spark = SparkSession.builder.appName(\"Test_spark\").master(\"local[*]\").getOrCreate()"
      ],
      "execution_count": null,
      "outputs": []
    },
    {
      "cell_type": "code",
      "metadata": {
        "colab": {
          "base_uri": "https://localhost:8080/"
        },
        "id": "rdEGJxmsScTc",
        "outputId": "4d3289bc-8595-436d-d7bb-e8e192e1d251"
      },
      "source": [
        "#realizamos la carga ahora en un dataframe\n",
        "fi=spark.read.options(header='true', delimiter=',').csv(\"drive/MyDrive/DatosPyspark/Food_Inspections.csv\")\n",
        "#revisemos el schema\n",
        "fi.schema\n",
        "#seleccionemos un registro del dataframe\n",
        "fi.take(1)"
      ],
      "execution_count": null,
      "outputs": [
        {
          "output_type": "execute_result",
          "data": {
            "text/plain": [
              "[Row(Inspection ID='70269', DBA Name=\"mr.daniel's\", AKA Name=\"mr.daniel's\", License #='1899292', Facility Type='Restaurant', Risk='Risk 1 (High)', Address='5645 W BELMONT AVE ', City='CHICAGO', State='IL', Zip='60634', Inspection Date='01/04/2010', Inspection Type='License Re-Inspection', Results='Pass', Violations=None, Latitude='41.93844282365204', Longitude='-87.76831838068422', Location='(-87.76831838068422, 41.93844282365204)')]"
            ]
          },
          "metadata": {
            "tags": []
          },
          "execution_count": 65
        }
      ]
    },
    {
      "cell_type": "code",
      "metadata": {
        "colab": {
          "base_uri": "https://localhost:8080/"
        },
        "id": "fuvxQA2qT9JC",
        "outputId": "29234b1c-2da1-40d2-e64a-1ac2cb0f041f"
      },
      "source": [
        "#mostremos los primeros 5 registros del dataframe\n",
        "fi.show(5)"
      ],
      "execution_count": null,
      "outputs": [
        {
          "output_type": "stream",
          "text": [
            "+-------------+--------------------+--------------------+---------+-------------+---------------+--------------------+-------+-----+-----+---------------+--------------------+-------+--------------------+------------------+------------------+--------------------+\n",
            "|Inspection ID|            DBA Name|            AKA Name|License #|Facility Type|           Risk|             Address|   City|State|  Zip|Inspection Date|     Inspection Type|Results|          Violations|          Latitude|         Longitude|            Location|\n",
            "+-------------+--------------------+--------------------+---------+-------------+---------------+--------------------+-------+-----+-----+---------------+--------------------+-------+--------------------+------------------+------------------+--------------------+\n",
            "|        70269|         mr.daniel's|         mr.daniel's|  1899292|   Restaurant|  Risk 1 (High)| 5645 W BELMONT AVE |CHICAGO|   IL|60634|     01/04/2010|License Re-Inspec...|   Pass|                null| 41.93844282365204|-87.76831838068422|(-87.768318380684...|\n",
            "|       104236|          TEMPO CAFE|          TEMPO CAFE|    80916|   Restaurant|  Risk 1 (High)|    6 E CHESTNUT ST |CHICAGO|   IL|60611|     01/04/2010|             Canvass|   Fail|18. NO EVIDENCE O...| 41.89843137207629| -87.6280091630558|(-87.628009163055...|\n",
            "|        67733|           WOLCOTT'S|             TROQUET|  1992040|   Restaurant|  Risk 1 (High)|1834 W MONTROSE AVE |CHICAGO|   IL|60613|     01/04/2010|License Re-Inspec...|   Pass|                null|41.961605669949854|-87.67596676683779|(-87.675966766837...|\n",
            "|        67757|DUNKIN DONUTS/BAS...|DUNKIN DONUTS/BAS...|  1380279|   Restaurant|Risk 2 (Medium)|  100 W RANDOLPH ST |CHICAGO|   IL|60601|     01/04/2010|         Tag Removal|   Pass|                null| 41.88458626715456|-87.63101044588599|(-87.631010445885...|\n",
            "|        67732|           WOLCOTT'S|             TROQUET|  1992039|   Restaurant|  Risk 1 (High)|1834 W MONTROSE AVE |CHICAGO|   IL|60613|     01/04/2010|License Re-Inspec...|   Pass|                null|41.961605669949854|-87.67596676683779|(-87.675966766837...|\n",
            "+-------------+--------------------+--------------------+---------+-------------+---------------+--------------------+-------+-----+-----+---------------+--------------------+-------+--------------------+------------------+------------------+--------------------+\n",
            "only showing top 5 rows\n",
            "\n"
          ],
          "name": "stdout"
        }
      ]
    },
    {
      "cell_type": "code",
      "metadata": {
        "id": "mqPHHF2ZUR4k"
      },
      "source": [
        "#creamos el schema con el fin de asignar tipos de datos a nuestro gusto\n",
        "from pyspark.sql.types import *\n",
        "schema = StructType([\n",
        "    StructField(\"Inspection ID\",IntegerType()),\n",
        "    StructField(\"DBA Name\",StringType()),\n",
        "    StructField(\"AKA Name\",StringType()),\n",
        "    StructField(\"License #\",StringType()),\n",
        "    StructField(\"Facility Type\",StringType()),\n",
        "    StructField(\"Risk\",StringType()),\n",
        "    StructField(\"Address\",StringType()),\n",
        "    StructField(\"City\",StringType()),\n",
        "    StructField(\"State\",StringType()),\n",
        "    StructField(\"Zip\",StringType()),\n",
        "    StructField(\"Inspection Date\",StringType()),\n",
        "    StructField(\"Inspection Type\",StringType()),\n",
        "    StructField(\"Results\",StringType()),\n",
        "    StructField(\"Violations\",StringType()),\n",
        "    StructField(\"Latitude\",StringType()),\n",
        "    StructField(\"Longitude\",StringType()),\n",
        "    StructField(\"Location\",StringType())\n",
        "])"
      ],
      "execution_count": null,
      "outputs": []
    },
    {
      "cell_type": "code",
      "metadata": {
        "colab": {
          "base_uri": "https://localhost:8080/"
        },
        "id": "HzwHFCCaWS1T",
        "outputId": "8fe05715-cfc5-490a-f867-d2e2c98be20b"
      },
      "source": [
        "# Nuevamente importamos los datos y le asignamos el schema con el tipo de datos asignado\n",
        "fi=spark.read.options(header='true',delimiter=',').schema(schema).csv (\"drive/MyDrive/DatosPyspark/Food_Inspections.csv\")\n",
        "fi.schema"
      ],
      "execution_count": null,
      "outputs": [
        {
          "output_type": "execute_result",
          "data": {
            "text/plain": [
              "StructType(List(StructField(Inspection ID,IntegerType,true),StructField(DBA Name,StringType,true),StructField(AKA Name,StringType,true),StructField(License #,StringType,true),StructField(Facility Type,StringType,true),StructField(Risk,StringType,true),StructField(Address,StringType,true),StructField(City,StringType,true),StructField(State,StringType,true),StructField(Zip,StringType,true),StructField(Inspection Date,StringType,true),StructField(Inspection Type,StringType,true),StructField(Results,StringType,true),StructField(Violations,StringType,true),StructField(Latitude,StringType,true),StructField(Longitude,StringType,true),StructField(Location,StringType,true)))"
            ]
          },
          "metadata": {
            "tags": []
          },
          "execution_count": 68
        }
      ]
    },
    {
      "cell_type": "markdown",
      "metadata": {
        "id": "pZQP1rkKOUV5"
      },
      "source": [
        "### 4.1. En necesario dividir el dataframe en datos de entrenamiento y datos de prueba, por lo que el 80% de los datos aleatorios se utilizaran para el entrenamiento y el 20% restante se utilizará para pruebas. "
      ]
    },
    {
      "cell_type": "code",
      "metadata": {
        "id": "wBNPLn_FOxQM"
      },
      "source": [
        "#importamos la libreria para trabajar con dataframes\n",
        "from pyspark.sql.dataframe import *\n"
      ],
      "execution_count": null,
      "outputs": []
    },
    {
      "cell_type": "code",
      "metadata": {
        "colab": {
          "base_uri": "https://localhost:8080/"
        },
        "id": "vCYgnA3xPYCQ",
        "outputId": "8de2d203-c167-4108-af62-9d1f2666fb99"
      },
      "source": [
        "#El daataframe original tiene 172.882 registros, entonces se dividira de forma aleatoria 80% y 20%\n",
        "fi.count()"
      ],
      "execution_count": null,
      "outputs": [
        {
          "output_type": "execute_result",
          "data": {
            "text/plain": [
              "172882"
            ]
          },
          "metadata": {
            "tags": []
          },
          "execution_count": 70
        }
      ]
    },
    {
      "cell_type": "code",
      "metadata": {
        "colab": {
          "base_uri": "https://localhost:8080/"
        },
        "id": "w8Wb5pd4Qvjh",
        "outputId": "43db8a63-1b19-497f-d9e8-400132915e53"
      },
      "source": [
        "#el dataframe fi \n",
        "type(fi)"
      ],
      "execution_count": null,
      "outputs": [
        {
          "output_type": "execute_result",
          "data": {
            "text/plain": [
              "pyspark.sql.dataframe.DataFrame"
            ]
          },
          "metadata": {
            "tags": []
          },
          "execution_count": 71
        }
      ]
    },
    {
      "cell_type": "code",
      "metadata": {
        "id": "OXdqrsaVRq4H"
      },
      "source": [
        "#se utiliza la funcion randomSplit para dividir el dataframe el 0 al final es el parametro seed() = o semilla para que sea aleatorio\n",
        "# los 2 dataframes se guardan ahora en una colleccion de dataframes\n",
        "df_list = fi.randomSplit([8.0, 2.0], 0)"
      ],
      "execution_count": null,
      "outputs": []
    },
    {
      "cell_type": "code",
      "metadata": {
        "colab": {
          "base_uri": "https://localhost:8080/"
        },
        "id": "Wgd0UXTVPL0m",
        "outputId": "4fa7cbae-5ac4-418b-af92-d2c5fab4ff4b"
      },
      "source": [
        "#Accedemos al primer registro de la coleccion y contamos cuantas filas tiene\n",
        "df_list[0].count()\n"
      ],
      "execution_count": null,
      "outputs": [
        {
          "output_type": "execute_result",
          "data": {
            "text/plain": [
              "137993"
            ]
          },
          "metadata": {
            "tags": []
          },
          "execution_count": 73
        }
      ]
    },
    {
      "cell_type": "code",
      "metadata": {
        "colab": {
          "base_uri": "https://localhost:8080/"
        },
        "id": "9j0W8wuUV2W4",
        "outputId": "3fdb25c5-7185-42d5-adb5-7a6a19780a35"
      },
      "source": [
        "#Accedemos al segundo registro de la coleccion y contamos cuantas filas tiene\n",
        "df_list[1].count()"
      ],
      "execution_count": null,
      "outputs": [
        {
          "output_type": "execute_result",
          "data": {
            "text/plain": [
              "34889"
            ]
          },
          "metadata": {
            "tags": []
          },
          "execution_count": 74
        }
      ]
    },
    {
      "cell_type": "code",
      "metadata": {
        "id": "h2QwWmKRP7in"
      },
      "source": [
        "#asignamos cada elemento de la colleccion a un nuevo data frame\n",
        "fi1 = df_list[0]\n",
        "fi2 = df_list[1]\n"
      ],
      "execution_count": null,
      "outputs": []
    },
    {
      "cell_type": "code",
      "metadata": {
        "colab": {
          "base_uri": "https://localhost:8080/"
        },
        "id": "Mne_PGB3lAak",
        "outputId": "6adedc50-0988-48de-f89a-0c374667cef4"
      },
      "source": [
        "fi1.show(5)"
      ],
      "execution_count": null,
      "outputs": [
        {
          "output_type": "stream",
          "text": [
            "+-------------+--------------------+--------------------+---------+-------------+-------------+--------------------+-------+-----+-----+---------------+--------------------+-------+--------------------+-----------------+------------------+--------------------+\n",
            "|Inspection ID|            DBA Name|            AKA Name|License #|Facility Type|         Risk|             Address|   City|State|  Zip|Inspection Date|     Inspection Type|Results|          Violations|         Latitude|         Longitude|            Location|\n",
            "+-------------+--------------------+--------------------+---------+-------------+-------------+--------------------+-------+-----+-----+---------------+--------------------+-------+--------------------+-----------------+------------------+--------------------+\n",
            "|        44247|          EAT A PITA|          EAT A PITA|  1222441|   Restaurant|Risk 1 (High)|  3155 N HALSTED ST |CHICAGO|   IL|60657|     01/05/2010|           Complaint|   Pass|30. FOOD IN ORIGI...|41.93944115701468|-87.64910277148812|(-87.649102771488...|\n",
            "|        44248|          LA GONDOLA|          LA GONDOLA|  1336561|   Restaurant|Risk 1 (High)| 2914 N ASHLAND AVE |CHICAGO|   IL|60657|     01/21/2010|             Canvass|   Pass|32. FOOD AND NON-...|41.93467889167928|-87.66862496860755|(-87.668624968607...|\n",
            "|        44249|Azha Restaurant Inc.|     Azha Restaurant|  1334073|   Restaurant|Risk 1 (High)|  960 W BELMONT AVE |CHICAGO|   IL|60657|     01/21/2010|Canvass Re-Inspec...|   Pass|35. WALLS, CEILIN...|41.94002687624888|-87.65381102535457|(-87.653811025354...|\n",
            "|        44250|SAINT JOSEPH HOSP...|SAINT JOSEPH HOSP...|  1144381|     Hospital|Risk 1 (High)|2900 N LAKE SHORE...|CHICAGO|   IL|60657|     02/09/2010|             Canvass|   Pass|33. FOOD AND NON-...|41.93440298707838|-87.63680583708285|(-87.636805837082...|\n",
            "|        44251|SAINT JOSEPH HOSP...|SAINT JOSEPH HOSP...|  1144380|     Hospital|Risk 1 (High)|2900 N LAKE SHORE...|CHICAGO|   IL|60657|     02/09/2010|             Canvass|   Pass|33. FOOD AND NON-...|41.93440298707838|-87.63680583708285|(-87.636805837082...|\n",
            "+-------------+--------------------+--------------------+---------+-------------+-------------+--------------------+-------+-----+-----+---------------+--------------------+-------+--------------------+-----------------+------------------+--------------------+\n",
            "only showing top 5 rows\n",
            "\n"
          ],
          "name": "stdout"
        }
      ]
    },
    {
      "cell_type": "code",
      "metadata": {
        "colab": {
          "base_uri": "https://localhost:8080/"
        },
        "id": "ktRWi2BJlJCg",
        "outputId": "0eb8afad-8641-4e05-a8ae-5a18656b5716"
      },
      "source": [
        "fi2.show(5)"
      ],
      "execution_count": null,
      "outputs": [
        {
          "output_type": "stream",
          "text": [
            "+-------------+--------------------+--------------------+---------+-------------+-------------+--------------------+-------+-----+-----+---------------+---------------+-------+--------------------+------------------+------------------+--------------------+\n",
            "|Inspection ID|            DBA Name|            AKA Name|License #|Facility Type|         Risk|             Address|   City|State|  Zip|Inspection Date|Inspection Type|Results|          Violations|          Latitude|         Longitude|            Location|\n",
            "+-------------+--------------------+--------------------+---------+-------------+-------------+--------------------+-------+-----+-----+---------------+---------------+-------+--------------------+------------------+------------------+--------------------+\n",
            "|        48216|         Hanson Park|         Hanson Park|    24461|       School|Risk 1 (High)|5411 W Fullerton ...|CHICAGO|   IL|60639|     01/13/2010|        Canvass|   Pass|33. FOOD AND NON-...| 41.92392770522664|-87.76152094466592|(-87.761520944665...|\n",
            "|        48217|  Hanson Park Branch|  Hanson Park Branch|    24462|       School|Risk 1 (High)|    2318 N Lorel ST |CHICAGO|   IL|60639|     01/13/2010|        Canvass|   Pass|34. FLOORS: CONST...|41.922831144138776|-87.75994374773492|(-87.759943747734...|\n",
            "|        48224|JOE'S BARBECUE & ...|JOE'S BARBECUE & ...|  2017606|   Restaurant|Risk 1 (High)|   5931 W North AVE |CHICAGO|   IL|60639|     02/08/2010|        License|   Fail|34. FLOORS: CONST...| 41.90915795561416|-87.77445018724043|(-87.774450187240...|\n",
            "|        48225|SHRINERS HOSPITAL...|SHRINERS HOSPITAL...|    15783|     Hospital|Risk 1 (High)|2211 N OAK PARK AVE |CHICAGO|   IL|60707|     03/02/2010|        Canvass|   Pass|32. FOOD AND NON-...|41.920336171536384| -87.7949943024895|(-87.794994302489...|\n",
            "|        48226|SHRINERS HOSPITAL...|SHRINERS HOSPITAL...|    15784|     Hospital|Risk 1 (High)|2211 N OAK PARK AVE |CHICAGO|   IL|60707|     03/02/2010|        Canvass|   Pass|32. FOOD AND NON-...|41.920336171536384| -87.7949943024895|(-87.794994302489...|\n",
            "+-------------+--------------------+--------------------+---------+-------------+-------------+--------------------+-------+-----+-----+---------------+---------------+-------+--------------------+------------------+------------------+--------------------+\n",
            "only showing top 5 rows\n",
            "\n"
          ],
          "name": "stdout"
        }
      ]
    },
    {
      "cell_type": "code",
      "metadata": {
        "colab": {
          "base_uri": "https://localhost:8080/"
        },
        "id": "l-GNCLzfWjA-",
        "outputId": "8efe366b-68cd-40f9-9383-d221a52f2c07"
      },
      "source": [
        "#seleccionamos fi1 como dataframe de entrenamiento y miramos el contenido de las variables de interes\n",
        "fi1.select('Inspection ID', 'DBA Name', 'Results', 'Violations' ).show()"
      ],
      "execution_count": null,
      "outputs": [
        {
          "output_type": "stream",
          "text": [
            "+-------------+--------------------+------------------+--------------------+\n",
            "|Inspection ID|            DBA Name|           Results|          Violations|\n",
            "+-------------+--------------------+------------------+--------------------+\n",
            "|        44247|          EAT A PITA|              Pass|30. FOOD IN ORIGI...|\n",
            "|        44248|          LA GONDOLA|              Pass|32. FOOD AND NON-...|\n",
            "|        44249|Azha Restaurant Inc.|              Pass|35. WALLS, CEILIN...|\n",
            "|        44250|SAINT JOSEPH HOSP...|              Pass|33. FOOD AND NON-...|\n",
            "|        44251|SAINT JOSEPH HOSP...|              Pass|33. FOOD AND NON-...|\n",
            "|        44252|  CHARTWELL'S DINING|              Pass|32. FOOD AND NON-...|\n",
            "|        44253|      ROCKS LAKEVIEW|Pass w/ Conditions|10. SEWAGE AND WA...|\n",
            "|        44254|              SUBWAY|              Pass|                null|\n",
            "|        44255|TONY'S BURRITO ME...|              Fail|18. NO EVIDENCE O...|\n",
            "|        44256|          EAT A PITA|Pass w/ Conditions|3. POTENTIALLY HA...|\n",
            "|        44257|AMUNDSEN HIGH SCHOOL|Pass w/ Conditions|2. FACILITIES TO ...|\n",
            "|        44258|JIMMY JOHNS SANDW...|              Pass|40. REFRIGERATION...|\n",
            "|        44259|NORTHSIDE COLLEGE...|              Pass|32. FOOD AND NON-...|\n",
            "|        44260|ALBANY PARK CAMPU...|              Pass|33. FOOD AND NON-...|\n",
            "|        44261|     WALGREENS #6270|              Pass|                null|\n",
            "|        44262|NEW PEKING RESTAU...|              Pass|33. FOOD AND NON-...|\n",
            "|        48212|     EL GRAN BURRITO|              Pass|32. FOOD AND NON-...|\n",
            "|        48213|RESTAURANT EL RAN...|              Pass|32. FOOD AND NON-...|\n",
            "|        48214|LA PANADERIA CENT...|              Pass|32. FOOD AND NON-...|\n",
            "|        48215|GOLDEN CROWN REST...|              Fail|33. FOOD AND NON-...|\n",
            "+-------------+--------------------+------------------+--------------------+\n",
            "only showing top 20 rows\n",
            "\n"
          ],
          "name": "stdout"
        }
      ]
    },
    {
      "cell_type": "code",
      "metadata": {
        "colab": {
          "base_uri": "https://localhost:8080/"
        },
        "id": "TkMe3HKNXQzN",
        "outputId": "2f5b215e-da3c-43ff-c4e6-9520722ebec7"
      },
      "source": [
        "#creamos un nuevo dataframe con estas variables\n",
        "fic = fi1.select('Inspection ID', 'DBA Name', 'Results', 'Violations' )\n",
        "fic.show(5)"
      ],
      "execution_count": null,
      "outputs": [
        {
          "output_type": "stream",
          "text": [
            "+-------------+--------------------+-------+--------------------+\n",
            "|Inspection ID|            DBA Name|Results|          Violations|\n",
            "+-------------+--------------------+-------+--------------------+\n",
            "|        44247|          EAT A PITA|   Pass|30. FOOD IN ORIGI...|\n",
            "|        44248|          LA GONDOLA|   Pass|32. FOOD AND NON-...|\n",
            "|        44249|Azha Restaurant Inc.|   Pass|35. WALLS, CEILIN...|\n",
            "|        44250|SAINT JOSEPH HOSP...|   Pass|33. FOOD AND NON-...|\n",
            "|        44251|SAINT JOSEPH HOSP...|   Pass|33. FOOD AND NON-...|\n",
            "+-------------+--------------------+-------+--------------------+\n",
            "only showing top 5 rows\n",
            "\n"
          ],
          "name": "stdout"
        }
      ]
    },
    {
      "cell_type": "code",
      "metadata": {
        "colab": {
          "base_uri": "https://localhost:8080/"
        },
        "id": "3CPx6F1wlUMS",
        "outputId": "f48a6833-804a-4266-a9df-f94d98b4296b"
      },
      "source": [
        "# ahora eliminamos los registros que no tenga algun campo no disponible, y muestre los primeros 5 \n",
        "fic.dropna('any').show(5)"
      ],
      "execution_count": null,
      "outputs": [
        {
          "output_type": "stream",
          "text": [
            "+-------------+--------------------+-------+--------------------+\n",
            "|Inspection ID|            DBA Name|Results|          Violations|\n",
            "+-------------+--------------------+-------+--------------------+\n",
            "|        44247|          EAT A PITA|   Pass|30. FOOD IN ORIGI...|\n",
            "|        44248|          LA GONDOLA|   Pass|32. FOOD AND NON-...|\n",
            "|        44249|Azha Restaurant Inc.|   Pass|35. WALLS, CEILIN...|\n",
            "|        44250|SAINT JOSEPH HOSP...|   Pass|33. FOOD AND NON-...|\n",
            "|        44251|SAINT JOSEPH HOSP...|   Pass|33. FOOD AND NON-...|\n",
            "+-------------+--------------------+-------+--------------------+\n",
            "only showing top 5 rows\n",
            "\n"
          ],
          "name": "stdout"
        }
      ]
    },
    {
      "cell_type": "code",
      "metadata": {
        "colab": {
          "base_uri": "https://localhost:8080/"
        },
        "id": "Rym3yIZ4lqvM",
        "outputId": "dceeceb0-96e6-4813-8a9b-2ffca41bb27d"
      },
      "source": [
        "# ahora eliminamos siempre y cuando todo la fila sera nula  y muestreme los primero 5 \n",
        "fic.dropna('all').show(5)"
      ],
      "execution_count": null,
      "outputs": [
        {
          "output_type": "stream",
          "text": [
            "+-------------+--------------------+-------+--------------------+\n",
            "|Inspection ID|            DBA Name|Results|          Violations|\n",
            "+-------------+--------------------+-------+--------------------+\n",
            "|        44247|          EAT A PITA|   Pass|30. FOOD IN ORIGI...|\n",
            "|        44248|          LA GONDOLA|   Pass|32. FOOD AND NON-...|\n",
            "|        44249|Azha Restaurant Inc.|   Pass|35. WALLS, CEILIN...|\n",
            "|        44250|SAINT JOSEPH HOSP...|   Pass|33. FOOD AND NON-...|\n",
            "|        44251|SAINT JOSEPH HOSP...|   Pass|33. FOOD AND NON-...|\n",
            "+-------------+--------------------+-------+--------------------+\n",
            "only showing top 5 rows\n",
            "\n"
          ],
          "name": "stdout"
        }
      ]
    },
    {
      "cell_type": "code",
      "metadata": {
        "colab": {
          "base_uri": "https://localhost:8080/"
        },
        "id": "0OkBrJOmltPW",
        "outputId": "a1a6cac7-a6d8-46fd-ef80-0158180fae01"
      },
      "source": [
        "#ahora creamos un nuevo dataframe y le decimos que nos elimine los nulos que esten es las 2 columnas inspection y DBA name\n",
        "ficne1=fic.dropna(subset=['Inspection ID','DBA Name'])\n",
        "\n",
        "ficne1.show(5)"
      ],
      "execution_count": null,
      "outputs": [
        {
          "output_type": "stream",
          "text": [
            "+-------------+--------------------+-------+--------------------+\n",
            "|Inspection ID|            DBA Name|Results|          Violations|\n",
            "+-------------+--------------------+-------+--------------------+\n",
            "|        44247|          EAT A PITA|   Pass|30. FOOD IN ORIGI...|\n",
            "|        44248|          LA GONDOLA|   Pass|32. FOOD AND NON-...|\n",
            "|        44249|Azha Restaurant Inc.|   Pass|35. WALLS, CEILIN...|\n",
            "|        44250|SAINT JOSEPH HOSP...|   Pass|33. FOOD AND NON-...|\n",
            "|        44251|SAINT JOSEPH HOSP...|   Pass|33. FOOD AND NON-...|\n",
            "+-------------+--------------------+-------+--------------------+\n",
            "only showing top 5 rows\n",
            "\n"
          ],
          "name": "stdout"
        }
      ]
    },
    {
      "cell_type": "code",
      "metadata": {
        "colab": {
          "base_uri": "https://localhost:8080/"
        },
        "id": "D1aWlyjJn-6-",
        "outputId": "b7e80bcc-e69a-4c20-9a9b-170921139f48"
      },
      "source": [
        "#creamos un nuevo datafrme que contiene valores nulos en las columnas results y violations y que me los llene con cadenas vacias\n",
        "ficne=ficne1.na.fill({'Results':'', 'Violations':''})\n",
        "ficne.show(5)"
      ],
      "execution_count": null,
      "outputs": [
        {
          "output_type": "stream",
          "text": [
            "+-------------+--------------------+-------+--------------------+\n",
            "|Inspection ID|            DBA Name|Results|          Violations|\n",
            "+-------------+--------------------+-------+--------------------+\n",
            "|        44247|          EAT A PITA|   Pass|30. FOOD IN ORIGI...|\n",
            "|        44248|          LA GONDOLA|   Pass|32. FOOD AND NON-...|\n",
            "|        44249|Azha Restaurant Inc.|   Pass|35. WALLS, CEILIN...|\n",
            "|        44250|SAINT JOSEPH HOSP...|   Pass|33. FOOD AND NON-...|\n",
            "|        44251|SAINT JOSEPH HOSP...|   Pass|33. FOOD AND NON-...|\n",
            "+-------------+--------------------+-------+--------------------+\n",
            "only showing top 5 rows\n",
            "\n"
          ],
          "name": "stdout"
        }
      ]
    },
    {
      "cell_type": "code",
      "metadata": {
        "colab": {
          "base_uri": "https://localhost:8080/"
        },
        "id": "XbQECmm1oVMx",
        "outputId": "26caff2c-cdc8-4940-b05d-0326d376c55b"
      },
      "source": [
        "#Ahora hagamos un filtrado de la columna result para que nos muestre cuales con las categorias que tiene esa columna\n",
        "ficne.select(\"Results\").distinct().show()"
      ],
      "execution_count": null,
      "outputs": [
        {
          "output_type": "stream",
          "text": [
            "+--------------------+\n",
            "|             Results|\n",
            "+--------------------+\n",
            "|           Not Ready|\n",
            "|                Fail|\n",
            "|            No Entry|\n",
            "|Business Not Located|\n",
            "|  Pass w/ Conditions|\n",
            "|     Out of Business|\n",
            "|                Pass|\n",
            "+--------------------+\n",
            "\n"
          ],
          "name": "stdout"
        }
      ]
    },
    {
      "cell_type": "code",
      "metadata": {
        "id": "-AIeXqhMoefF"
      },
      "source": [
        "#crea una tabla temporal para poder realizar consultas SQL puras, la nueva tabla llamada CountResults\n",
        "ficne.registerTempTable('CountResults')"
      ],
      "execution_count": null,
      "outputs": []
    },
    {
      "cell_type": "code",
      "metadata": {
        "colab": {
          "base_uri": "https://localhost:8080/"
        },
        "id": "TasxsmPJo3za",
        "outputId": "f51d2626-ef0f-43e5-e5a0-0b64d5c21af3"
      },
      "source": [
        "type('CountResults')"
      ],
      "execution_count": null,
      "outputs": [
        {
          "output_type": "execute_result",
          "data": {
            "text/plain": [
              "str"
            ]
          },
          "metadata": {
            "tags": []
          },
          "execution_count": 86
        }
      ]
    },
    {
      "cell_type": "code",
      "metadata": {
        "colab": {
          "base_uri": "https://localhost:8080/"
        },
        "id": "RWerxBBMpF_F",
        "outputId": "ac60b0e3-4d9b-4980-b7d2-f8b0150c94cc"
      },
      "source": [
        "#Creamos un dataframe nuevo que almacena la consulta realizada en SQL sobre la tabla anterior\n",
        "#la siguiente consulta cuenta cuentos hay de cada categoria resultado\n",
        "cr1 = spark.sql(\"SELECT COUNT(Results) AS Cnt, Results FROM CountResults GROUP BY Results\")\n",
        "cr1.show()"
      ],
      "execution_count": null,
      "outputs": [
        {
          "output_type": "stream",
          "text": [
            "+-----+--------------------+\n",
            "|  Cnt|             Results|\n",
            "+-----+--------------------+\n",
            "|  980|           Not Ready|\n",
            "|26717|                Fail|\n",
            "| 4084|            No Entry|\n",
            "|   47|Business Not Located|\n",
            "|13268|  Pass w/ Conditions|\n",
            "|12196|     Out of Business|\n",
            "|80701|                Pass|\n",
            "+-----+--------------------+\n",
            "\n"
          ],
          "name": "stdout"
        }
      ]
    },
    {
      "cell_type": "code",
      "metadata": {
        "colab": {
          "base_uri": "https://localhost:8080/"
        },
        "id": "IR03E7Me3aE3",
        "outputId": "d422790d-f0da-4aa2-a3be-6c3164596431"
      },
      "source": [
        "#cracion de listas a partir de un dataframe\n",
        "type(cr1)"
      ],
      "execution_count": null,
      "outputs": [
        {
          "output_type": "execute_result",
          "data": {
            "text/plain": [
              "pyspark.sql.dataframe.DataFrame"
            ]
          },
          "metadata": {
            "tags": []
          },
          "execution_count": 88
        }
      ]
    },
    {
      "cell_type": "code",
      "metadata": {
        "colab": {
          "base_uri": "https://localhost:8080/"
        },
        "id": "71kplsjF3kyw",
        "outputId": "433114e8-99d1-4329-de54-cc0c18f84ef4"
      },
      "source": [
        "#cuando utilizamos collect() sobre dataframe nos devuelve una lista de filas\n",
        "type(cr1.collect())"
      ],
      "execution_count": null,
      "outputs": [
        {
          "output_type": "execute_result",
          "data": {
            "text/plain": [
              "list"
            ]
          },
          "metadata": {
            "tags": []
          },
          "execution_count": 89
        }
      ]
    },
    {
      "cell_type": "code",
      "metadata": {
        "colab": {
          "base_uri": "https://localhost:8080/"
        },
        "id": "lvHCCCqG3oh2",
        "outputId": "13b8bd27-fb36-49eb-e134-1c00565f8993"
      },
      "source": [
        "#seleccionamos el primer elemento de la lista\n",
        "cr1.collect()[0]"
      ],
      "execution_count": null,
      "outputs": [
        {
          "output_type": "execute_result",
          "data": {
            "text/plain": [
              "Row(Cnt=980, Results='Not Ready')"
            ]
          },
          "metadata": {
            "tags": []
          },
          "execution_count": 90
        }
      ]
    },
    {
      "cell_type": "code",
      "metadata": {
        "id": "hs4xI2qU3zFF"
      },
      "source": [
        "#creamos 2 listas una para la columna contar y otra para los resultados\n",
        "crl=cr1.collect()\n",
        "cnt=list(map(lambda x: x.Cnt, crl))\n",
        "results=list(map(lambda x: x.Results, crl))"
      ],
      "execution_count": null,
      "outputs": []
    },
    {
      "cell_type": "code",
      "metadata": {
        "colab": {
          "base_uri": "https://localhost:8080/"
        },
        "id": "UUAy-4hL1ilF",
        "outputId": "8a6bc7ab-12cd-4fb2-a481-6019348a6673"
      },
      "source": [
        "cnt"
      ],
      "execution_count": null,
      "outputs": [
        {
          "output_type": "execute_result",
          "data": {
            "text/plain": [
              "[980, 26717, 4084, 47, 13268, 12196, 80701]"
            ]
          },
          "metadata": {
            "tags": []
          },
          "execution_count": 92
        }
      ]
    },
    {
      "cell_type": "code",
      "metadata": {
        "colab": {
          "base_uri": "https://localhost:8080/"
        },
        "id": "B_aYckHE3-ad",
        "outputId": "386d4acc-d7d6-4a23-dfd3-15be25396061"
      },
      "source": [
        "results\n"
      ],
      "execution_count": null,
      "outputs": [
        {
          "output_type": "execute_result",
          "data": {
            "text/plain": [
              "['Not Ready',\n",
              " 'Fail',\n",
              " 'No Entry',\n",
              " 'Business Not Located',\n",
              " 'Pass w/ Conditions',\n",
              " 'Out of Business',\n",
              " 'Pass']"
            ]
          },
          "metadata": {
            "tags": []
          },
          "execution_count": 93
        }
      ]
    },
    {
      "cell_type": "code",
      "metadata": {
        "colab": {
          "base_uri": "https://localhost:8080/",
          "height": 605
        },
        "id": "lxtpJf613YDY",
        "outputId": "8624d494-f484-42b0-b493-834b86e363fa"
      },
      "source": [
        "#graficas\n",
        "import matplotlib.pyplot as plt\n",
        "plt.pie(cnt,labels=results,autopct='%1.1f%%')"
      ],
      "execution_count": null,
      "outputs": [
        {
          "output_type": "execute_result",
          "data": {
            "text/plain": [
              "([<matplotlib.patches.Wedge at 0x7f711cda8910>,\n",
              "  <matplotlib.patches.Wedge at 0x7f711cdb9150>,\n",
              "  <matplotlib.patches.Wedge at 0x7f711cdb99d0>,\n",
              "  <matplotlib.patches.Wedge at 0x7f711cdc4310>,\n",
              "  <matplotlib.patches.Wedge at 0x7f711cdc4e50>,\n",
              "  <matplotlib.patches.Wedge at 0x7f711cdcb7d0>,\n",
              "  <matplotlib.patches.Wedge at 0x7f711cdcbd90>],\n",
              " [Text(1.0997262321346997, 0.02454005612904309, 'Not Ready'),\n",
              "  Text(0.8737781940833201, 0.6682152853268861, 'Fail'),\n",
              "  Text(0.2365101109169892, 1.0742732275515543, 'No Entry'),\n",
              "  Text(0.1345809036140844, 1.09173622289563, 'Business Not Located'),\n",
              "  Text(-0.19745192677668086, 1.0821334190441474, 'Pass w/ Conditions'),\n",
              "  Text(-0.7579742353435359, 0.7971668950448094, 'Out of Business'),\n",
              "  Text(-0.28965882961680317, -1.0611775357710056, 'Pass')],\n",
              " [Text(0.5998506720734725, 0.013385485161296229, '0.7%'),\n",
              "  Text(0.4766062876818109, 0.364481064723756, '19.4%'),\n",
              "  Text(0.12900551504563046, 0.5859672150281204, '3.0%'),\n",
              "  Text(0.07340776560768239, 0.5954924852157981, '0.0%'),\n",
              "  Text(-0.10770105096909864, 0.5902545922058985, '9.6%'),\n",
              "  Text(-0.413440492005565, 0.43481830638807784, '8.8%'),\n",
              "  Text(-0.157995725245529, -0.5788241104205485, '58.5%')])"
            ]
          },
          "metadata": {
            "tags": []
          },
          "execution_count": 94
        },
        {
          "output_type": "display_data",
          "data": {
            "image/png": "[encoded data removed]",
            "text/plain": [
              "<Figure size 432x288 with 1 Axes>"
            ]
          },
          "metadata": {
            "tags": []
          }
        }
      ]
    },
    {
      "cell_type": "code",
      "metadata": {
        "colab": {
          "base_uri": "https://localhost:8080/"
        },
        "id": "XEu5ANUM-sPI",
        "outputId": "9c4c3ed6-1e0e-4004-fa36-af334f42f0dd"
      },
      "source": [
        "#seguimos trabajando con el dataframe ficne\n",
        "ficne.show(5)"
      ],
      "execution_count": null,
      "outputs": [
        {
          "output_type": "stream",
          "text": [
            "+-------------+--------------------+-------+--------------------+\n",
            "|Inspection ID|            DBA Name|Results|          Violations|\n",
            "+-------------+--------------------+-------+--------------------+\n",
            "|        44247|          EAT A PITA|   Pass|30. FOOD IN ORIGI...|\n",
            "|        44248|          LA GONDOLA|   Pass|32. FOOD AND NON-...|\n",
            "|        44249|Azha Restaurant Inc.|   Pass|35. WALLS, CEILIN...|\n",
            "|        44250|SAINT JOSEPH HOSP...|   Pass|33. FOOD AND NON-...|\n",
            "|        44251|SAINT JOSEPH HOSP...|   Pass|33. FOOD AND NON-...|\n",
            "+-------------+--------------------+-------+--------------------+\n",
            "only showing top 5 rows\n",
            "\n"
          ],
          "name": "stdout"
        }
      ]
    },
    {
      "cell_type": "code",
      "metadata": {
        "id": "qKHUXRi28Q_A"
      },
      "source": [
        "#creamos una funcion para clasificar en valores categoricos(0,1) si un comercio paso o no la revision\n",
        "def labelForResults(r):\n",
        "  if r == 'Fail':\n",
        "    return 0.0\n",
        "  elif r == 'Pass w/ Conditions' or r == 'Pass':\n",
        "    return 1.0\n",
        "  else:\n",
        "    return 1.0"
      ],
      "execution_count": null,
      "outputs": []
    },
    {
      "cell_type": "code",
      "metadata": {
        "colab": {
          "base_uri": "https://localhost:8080/"
        },
        "id": "atsn8WjWAgPF",
        "outputId": "831f59f9-6779-4117-b121-ae7444d82110"
      },
      "source": [
        "#invocamos la funcion\n",
        "labelf=spark.udf.register('labelf', labelForResults, DoubleType())\n",
        "type(labelf)"
      ],
      "execution_count": null,
      "outputs": [
        {
          "output_type": "execute_result",
          "data": {
            "text/plain": [
              "function"
            ]
          },
          "metadata": {
            "tags": []
          },
          "execution_count": 97
        }
      ]
    },
    {
      "cell_type": "code",
      "metadata": {
        "colab": {
          "base_uri": "https://localhost:8080/"
        },
        "id": "_nyc5_bf8sqW",
        "outputId": "175ba783-f046-4d76-d653-e095b052ec14"
      },
      "source": [
        "#creamos una columna calculada de tipo dataframe utilizando la funcion \n",
        "labeledData=ficne.select(labelf(ficne.Results).alias('label'), ficne.Violations).where('label >= 0')\n",
        "labeledData.show()\n"
      ],
      "execution_count": null,
      "outputs": [
        {
          "output_type": "stream",
          "text": [
            "+-----+--------------------+\n",
            "|label|          Violations|\n",
            "+-----+--------------------+\n",
            "|  1.0|30. FOOD IN ORIGI...|\n",
            "|  1.0|32. FOOD AND NON-...|\n",
            "|  1.0|35. WALLS, CEILIN...|\n",
            "|  1.0|33. FOOD AND NON-...|\n",
            "|  1.0|33. FOOD AND NON-...|\n",
            "|  1.0|32. FOOD AND NON-...|\n",
            "|  1.0|10. SEWAGE AND WA...|\n",
            "|  1.0|                    |\n",
            "|  0.0|18. NO EVIDENCE O...|\n",
            "|  1.0|3. POTENTIALLY HA...|\n",
            "|  1.0|2. FACILITIES TO ...|\n",
            "|  1.0|40. REFRIGERATION...|\n",
            "|  1.0|32. FOOD AND NON-...|\n",
            "|  1.0|33. FOOD AND NON-...|\n",
            "|  1.0|                    |\n",
            "|  1.0|33. FOOD AND NON-...|\n",
            "|  1.0|32. FOOD AND NON-...|\n",
            "|  1.0|32. FOOD AND NON-...|\n",
            "|  1.0|32. FOOD AND NON-...|\n",
            "|  0.0|33. FOOD AND NON-...|\n",
            "+-----+--------------------+\n",
            "only showing top 20 rows\n",
            "\n"
          ],
          "name": "stdout"
        }
      ]
    },
    {
      "cell_type": "code",
      "metadata": {
        "colab": {
          "base_uri": "https://localhost:8080/"
        },
        "id": "WqX8phLa9hbH",
        "outputId": "8d95120f-d629-4e6a-d83b-d65bdf628ff4"
      },
      "source": [
        "#seleccionamos 3 registros y mostramos el 2 registro\n",
        "labeledData.take(3)[1]"
      ],
      "execution_count": null,
      "outputs": [
        {
          "output_type": "execute_result",
          "data": {
            "text/plain": [
              "Row(label=1.0, Violations='32. FOOD AND NON-FOOD CONTACT SURFACES PROPERLY DESIGNED, CONSTRUCTED AND MAINTAINED - Comments: All food and non-food contact equipment and utensils shall be smooth, easily cleanable, and durable, and shall be in good repair.  INTERIOR OF CHEST FREEZER DOOR HAS EXPOSED INSULATION AND CRACKED PLASTIC.  MUST REPAIR OR REPLACE. | 33. FOOD AND NON-FOOD CONTACT EQUIPMENT UTENSILS CLEAN, FREE OF ABRASIVE DETERGENTS - Comments: All food and non-food contact surfaces of equipment and all food storage utensils shall be thoroughly cleaned and sanitized daily.  DETAIL CLEAN THE INTERIOR OF THE MICROWAVE AND THE VENTILATION HOOD. | 38. VENTILATION: ROOMS AND EQUIPMENT VENTED AS REQUIRED: PLUMBING: INSTALLED AND MAINTAINED - Comments: REPAIR THE DRAIN STOPPER FOR THE RIGHT COMPARTMENT OF THE 3 COMPARTMENT SINK SO THAT IT CAN BE USED TO HOLD WATER.')"
            ]
          },
          "metadata": {
            "tags": []
          },
          "execution_count": 99
        }
      ]
    },
    {
      "cell_type": "markdown",
      "metadata": {
        "id": "JrhlUxWHBuYW"
      },
      "source": [
        "###4.2. Spark ML\n",
        "Se utiliza una libreria de sparl ML para tokenizar las palabras que contiene la columna Violations de tal manera que tengamos identificadas las palabras que se utilicen en cada categorioa (0) que no paso y que palabras se utilizaron y (1) cuando pasa la evaluacion que palabras se utilizaron."
      ]
    },
    {
      "cell_type": "code",
      "metadata": {
        "id": "p71sZVhOBtXQ"
      },
      "source": [
        "#importamos la libreria de machine learning\n",
        "from pyspark.ml.feature import Tokenizer\n"
      ],
      "execution_count": null,
      "outputs": []
    },
    {
      "cell_type": "code",
      "metadata": {
        "colab": {
          "base_uri": "https://localhost:8080/"
        },
        "id": "Pbcu9K9BCrnQ",
        "outputId": "b720a5b8-0e3a-4545-c690-25fa4d8edcc8"
      },
      "source": [
        "#para sacar las palabras claves e identificarlas utiliza tokenizer sobre cada una de las filas de la columna violations\n",
        "tokenizer = Tokenizer(inputCol=\"Violations\", outputCol=\"words\")\n",
        "type(tokenizer)\n",
        "print(tokenizer)\n"
      ],
      "execution_count": null,
      "outputs": [
        {
          "output_type": "stream",
          "text": [
            "Tokenizer_478a4e473cfc\n"
          ],
          "name": "stdout"
        }
      ]
    },
    {
      "cell_type": "code",
      "metadata": {
        "colab": {
          "base_uri": "https://localhost:8080/"
        },
        "id": "gb55_vtECvD4",
        "outputId": "9d3540d5-2dc2-48cb-d1b5-76e6134abe20"
      },
      "source": [
        "#invocamos la funcion tokenizer sobre el dataframe labeledData para que transforme las palabras en tokens\n",
        "labeledDataTokens=tokenizer.transform(labeledData)\n",
        "type(labeledDataTokens)\n",
        "labeledDataTokens.show()"
      ],
      "execution_count": null,
      "outputs": [
        {
          "output_type": "stream",
          "text": [
            "+-----+--------------------+--------------------+\n",
            "|label|          Violations|               words|\n",
            "+-----+--------------------+--------------------+\n",
            "|  1.0|30. FOOD IN ORIGI...|[30., food, in, o...|\n",
            "|  1.0|32. FOOD AND NON-...|[32., food, and, ...|\n",
            "|  1.0|35. WALLS, CEILIN...|[35., walls,, cei...|\n",
            "|  1.0|33. FOOD AND NON-...|[33., food, and, ...|\n",
            "|  1.0|33. FOOD AND NON-...|[33., food, and, ...|\n",
            "|  1.0|32. FOOD AND NON-...|[32., food, and, ...|\n",
            "|  1.0|10. SEWAGE AND WA...|[10., sewage, and...|\n",
            "|  1.0|                    |                  []|\n",
            "|  0.0|18. NO EVIDENCE O...|[18., no, evidenc...|\n",
            "|  1.0|3. POTENTIALLY HA...|[3., potentially,...|\n",
            "|  1.0|2. FACILITIES TO ...|[2., facilities, ...|\n",
            "|  1.0|40. REFRIGERATION...|[40., refrigerati...|\n",
            "|  1.0|32. FOOD AND NON-...|[32., food, and, ...|\n",
            "|  1.0|33. FOOD AND NON-...|[33., food, and, ...|\n",
            "|  1.0|                    |                  []|\n",
            "|  1.0|33. FOOD AND NON-...|[33., food, and, ...|\n",
            "|  1.0|32. FOOD AND NON-...|[32., food, and, ...|\n",
            "|  1.0|32. FOOD AND NON-...|[32., food, and, ...|\n",
            "|  1.0|32. FOOD AND NON-...|[32., food, and, ...|\n",
            "|  0.0|33. FOOD AND NON-...|[33., food, and, ...|\n",
            "+-----+--------------------+--------------------+\n",
            "only showing top 20 rows\n",
            "\n"
          ],
          "name": "stdout"
        }
      ]
    },
    {
      "cell_type": "code",
      "metadata": {
        "colab": {
          "base_uri": "https://localhost:8080/"
        },
        "id": "EQZJNvo2C2UZ",
        "outputId": "ad22e3e8-554d-4af6-a9bc-99c02c236612"
      },
      "source": [
        "labeledDataTokens.take(1)\n"
      ],
      "execution_count": null,
      "outputs": [
        {
          "output_type": "execute_result",
          "data": {
            "text/plain": [
              "[Row(label=1.0, Violations=\"30. FOOD IN ORIGINAL CONTAINER, PROPERLY LABELED: CUSTOMER ADVISORY POSTED AS NEEDED - Comments: All food not stored in the original container shall be stored in properly labeled containers.  OBSERVED SEVERAL FOODS IN COOLERS WITHOUT A LABEL AND DATE.  MUST LABEL AND DATE ALL PREPARED FOODS. | 32. FOOD AND NON-FOOD CONTACT SURFACES PROPERLY DESIGNED, CONSTRUCTED AND MAINTAINED - Comments: OBSERVED TORN DOOR GASKET ON DOOR OF 'CHILL ISLE' REACH-IN COOLER.  MUST REPLACE.  OBSERVED EXPOSED INSULATION INSIDE OF THE 2 DOOR PREP COOLER.  MUST REPAIR.  REPLACE THE CRACKED LIGHT SHIELD IN THE REAR AREA OVER THE PREP TABLE.  OBSERVED CARDBOARD STORED INSIDE OF THE DRESSING COOLER AND ON WIRE RACKS IN THE BASEMENT WALK-IN COOLER.  MUST REMOVE CARDBOARD. | 33. FOOD AND NON-FOOD CONTACT EQUIPMENT UTENSILS CLEAN, FREE OF ABRASIVE DETERGENTS - Comments: All food and non-food contact surfaces of equipment and all food storage utensils shall be thoroughly cleaned and sanitized daily.  DETAIL CLEAN GREASE FROM ALL COKING EQUIPMENT.  DETAIL CLEAN THE LIGHT SHIELD IN THE FRONT PREP AREA.DETAIL CLEAN THE WIRE RACKS OF THE BASEMENT WALK-IN COOLER AND INTERIOR OF BASEMENT ICE CREAM FREEZER. | 34. FLOORS: CONSTRUCTED PER CODE, CLEANED, GOOD REPAIR, COVING INSTALLED, DUST-LESS CLEANING METHODS USED - Comments: The floors shall be constructed per code, be smooth and easily cleaned, and be kept clean and in good repair.  DETAIL CLEAN THE FLOOR IN THE FRONT PREP AREA. | 37. TOILET ROOM DOORS SELF CLOSING: DRESSING ROOMS WITH LOCKERS PROVIDED: COMPLETE SEPARATION FROM LIVING/SLEEPING QUARTERS - Comments: Toilet rooms shall be completely enclosed and shall be vented to the outside air or mechanically ventilated.  VENTILATION FAN IN THE BASEMENT RESTROOM IS NOT OPERATIONAL.  MUST REPAIR. | 41. PREMISES MAINTAINED FREE OF LITTER, UNNECESSARY ARTICLES, CLEANING  EQUIPMENT PROPERLY STORED - Comments: All parts of the food establishment and all parts of the property used in connection with the operation of the establishment shall be kept neat and clean and should not produce any offensive odors.  OBSERVED EXCESSIVE CLUTTER IN THE BASEMENT OFFICE AREA.  MUST CLEAN, ORGANIZE AND REMOVE UNNECESSARY ARTICLES.  STORE REMAINING ARTICLES AT LEAST 6' OFF OF THE FLOOR.\", words=['30.', 'food', 'in', 'original', 'container,', 'properly', 'labeled:', 'customer', 'advisory', 'posted', 'as', 'needed', '-', 'comments:', 'all', 'food', 'not', 'stored', 'in', 'the', 'original', 'container', 'shall', 'be', 'stored', 'in', 'properly', 'labeled', 'containers.', '', 'observed', 'several', 'foods', 'in', 'coolers', 'without', 'a', 'label', 'and', 'date.', '', 'must', 'label', 'and', 'date', 'all', 'prepared', 'foods.', '|', '32.', 'food', 'and', 'non-food', 'contact', 'surfaces', 'properly', 'designed,', 'constructed', 'and', 'maintained', '-', 'comments:', 'observed', 'torn', 'door', 'gasket', 'on', 'door', 'of', \"'chill\", \"isle'\", 'reach-in', 'cooler.', '', 'must', 'replace.', '', 'observed', 'exposed', 'insulation', 'inside', 'of', 'the', '2', 'door', 'prep', 'cooler.', '', 'must', 'repair.', '', 'replace', 'the', 'cracked', 'light', 'shield', 'in', 'the', 'rear', 'area', 'over', 'the', 'prep', 'table.', '', 'observed', 'cardboard', 'stored', 'inside', 'of', 'the', 'dressing', 'cooler', 'and', 'on', 'wire', 'racks', 'in', 'the', 'basement', 'walk-in', 'cooler.', '', 'must', 'remove', 'cardboard.', '|', '33.', 'food', 'and', 'non-food', 'contact', 'equipment', 'utensils', 'clean,', 'free', 'of', 'abrasive', 'detergents', '-', 'comments:', 'all', 'food', 'and', 'non-food', 'contact', 'surfaces', 'of', 'equipment', 'and', 'all', 'food', 'storage', 'utensils', 'shall', 'be', 'thoroughly', 'cleaned', 'and', 'sanitized', 'daily.', '', 'detail', 'clean', 'grease', 'from', 'all', 'coking', 'equipment.', '', 'detail', 'clean', 'the', 'light', 'shield', 'in', 'the', 'front', 'prep', 'area.detail', 'clean', 'the', 'wire', 'racks', 'of', 'the', 'basement', 'walk-in', 'cooler', 'and', 'interior', 'of', 'basement', 'ice', 'cream', 'freezer.', '|', '34.', 'floors:', 'constructed', 'per', 'code,', 'cleaned,', 'good', 'repair,', 'coving', 'installed,', 'dust-less', 'cleaning', 'methods', 'used', '-', 'comments:', 'the', 'floors', 'shall', 'be', 'constructed', 'per', 'code,', 'be', 'smooth', 'and', 'easily', 'cleaned,', 'and', 'be', 'kept', 'clean', 'and', 'in', 'good', 'repair.', '', 'detail', 'clean', 'the', 'floor', 'in', 'the', 'front', 'prep', 'area.', '|', '37.', 'toilet', 'room', 'doors', 'self', 'closing:', 'dressing', 'rooms', 'with', 'lockers', 'provided:', 'complete', 'separation', 'from', 'living/sleeping', 'quarters', '-', 'comments:', 'toilet', 'rooms', 'shall', 'be', 'completely', 'enclosed', 'and', 'shall', 'be', 'vented', 'to', 'the', 'outside', 'air', 'or', 'mechanically', 'ventilated.', '', 'ventilation', 'fan', 'in', 'the', 'basement', 'restroom', 'is', 'not', 'operational.', '', 'must', 'repair.', '|', '41.', 'premises', 'maintained', 'free', 'of', 'litter,', 'unnecessary', 'articles,', 'cleaning', '', 'equipment', 'properly', 'stored', '-', 'comments:', 'all', 'parts', 'of', 'the', 'food', 'establishment', 'and', 'all', 'parts', 'of', 'the', 'property', 'used', 'in', 'connection', 'with', 'the', 'operation', 'of', 'the', 'establishment', 'shall', 'be', 'kept', 'neat', 'and', 'clean', 'and', 'should', 'not', 'produce', 'any', 'offensive', 'odors.', '', 'observed', 'excessive', 'clutter', 'in', 'the', 'basement', 'office', 'area.', '', 'must', 'clean,', 'organize', 'and', 'remove', 'unnecessary', 'articles.', '', 'store', 'remaining', 'articles', 'at', 'least', \"6'\", 'off', 'of', 'the', 'floor.'])]"
            ]
          },
          "metadata": {
            "tags": []
          },
          "execution_count": 103
        }
      ]
    },
    {
      "cell_type": "code",
      "metadata": {
        "colab": {
          "base_uri": "https://localhost:8080/"
        },
        "id": "V6UrWDsKC6qq",
        "outputId": "5a569c03-606d-491d-c762-d606dcafa998"
      },
      "source": [
        "labeledDataTokens.take(3)[1]"
      ],
      "execution_count": null,
      "outputs": [
        {
          "output_type": "execute_result",
          "data": {
            "text/plain": [
              "Row(label=1.0, Violations='32. FOOD AND NON-FOOD CONTACT SURFACES PROPERLY DESIGNED, CONSTRUCTED AND MAINTAINED - Comments: All food and non-food contact equipment and utensils shall be smooth, easily cleanable, and durable, and shall be in good repair.  INTERIOR OF CHEST FREEZER DOOR HAS EXPOSED INSULATION AND CRACKED PLASTIC.  MUST REPAIR OR REPLACE. | 33. FOOD AND NON-FOOD CONTACT EQUIPMENT UTENSILS CLEAN, FREE OF ABRASIVE DETERGENTS - Comments: All food and non-food contact surfaces of equipment and all food storage utensils shall be thoroughly cleaned and sanitized daily.  DETAIL CLEAN THE INTERIOR OF THE MICROWAVE AND THE VENTILATION HOOD. | 38. VENTILATION: ROOMS AND EQUIPMENT VENTED AS REQUIRED: PLUMBING: INSTALLED AND MAINTAINED - Comments: REPAIR THE DRAIN STOPPER FOR THE RIGHT COMPARTMENT OF THE 3 COMPARTMENT SINK SO THAT IT CAN BE USED TO HOLD WATER.', words=['32.', 'food', 'and', 'non-food', 'contact', 'surfaces', 'properly', 'designed,', 'constructed', 'and', 'maintained', '-', 'comments:', 'all', 'food', 'and', 'non-food', 'contact', 'equipment', 'and', 'utensils', 'shall', 'be', 'smooth,', 'easily', 'cleanable,', 'and', 'durable,', 'and', 'shall', 'be', 'in', 'good', 'repair.', '', 'interior', 'of', 'chest', 'freezer', 'door', 'has', 'exposed', 'insulation', 'and', 'cracked', 'plastic.', '', 'must', 'repair', 'or', 'replace.', '|', '33.', 'food', 'and', 'non-food', 'contact', 'equipment', 'utensils', 'clean,', 'free', 'of', 'abrasive', 'detergents', '-', 'comments:', 'all', 'food', 'and', 'non-food', 'contact', 'surfaces', 'of', 'equipment', 'and', 'all', 'food', 'storage', 'utensils', 'shall', 'be', 'thoroughly', 'cleaned', 'and', 'sanitized', 'daily.', '', 'detail', 'clean', 'the', 'interior', 'of', 'the', 'microwave', 'and', 'the', 'ventilation', 'hood.', '|', '38.', 'ventilation:', 'rooms', 'and', 'equipment', 'vented', 'as', 'required:', 'plumbing:', 'installed', 'and', 'maintained', '-', 'comments:', 'repair', 'the', 'drain', 'stopper', 'for', 'the', 'right', 'compartment', 'of', 'the', '3', 'compartment', 'sink', 'so', 'that', 'it', 'can', 'be', 'used', 'to', 'hold', 'water.'])"
            ]
          },
          "metadata": {
            "tags": []
          },
          "execution_count": 104
        }
      ]
    },
    {
      "cell_type": "markdown",
      "metadata": {
        "id": "gKEkmDWQE2A7"
      },
      "source": [
        "### 4.3. Modelo: cómputo de la frecuencia acumulada de los tokens"
      ]
    },
    {
      "cell_type": "code",
      "metadata": {
        "id": "rXDSDMB_EvIE"
      },
      "source": [
        "#importamos la libreria de ML HashingTF para asignar un id a cada palabra\n",
        "from pyspark.ml.feature import HashingTF\n"
      ],
      "execution_count": null,
      "outputs": []
    },
    {
      "cell_type": "code",
      "metadata": {
        "id": "b9MVXw8wFCZ9"
      },
      "source": [
        "# Configuramos la funcion hash los parametros  \"inputColque\" y \"outputCol\" \n",
        "#reciba como entrada la funcion tokenizer y como salida la columna calculada features\n",
        "hashingTF = HashingTF(inputCol=tokenizer.getOutputCol(), outputCol=\"features\")\n"
      ],
      "execution_count": null,
      "outputs": []
    },
    {
      "cell_type": "code",
      "metadata": {
        "colab": {
          "base_uri": "https://localhost:8080/"
        },
        "id": "FzDD4JTKFF85",
        "outputId": "88a82d60-0328-4181-da04-1df3c530475e"
      },
      "source": [
        "#invocamos la funcion hash y recibe como entrada el dataframe labeledDataTokens\n",
        "labeledDataTokensTF=hashingTF.transform(labeledDataTokens)\n",
        "\n",
        "labeledDataTokensTF.show()"
      ],
      "execution_count": null,
      "outputs": [
        {
          "output_type": "stream",
          "text": [
            "+-----+--------------------+--------------------+--------------------+\n",
            "|label|          Violations|               words|            features|\n",
            "+-----+--------------------+--------------------+--------------------+\n",
            "|  1.0|30. FOOD IN ORIGI...|[30., food, in, o...|(262144,[6106,649...|\n",
            "|  1.0|32. FOOD AND NON-...|[32., food, and, ...|(262144,[5765,610...|\n",
            "|  1.0|35. WALLS, CEILIN...|[35., walls,, cei...|(262144,[12650,27...|\n",
            "|  1.0|33. FOOD AND NON-...|[33., food, and, ...|(262144,[1508,542...|\n",
            "|  1.0|33. FOOD AND NON-...|[33., food, and, ...|(262144,[1508,542...|\n",
            "|  1.0|32. FOOD AND NON-...|[32., food, and, ...|(262144,[1508,610...|\n",
            "|  1.0|10. SEWAGE AND WA...|[10., sewage, and...|(262144,[6106,914...|\n",
            "|  1.0|                    |                  []|(262144,[249180],...|\n",
            "|  0.0|18. NO EVIDENCE O...|[18., no, evidenc...|(262144,[161,2786...|\n",
            "|  1.0|3. POTENTIALLY HA...|[3., potentially,...|(262144,[1689,610...|\n",
            "|  1.0|2. FACILITIES TO ...|[2., facilities, ...|(262144,[1415,168...|\n",
            "|  1.0|40. REFRIGERATION...|[40., refrigerati...|(262144,[5429,685...|\n",
            "|  1.0|32. FOOD AND NON-...|[32., food, and, ...|(262144,[6106,134...|\n",
            "|  1.0|33. FOOD AND NON-...|[33., food, and, ...|(262144,[5429,610...|\n",
            "|  1.0|                    |                  []|(262144,[249180],...|\n",
            "|  1.0|33. FOOD AND NON-...|[33., food, and, ...|(262144,[6106,126...|\n",
            "|  1.0|32. FOOD AND NON-...|[32., food, and, ...|(262144,[5429,610...|\n",
            "|  1.0|32. FOOD AND NON-...|[32., food, and, ...|(262144,[1797,366...|\n",
            "|  1.0|32. FOOD AND NON-...|[32., food, and, ...|(262144,[6787,802...|\n",
            "|  0.0|33. FOOD AND NON-...|[33., food, and, ...|(262144,[6106,802...|\n",
            "+-----+--------------------+--------------------+--------------------+\n",
            "only showing top 20 rows\n",
            "\n"
          ],
          "name": "stdout"
        }
      ]
    },
    {
      "cell_type": "markdown",
      "metadata": {
        "id": "BQIqTIipIkbn"
      },
      "source": [
        "### 4.4. Modelo: entrenamiento del regresor"
      ]
    },
    {
      "cell_type": "code",
      "metadata": {
        "id": "7IwmfckSIjn0"
      },
      "source": [
        "from pyspark.ml.classification import LogisticRegression"
      ],
      "execution_count": null,
      "outputs": []
    },
    {
      "cell_type": "code",
      "metadata": {
        "id": "VGM8Qi8qJscX"
      },
      "source": [
        "lr = LogisticRegression(maxIter=10, regParam=0.01)"
      ],
      "execution_count": null,
      "outputs": []
    },
    {
      "cell_type": "code",
      "metadata": {
        "id": "oqiYV-X0Jw5f"
      },
      "source": [
        "model = lr.fit(labeledDataTokensTF)"
      ],
      "execution_count": null,
      "outputs": []
    },
    {
      "cell_type": "code",
      "metadata": {
        "colab": {
          "base_uri": "https://localhost:8080/"
        },
        "id": "N29bXC7jKGea",
        "outputId": "dcce2f90-9f0a-479d-f814-986d8731c09e"
      },
      "source": [
        "print(\"Multinomial coefficients: \" + str(model.coefficientMatrix))"
      ],
      "execution_count": null,
      "outputs": [
        {
          "output_type": "stream",
          "text": [
            "Multinomial coefficients: 1 X 262144 CSRMatrix\n",
            "(0,2) 1.1251\n",
            "(0,4) 0.9196\n",
            "(0,6) 0.7991\n",
            "(0,7) 0.3432\n",
            "(0,8) 0.4757\n",
            "(0,10) -0.3173\n",
            "(0,11) 0.9977\n",
            "(0,13) -0.063\n",
            "(0,15) 0.4569\n",
            "(0,16) 2.9566\n",
            "(0,20) 0.5423\n",
            "(0,21) -0.1699\n",
            "(0,22) 0.4648\n",
            "(0,23) -0.3612\n",
            "(0,24) -0.5218\n",
            "(0,25) -0.2157\n",
            "..\n",
            "..\n"
          ],
          "name": "stdout"
        }
      ]
    },
    {
      "cell_type": "markdown",
      "metadata": {
        "id": "1h_I9uEhn1Tk"
      },
      "source": [
        "### 4.5. Predicción: preparación de los datos\n",
        "\n",
        "Preparamos el dataframe de pruebas fi2"
      ]
    },
    {
      "cell_type": "code",
      "metadata": {
        "colab": {
          "base_uri": "https://localhost:8080/"
        },
        "id": "PDrKRKRMKHdi",
        "outputId": "52667420-62a3-4a0b-8403-cd53c7a27b60"
      },
      "source": [
        "fi2.show(5)"
      ],
      "execution_count": null,
      "outputs": [
        {
          "output_type": "stream",
          "text": [
            "+-------------+--------------------+--------------------+---------+-------------+-------------+--------------------+-------+-----+-----+---------------+---------------+-------+--------------------+------------------+------------------+--------------------+\n",
            "|Inspection ID|            DBA Name|            AKA Name|License #|Facility Type|         Risk|             Address|   City|State|  Zip|Inspection Date|Inspection Type|Results|          Violations|          Latitude|         Longitude|            Location|\n",
            "+-------------+--------------------+--------------------+---------+-------------+-------------+--------------------+-------+-----+-----+---------------+---------------+-------+--------------------+------------------+------------------+--------------------+\n",
            "|        48216|         Hanson Park|         Hanson Park|    24461|       School|Risk 1 (High)|5411 W Fullerton ...|CHICAGO|   IL|60639|     01/13/2010|        Canvass|   Pass|33. FOOD AND NON-...| 41.92392770522664|-87.76152094466592|(-87.761520944665...|\n",
            "|        48217|  Hanson Park Branch|  Hanson Park Branch|    24462|       School|Risk 1 (High)|    2318 N Lorel ST |CHICAGO|   IL|60639|     01/13/2010|        Canvass|   Pass|34. FLOORS: CONST...|41.922831144138776|-87.75994374773492|(-87.759943747734...|\n",
            "|        48224|JOE'S BARBECUE & ...|JOE'S BARBECUE & ...|  2017606|   Restaurant|Risk 1 (High)|   5931 W North AVE |CHICAGO|   IL|60639|     02/08/2010|        License|   Fail|34. FLOORS: CONST...| 41.90915795561416|-87.77445018724043|(-87.774450187240...|\n",
            "|        48225|SHRINERS HOSPITAL...|SHRINERS HOSPITAL...|    15783|     Hospital|Risk 1 (High)|2211 N OAK PARK AVE |CHICAGO|   IL|60707|     03/02/2010|        Canvass|   Pass|32. FOOD AND NON-...|41.920336171536384| -87.7949943024895|(-87.794994302489...|\n",
            "|        48226|SHRINERS HOSPITAL...|SHRINERS HOSPITAL...|    15784|     Hospital|Risk 1 (High)|2211 N OAK PARK AVE |CHICAGO|   IL|60707|     03/02/2010|        Canvass|   Pass|32. FOOD AND NON-...|41.920336171536384| -87.7949943024895|(-87.794994302489...|\n",
            "+-------------+--------------------+--------------------+---------+-------------+-------------+--------------------+-------+-----+-----+---------------+---------------+-------+--------------------+------------------+------------------+--------------------+\n",
            "only showing top 5 rows\n",
            "\n"
          ],
          "name": "stdout"
        }
      ]
    },
    {
      "cell_type": "code",
      "metadata": {
        "colab": {
          "base_uri": "https://localhost:8080/"
        },
        "id": "mERPo5GroeZz",
        "outputId": "6bbf638e-2c0a-4035-9b1f-8dd11357db2f"
      },
      "source": [
        "#creamos un nuevo dataframe con estas variables\n",
        "fic2 = fi2.select('Inspection ID', 'DBA Name', 'Results', 'Violations' )\n",
        "fic2.show(5)"
      ],
      "execution_count": null,
      "outputs": [
        {
          "output_type": "stream",
          "text": [
            "+-------------+--------------------+-------+--------------------+\n",
            "|Inspection ID|            DBA Name|Results|          Violations|\n",
            "+-------------+--------------------+-------+--------------------+\n",
            "|        48216|         Hanson Park|   Pass|33. FOOD AND NON-...|\n",
            "|        48217|  Hanson Park Branch|   Pass|34. FLOORS: CONST...|\n",
            "|        48224|JOE'S BARBECUE & ...|   Fail|34. FLOORS: CONST...|\n",
            "|        48225|SHRINERS HOSPITAL...|   Pass|32. FOOD AND NON-...|\n",
            "|        48226|SHRINERS HOSPITAL...|   Pass|32. FOOD AND NON-...|\n",
            "+-------------+--------------------+-------+--------------------+\n",
            "only showing top 5 rows\n",
            "\n"
          ],
          "name": "stdout"
        }
      ]
    },
    {
      "cell_type": "code",
      "metadata": {
        "colab": {
          "base_uri": "https://localhost:8080/"
        },
        "id": "2owqOi69pSbf",
        "outputId": "98a86c03-4ea8-4e80-bf80-99a1a57b48a4"
      },
      "source": [
        "#ahora creamos un nuevo dataframe y le decimos que nos elimine los nulos que esten es las 2 columnas inspection y DBA name\n",
        "ficne2=fic2.dropna(subset=['Inspection ID','DBA Name'])\n",
        "\n",
        "ficne2.show(5)"
      ],
      "execution_count": null,
      "outputs": [
        {
          "output_type": "stream",
          "text": [
            "+-------------+--------------------+-------+--------------------+\n",
            "|Inspection ID|            DBA Name|Results|          Violations|\n",
            "+-------------+--------------------+-------+--------------------+\n",
            "|        48216|         Hanson Park|   Pass|33. FOOD AND NON-...|\n",
            "|        48217|  Hanson Park Branch|   Pass|34. FLOORS: CONST...|\n",
            "|        48224|JOE'S BARBECUE & ...|   Fail|34. FLOORS: CONST...|\n",
            "|        48225|SHRINERS HOSPITAL...|   Pass|32. FOOD AND NON-...|\n",
            "|        48226|SHRINERS HOSPITAL...|   Pass|32. FOOD AND NON-...|\n",
            "+-------------+--------------------+-------+--------------------+\n",
            "only showing top 5 rows\n",
            "\n"
          ],
          "name": "stdout"
        }
      ]
    },
    {
      "cell_type": "code",
      "metadata": {
        "colab": {
          "base_uri": "https://localhost:8080/"
        },
        "id": "BiK_b34YphM4",
        "outputId": "0e573025-725a-4b6e-ea4f-7e2a3efa96de"
      },
      "source": [
        "#creamos un nuevo datafrme que contiene valores nulos en las columnas results y violations y que me los llene con cadenas vacias\n",
        "ficneTest=ficne2.na.fill({'Results':'', 'Violations':''})\n",
        "ficneTest.show(5)"
      ],
      "execution_count": null,
      "outputs": [
        {
          "output_type": "stream",
          "text": [
            "+-------------+--------------------+-------+--------------------+\n",
            "|Inspection ID|            DBA Name|Results|          Violations|\n",
            "+-------------+--------------------+-------+--------------------+\n",
            "|        48216|         Hanson Park|   Pass|33. FOOD AND NON-...|\n",
            "|        48217|  Hanson Park Branch|   Pass|34. FLOORS: CONST...|\n",
            "|        48224|JOE'S BARBECUE & ...|   Fail|34. FLOORS: CONST...|\n",
            "|        48225|SHRINERS HOSPITAL...|   Pass|32. FOOD AND NON-...|\n",
            "|        48226|SHRINERS HOSPITAL...|   Pass|32. FOOD AND NON-...|\n",
            "+-------------+--------------------+-------+--------------------+\n",
            "only showing top 5 rows\n",
            "\n"
          ],
          "name": "stdout"
        }
      ]
    },
    {
      "cell_type": "code",
      "metadata": {
        "colab": {
          "base_uri": "https://localhost:8080/"
        },
        "id": "JQt13Zqxp-wP",
        "outputId": "45b6d15e-11f4-4a80-c68a-f90b5adedfc1"
      },
      "source": [
        "# Calculo la columna de palabras \n",
        "testDfTokens=tokenizer.transform(ficneTest)\n",
        "\n",
        "testDfTokens.show(5)"
      ],
      "execution_count": null,
      "outputs": [
        {
          "output_type": "stream",
          "text": [
            "+-------------+--------------------+-------+--------------------+--------------------+\n",
            "|Inspection ID|            DBA Name|Results|          Violations|               words|\n",
            "+-------------+--------------------+-------+--------------------+--------------------+\n",
            "|        48216|         Hanson Park|   Pass|33. FOOD AND NON-...|[33., food, and, ...|\n",
            "|        48217|  Hanson Park Branch|   Pass|34. FLOORS: CONST...|[34., floors:, co...|\n",
            "|        48224|JOE'S BARBECUE & ...|   Fail|34. FLOORS: CONST...|[34., floors:, co...|\n",
            "|        48225|SHRINERS HOSPITAL...|   Pass|32. FOOD AND NON-...|[32., food, and, ...|\n",
            "|        48226|SHRINERS HOSPITAL...|   Pass|32. FOOD AND NON-...|[32., food, and, ...|\n",
            "+-------------+--------------------+-------+--------------------+--------------------+\n",
            "only showing top 5 rows\n",
            "\n"
          ],
          "name": "stdout"
        }
      ]
    },
    {
      "cell_type": "code",
      "metadata": {
        "colab": {
          "base_uri": "https://localhost:8080/"
        },
        "id": "dbmnd_udqYq4",
        "outputId": "9d0410b5-b2a7-4d65-e2d0-5e71b6dd6652"
      },
      "source": [
        "#calculo la columna de hash para cada palabra\n",
        "testDfTokensTF=hashingTF.transform(testDfTokens)\n",
        "testDfTokensTF.show(5)"
      ],
      "execution_count": null,
      "outputs": [
        {
          "output_type": "stream",
          "text": [
            "+-------------+--------------------+-------+--------------------+--------------------+--------------------+\n",
            "|Inspection ID|            DBA Name|Results|          Violations|               words|            features|\n",
            "+-------------+--------------------+-------+--------------------+--------------------+--------------------+\n",
            "|        48216|         Hanson Park|   Pass|33. FOOD AND NON-...|[33., food, and, ...|(262144,[6106,802...|\n",
            "|        48217|  Hanson Park Branch|   Pass|34. FLOORS: CONST...|[34., floors:, co...|(262144,[5429,685...|\n",
            "|        48224|JOE'S BARBECUE & ...|   Fail|34. FLOORS: CONST...|[34., floors:, co...|(262144,[6787,802...|\n",
            "|        48225|SHRINERS HOSPITAL...|   Pass|32. FOOD AND NON-...|[32., food, and, ...|(262144,[3618,610...|\n",
            "|        48226|SHRINERS HOSPITAL...|   Pass|32. FOOD AND NON-...|[32., food, and, ...|(262144,[3618,610...|\n",
            "+-------------+--------------------+-------+--------------------+--------------------+--------------------+\n",
            "only showing top 5 rows\n",
            "\n"
          ],
          "name": "stdout"
        }
      ]
    },
    {
      "cell_type": "code",
      "metadata": {
        "id": "0XLFl5hcqs1Z"
      },
      "source": [
        "#aplico el modelo previamente entrenado \n",
        "predictionsDf = model.transform(testDfTokensTF)\n"
      ],
      "execution_count": null,
      "outputs": []
    },
    {
      "cell_type": "code",
      "metadata": {
        "colab": {
          "base_uri": "https://localhost:8080/"
        },
        "id": "ivOBZ8epuEsD",
        "outputId": "8ccb947e-0fc0-4140-92db-34603f0e51b3"
      },
      "source": [
        "predictionsDf.select(['Inspection ID', 'DBA Name', 'Results', 'Violations','prediction']).show(10)\n"
      ],
      "execution_count": null,
      "outputs": [
        {
          "output_type": "stream",
          "text": [
            "+-------------+--------------------+------------------+--------------------+----------+\n",
            "|Inspection ID|            DBA Name|           Results|          Violations|prediction|\n",
            "+-------------+--------------------+------------------+--------------------+----------+\n",
            "|        48216|         Hanson Park|              Pass|33. FOOD AND NON-...|       1.0|\n",
            "|        48217|  Hanson Park Branch|              Pass|34. FLOORS: CONST...|       1.0|\n",
            "|        48224|JOE'S BARBECUE & ...|              Fail|34. FLOORS: CONST...|       1.0|\n",
            "|        48225|SHRINERS HOSPITAL...|              Pass|32. FOOD AND NON-...|       1.0|\n",
            "|        48226|SHRINERS HOSPITAL...|              Pass|32. FOOD AND NON-...|       1.0|\n",
            "|        52235|     Lake View (H/S)|              Fail|6. HANDS WASHED A...|       0.0|\n",
            "|        52236|     Lakeview Subway|Pass w/ Conditions|4. SOURCE OF CROS...|       1.0|\n",
            "|        52238|       DISNEY MAGNET|              Fail|16. FOOD PROTECTE...|       0.0|\n",
            "|        52248|APPLE TREE LEARNI...|              Pass|                    |       1.0|\n",
            "|        52253|ORANGE GARDEN RES...|              Pass|                    |       1.0|\n",
            "+-------------+--------------------+------------------+--------------------+----------+\n",
            "only showing top 10 rows\n",
            "\n"
          ],
          "name": "stdout"
        }
      ]
    },
    {
      "cell_type": "markdown",
      "metadata": {
        "id": "1KV8YjkrvMoT"
      },
      "source": [
        "### 4.6. Predicción: calidad de los resultados"
      ]
    },
    {
      "cell_type": "code",
      "metadata": {
        "id": "DMh1eK-Nu7ZE"
      },
      "source": [
        "#creamos una tabla temporal\n",
        "predictionsDf.registerTempTable('Predictions')"
      ],
      "execution_count": null,
      "outputs": []
    },
    {
      "cell_type": "code",
      "metadata": {
        "colab": {
          "base_uri": "https://localhost:8080/"
        },
        "id": "jKfSWDV7vIC7",
        "outputId": "2637fd53-6dd9-4f70-dd52-13fdb7a0bfeb"
      },
      "source": [
        "#Contamos cuantas predicciones acertamos de las  34.889 del dataframe de pruebas\n",
        "numSuccesses=predictionsDf.where(\"(prediction = 0 AND results = 'Fail') OR ( prediction = 1 AND (results = 'Pass' OR results = 'Pass w/ Conditions'))\").count()\n",
        "\n",
        "print(numSuccesses)"
      ],
      "execution_count": null,
      "outputs": [
        {
          "output_type": "stream",
          "text": [
            "28419\n"
          ],
          "name": "stdout"
        }
      ]
    },
    {
      "cell_type": "code",
      "metadata": {
        "colab": {
          "base_uri": "https://localhost:8080/"
        },
        "id": "2PQtnvqFxPPo",
        "outputId": "0eadc9fd-c919-492b-ec69-cb8e2e12ef29"
      },
      "source": [
        "numInspections = predictionsDf.count()\n",
        "print(numInspections)"
      ],
      "execution_count": null,
      "outputs": [
        {
          "output_type": "stream",
          "text": [
            "34889\n"
          ],
          "name": "stdout"
        }
      ]
    },
    {
      "cell_type": "code",
      "metadata": {
        "colab": {
          "base_uri": "https://localhost:8080/"
        },
        "id": "MFwTlHrlxvTx",
        "outputId": "add061b6-1aed-45c7-b8a5-45c131ea3663"
      },
      "source": [
        "#calculamos el porcentaje de aciertos\n",
        "print (\"Este es un\", str((float(numSuccesses) / float(numInspections)) * 100) + \"%\", \"de aciertos\")"
      ],
      "execution_count": null,
      "outputs": [
        {
          "output_type": "stream",
          "text": [
            "Este es un 81.4554730717418% de aciertos\n"
          ],
          "name": "stdout"
        }
      ]
    },
    {
      "cell_type": "markdown",
      "metadata": {
        "id": "m27Ew2Vuz2Za"
      },
      "source": [
        "### 4.7. Predicción con un modelo entrenado en pipeline\n",
        "\n",
        "Los pipeslines permiten ejecutar el mismo programa anterior pero almacenado en funciones que se ejcutan por fases."
      ]
    },
    {
      "cell_type": "code",
      "metadata": {
        "id": "LjenzSN4z_tc"
      },
      "source": [
        "from pyspark.ml import Pipeline\n",
        "from pyspark.ml.feature import Tokenizer, HashingTF\n",
        "from pyspark.ml.classification import LogisticRegression\n",
        "\n",
        "tokenizer = Tokenizer(inputCol=\"Violations\", outputCol=\"words\")\n",
        "hashingTF = HashingTF(inputCol=tokenizer.getOutputCol(), outputCol=\"features\")\n",
        "lr = LogisticRegression(maxIter=10, regParam=0.01)\n",
        "pipeline = Pipeline(stages=[tokenizer, hashingTF, lr])\n",
        "\n",
        "model = pipeline.fit(labeledData)\n"
      ],
      "execution_count": null,
      "outputs": []
    },
    {
      "cell_type": "code",
      "metadata": {
        "colab": {
          "base_uri": "https://localhost:8080/"
        },
        "id": "Kts2o5IH0Y-I",
        "outputId": "eb55b7db-d8a0-41b0-b10f-e02a4caf3434"
      },
      "source": [
        "#cargamos los datos\n",
        "testDfTmp1=spark.read.options(header='true',delimiter=',').schema(schema).csv(\"drive/MyDrive/DatosPyspark/Food_Inspections.csv\").select('Inspection ID', 'DBA Name', 'Results', 'Violations').where(\"results ='Fail' OR results = 'Pass' OR results = 'Pass w/ Conditions'\")\n",
        "\n",
        "testDfTmp1.show(5)"
      ],
      "execution_count": null,
      "outputs": [
        {
          "output_type": "stream",
          "text": [
            "+-------------+--------------------+-------+--------------------+\n",
            "|Inspection ID|            DBA Name|Results|          Violations|\n",
            "+-------------+--------------------+-------+--------------------+\n",
            "|        70269|         mr.daniel's|   Pass|                null|\n",
            "|       104236|          TEMPO CAFE|   Fail|18. NO EVIDENCE O...|\n",
            "|        67733|           WOLCOTT'S|   Pass|                null|\n",
            "|        67757|DUNKIN DONUTS/BAS...|   Pass|                null|\n",
            "|        67732|           WOLCOTT'S|   Pass|                null|\n",
            "+-------------+--------------------+-------+--------------------+\n",
            "only showing top 5 rows\n",
            "\n"
          ],
          "name": "stdout"
        }
      ]
    },
    {
      "cell_type": "code",
      "metadata": {
        "id": "swad_CC11JP8"
      },
      "source": [
        "#sacamos el dataframe de entrenamiento esta vez veamos si tomando solo el 5% de los datos basta para adquirir un modelo bien entrenado\n",
        "#se utiliza la funcion randomSplit para dividir el dataframe el 0 al final es el parametro seed() = o semilla para que sea aleatorio\n",
        "# los 2 dataframes se guardan ahora en una colleccion de dataframes\n",
        "df_list = fi.randomSplit([8.0, 2.0], 0)\n",
        "fi1 = df_list[0]\n",
        "fi2 = df_list[1]\n"
      ],
      "execution_count": null,
      "outputs": []
    },
    {
      "cell_type": "code",
      "metadata": {
        "id": "iF9CSNKd1Ewx"
      },
      "source": [
        "testDfTmp2=testDfTmp1.dropna(subset=['Inspection ID','DBA Name'])\n",
        "testDf=testDfTmp2.na.fill({'Results':'', 'Violations':''})\n"
      ],
      "execution_count": null,
      "outputs": []
    },
    {
      "cell_type": "code",
      "metadata": {
        "colab": {
          "base_uri": "https://localhost:8080/"
        },
        "id": "Si8SSuuvk2cr",
        "outputId": "34ac4b18-78dc-4101-bf24-05ab30f24da3"
      },
      "source": [
        "predictionsDf = model.transform(testDf)\n",
        "predictionsDf.registerTempTable('Predictions')\n",
        "predictionsDf.columns"
      ],
      "execution_count": null,
      "outputs": [
        {
          "output_type": "execute_result",
          "data": {
            "text/plain": [
              "['Inspection ID',\n",
              " 'DBA Name',\n",
              " 'Results',\n",
              " 'Violations',\n",
              " 'words',\n",
              " 'features',\n",
              " 'rawPrediction',\n",
              " 'probability',\n",
              " 'prediction']"
            ]
          },
          "metadata": {
            "tags": []
          },
          "execution_count": 128
        }
      ]
    },
    {
      "cell_type": "code",
      "metadata": {
        "colab": {
          "base_uri": "https://localhost:8080/"
        },
        "id": "UQ4bf3lBm7ZM",
        "outputId": "5665d9b6-7b51-4219-9158-f82d33c25b7f"
      },
      "source": [
        "numSuccesses = predictionsDf.where(\"(prediction = 0 AND results = 'Fail') OR (prediction = 1 AND (results = 'Pass' OR results = 'Pass w/ Conditions'))\").count()\n",
        "type(numSuccesses)"
      ],
      "execution_count": null,
      "outputs": [
        {
          "output_type": "execute_result",
          "data": {
            "text/plain": [
              "int"
            ]
          },
          "metadata": {
            "tags": []
          },
          "execution_count": 129
        }
      ]
    },
    {
      "cell_type": "code",
      "metadata": {
        "id": "Xar90xDSnUVA"
      },
      "source": [
        "numInspections = predictionsDf.count()"
      ],
      "execution_count": null,
      "outputs": []
    },
    {
      "cell_type": "code",
      "metadata": {
        "colab": {
          "base_uri": "https://localhost:8080/"
        },
        "id": "JGZcC_N3nWsl",
        "outputId": "993065c1-bc92-46eb-a301-2db6c29dd24e"
      },
      "source": [
        "print(\"There were\", numInspections, \"inspections and there were\", numSuccesses, \"successful predictions\")\n"
      ],
      "execution_count": null,
      "outputs": [
        {
          "output_type": "stream",
          "text": [
            "There were 151219 inspections and there were 145928 successful predictions\n"
          ],
          "name": "stdout"
        }
      ]
    },
    {
      "cell_type": "code",
      "metadata": {
        "colab": {
          "base_uri": "https://localhost:8080/"
        },
        "id": "Sapwe6G7nkzv",
        "outputId": "ce0a5ca3-b039-4055-f649-ba54224a96b9"
      },
      "source": [
        "print (\"This is a\", str((float(numSuccesses) / float(numInspections)) * 100) + \"%\", \"success rate\")\n"
      ],
      "execution_count": null,
      "outputs": [
        {
          "output_type": "stream",
          "text": [
            "This is a 96.50110105211647% success rate\n"
          ],
          "name": "stdout"
        }
      ]
    },
    {
      "cell_type": "markdown",
      "metadata": {
        "id": "CM4XsaTxnxnB"
      },
      "source": [
        "###4.8. Calidad de la predicción: positivos acertados"
      ]
    },
    {
      "cell_type": "code",
      "metadata": {
        "colab": {
          "base_uri": "https://localhost:8080/"
        },
        "id": "6q30TFfon27C",
        "outputId": "a50d4d0a-0c21-427f-ec2f-04c2d20b7536"
      },
      "source": [
        "true_negative = spark.sql(\"SELECT count(*) AS cnt FROM Predictions WHERE prediction = 0 AND results = 'Fail'\")\n",
        "type(true_negative)"
      ],
      "execution_count": null,
      "outputs": [
        {
          "output_type": "execute_result",
          "data": {
            "text/plain": [
              "pyspark.sql.dataframe.DataFrame"
            ]
          },
          "metadata": {
            "tags": []
          },
          "execution_count": 133
        }
      ]
    },
    {
      "cell_type": "code",
      "metadata": {
        "colab": {
          "base_uri": "https://localhost:8080/"
        },
        "id": "BK-jxgw8n_-L",
        "outputId": "b505d7bb-24f5-413d-c464-922fc712cb84"
      },
      "source": [
        "true_negative.show()"
      ],
      "execution_count": null,
      "outputs": [
        {
          "output_type": "stream",
          "text": [
            "+-----+\n",
            "|  cnt|\n",
            "+-----+\n",
            "|28946|\n",
            "+-----+\n",
            "\n"
          ],
          "name": "stdout"
        }
      ]
    },
    {
      "cell_type": "code",
      "metadata": {
        "id": "U1c0dfWloOZH"
      },
      "source": [
        "false_negative=spark.sql(\"SELECT count(*) AS cnt FROM Predictions WHERE prediction = 0 AND (results = 'Pass' OR results = 'Pass w/ Conditions')\")"
      ],
      "execution_count": null,
      "outputs": []
    },
    {
      "cell_type": "code",
      "metadata": {
        "id": "WK9clrpxofYn"
      },
      "source": [
        "true_positive=spark.sql(\"SELECT count(*) AS cnt FROM Predictions WHERE prediction = 1 AND (results = 'Pass' OR results = 'Pass w/ Conditions')\") "
      ],
      "execution_count": null,
      "outputs": []
    },
    {
      "cell_type": "code",
      "metadata": {
        "id": "iIo-5vrEouAc"
      },
      "source": [
        "false_positive=spark.sql(\"SELECT count(*) AS cnt FROM Predictions WHERE prediction = 1 AND results = 'Fail'\")"
      ],
      "execution_count": null,
      "outputs": []
    },
    {
      "cell_type": "markdown",
      "metadata": {
        "id": "xVzDJxNYo1Pq"
      },
      "source": [
        "###4.9. Grafico"
      ]
    },
    {
      "cell_type": "code",
      "metadata": {
        "id": "5hmS5AESo4qj"
      },
      "source": [
        "import matplotlib.pyplot as plt\n",
        "labels = ['True positive', 'False positive', 'True negative', 'False negative']\n",
        "sizes = [true_positive.collect()[0]['cnt'], false_positive.collect()[0]['cnt'], true_negative.collect()[0]['cnt'], false_negative.collect()[0]['cnt']]"
      ],
      "execution_count": null,
      "outputs": []
    },
    {
      "cell_type": "code",
      "metadata": {
        "colab": {
          "base_uri": "https://localhost:8080/",
          "height": 452
        },
        "id": "0s0zJSW3pG9c",
        "outputId": "c9cf9f82-998e-4b18-e477-049e35d7ee87"
      },
      "source": [
        "plt.pie(sizes, labels=labels, autopct='%1.1f%%')"
      ],
      "execution_count": null,
      "outputs": [
        {
          "output_type": "execute_result",
          "data": {
            "text/plain": [
              "([<matplotlib.patches.Wedge at 0x7f711a5d2710>,\n",
              "  <matplotlib.patches.Wedge at 0x7f711a5d2ed0>,\n",
              "  <matplotlib.patches.Wedge at 0x7f711a5dd790>,\n",
              "  <matplotlib.patches.Wedge at 0x7f711a5e70d0>],\n",
              " [Text(-0.8332811839386138, 0.7180824942120941, 'True positive'),\n",
              "  Text(0.2652717688232973, -1.0675349589898024, 'False positive'),\n",
              "  Text(0.8884629713839827, -0.6485626789135686, 'True negative'),\n",
              "  Text(1.0998826828045265, -0.01606499507369095, 'False negative')],\n",
              " [Text(-0.45451700942106205, 0.391681360479324, '77.4%'),\n",
              "  Text(0.14469369208543487, -0.5822917958126195, '3.0%'),\n",
              "  Text(0.48461616620944503, -0.3537614612255828, '19.1%'),\n",
              "  Text(0.5999360088024689, -0.00876272458564961, '0.5%')])"
            ]
          },
          "metadata": {
            "tags": []
          },
          "execution_count": 139
        },
        {
          "output_type": "display_data",
          "data": {
            "image/png": "[encoded data removed]",
            "text/plain": [
              "<Figure size 432x288 with 1 Axes>"
            ]
          },
          "metadata": {
            "tags": []
          }
        }
      ]
    },
    {
      "cell_type": "code",
      "metadata": {
        "colab": {
          "base_uri": "https://localhost:8080/",
          "height": 299
        },
        "id": "EvdmJnuhpQM9",
        "outputId": "2739da2b-f623-4813-fa9b-ef93db3ceed2"
      },
      "source": [
        "plt.title('Resuls stats')"
      ],
      "execution_count": null,
      "outputs": [
        {
          "output_type": "execute_result",
          "data": {
            "text/plain": [
              "Text(0.5, 1.0, 'Resuls stats')"
            ]
          },
          "metadata": {
            "tags": []
          },
          "execution_count": 140
        },
        {
          "output_type": "display_data",
          "data": {
            "image/png": "[encoded data removed]",
            "text/plain": [
              "<Figure size 432x288 with 1 Axes>"
            ]
          },
          "metadata": {
            "tags": []
          }
        }
      ]
    },
    {
      "cell_type": "code",
      "metadata": {
        "colab": {
          "base_uri": "https://localhost:8080/",
          "height": 337
        },
        "id": "vNNbg_aVpRSN",
        "outputId": "e76b2634-81f4-4a39-b992-206186eaa80c"
      },
      "source": [
        "plt.axis('equal')"
      ],
      "execution_count": null,
      "outputs": [
        {
          "output_type": "execute_result",
          "data": {
            "text/plain": [
              "(-0.05500000000000001,\n",
              " 0.05500000000000001,\n",
              " -0.05500000000000001,\n",
              " 0.05500000000000001)"
            ]
          },
          "metadata": {
            "tags": []
          },
          "execution_count": 141
        },
        {
          "output_type": "display_data",
          "data": {
            "image/png": "[encoded data removed]",
            "text/plain": [
              "<Figure size 432x288 with 1 Axes>"
            ]
          },
          "metadata": {
            "tags": []
          }
        }
      ]
    },
    {
      "cell_type": "code",
      "metadata": {
        "id": "rdFD1D8dpXpO"
      },
      "source": [
        "plt.show()"
      ],
      "execution_count": null,
      "outputs": []
    },
    {
      "cell_type": "markdown",
      "metadata": {
        "id": "PacE-n0mhunp"
      },
      "source": [
        "#5. Spark Streaming"
      ]
    },
    {
      "cell_type": "code",
      "metadata": {
        "id": "2fPnBZ6GiD1d"
      },
      "source": [
        "from pyspark import SparkContext\n",
        "from pyspark.streaming import StreamingContext"
      ],
      "execution_count": null,
      "outputs": []
    },
    {
      "cell_type": "code",
      "metadata": {
        "colab": {
          "base_uri": "https://localhost:8080/"
        },
        "id": "OZ9BgYcDqjiJ",
        "outputId": "a719d294-defa-41dd-f868-06b2dca9fbb7"
      },
      "source": [
        "#Crea el SparkContext con n hilos de procesamiento\n",
        "#sc = SparkContext (\"local[*]\", \"ContadorDePalabrasRecibidas\")\n",
        "sc.setLogLevel(\"ERROR\")\n",
        "print(\"interfaz de usuario: \"+ sc.uiWebUrl)"
      ],
      "execution_count": null,
      "outputs": [
        {
          "output_type": "stream",
          "text": [
            "interfaz de usuario: http://e5e7d6e7e22f:4040\n"
          ],
          "name": "stdout"
        }
      ]
    },
    {
      "cell_type": "code",
      "metadata": {
        "id": "atYJfm5fq2qs"
      },
      "source": [
        "# Crea un StreamingContext con intervalos de n segundos\n",
        "ssc = StreamingContext (sc, 5)"
      ],
      "execution_count": null,
      "outputs": []
    },
    {
      "cell_type": "code",
      "metadata": {
        "id": "OszrTamirACj"
      },
      "source": [
        "# Crea un DStream que conecta con un flujo de texto de internet (servidor)\n",
        "lineas = ssc.socketTextStream(\"35.245.110.151\",  9999)\n"
      ],
      "execution_count": null,
      "outputs": []
    },
    {
      "cell_type": "code",
      "metadata": {
        "id": "MfDOigmjtOWd"
      },
      "source": [
        "# Divide cada línea en palabras\n",
        "palabras = lineas.flatMap(lambda line: line.split(\" \"))"
      ],
      "execution_count": null,
      "outputs": []
    },
    {
      "cell_type": "code",
      "metadata": {
        "id": "ytXz8HuStga1"
      },
      "source": [
        "## Cuenta las ocurrencias de cada palabra en cada lote (RDD)\n",
        "parejas = palabras.map(lambda word: (word, 1))\n",
        "\n",
        "contadorPalabras = parejas.reduceByKey(lambda x, y: x + y)"
      ],
      "execution_count": null,
      "outputs": []
    },
    {
      "cell_type": "code",
      "metadata": {
        "id": "ad2SkEp5t32w"
      },
      "source": [
        "# Muestra los primeros 10 elementos de cada lote (RDD) del DStream\n",
        "contadorPalabras.pprint()"
      ],
      "execution_count": null,
      "outputs": []
    },
    {
      "cell_type": "markdown",
      "metadata": {
        "id": "GKxWLxJID-qx"
      },
      "source": [
        "#6. Proyecto Final\n",
        "\n",
        "# COMPUTACIÓN SOBRE DATOS MASIVOS.\n",
        "\n",
        "Proyecto Asignatura\n",
        "\n",
        "* Docente: FRANCISCO DE ASÍS GUINDOS ROJAS\n",
        "* Alumno: CARLOS EFRÉN FERNÁNDEZ ABAD\n",
        "\n",
        "Implemente un modelo de clasificacion de imagenes\n",
        "\n",
        "* Conjunto de datos:http://yann.lecun.com/exdb/mnist/\n",
        "* Conversion de conjunto de datos: https://github.com/egcode/MNIST-to-CSV\n",
        "* Modelo de regresion: https://cutt.ly/lc1ovtE\n",
        "* Plataforma de implementacion: https://colab.research.google.com/ \n",
        "* Instalacion Pyspark:  http://setup.johnsnowlabs.com/colab.sh\n",
        "\n",
        "\n",
        "<img src=\"https://upload.wikimedia.org/wikipedia/commons/2/27/MnistExamples.png\">\n",
        "\n",
        "<img src=\"https://miro.medium.com/max/2400/0*nh3HnqO3diLen7iz.png\">\n",
        "\n",
        "El conjunto de datos MNIST es un conjunto de dígitos de caracteres escritos a\n",
        "mano derivados de la base de datos especial NIST 19 y convertidos a un formato de imagen de 28x28 píxeles en escala de grises.\n",
        "\n",
        "El conjunto de entrenamiento contiene 60.000 ejemplos (filas) y el conjunto de prueba 10.000 ejemplos (filas), no tiene cabeceras, cada fila del conjunto de datos contiene 785 columnas (28x28 píxeles aprox), con la primera columna como etiqueta para identificar a que numero pertenece y las otras 784 columnas corrresponden a los pixeles y cada valor de píxel tiene un rango de [0-255].\n",
        "\n",
        "El siguiente algoritmo implementa un modelo de aprendizaje supervisado dentro del campo  de machine learning, el modelo de regresion logistica, este modelo permite clasificar las imagenes de numeros escritos a mano realizando predecciones a partir del entrenamiento previo del modelo."
      ]
    },
    {
      "cell_type": "markdown",
      "metadata": {
        "id": "IwoE137skwtJ"
      },
      "source": [
        "### 6.1 Carga de los datos de entrenamiento"
      ]
    },
    {
      "cell_type": "code",
      "metadata": {
        "id": "Vg0474bnadJz"
      },
      "source": [
        "# Cargamos una sesion spark, que es diferente de un sparkcontext, el spark context nos permite trabajar con rdd en versiones inferiores a spark 2.0\n",
        "# pero si necesitamos trabajar  con dataframes adicionalmente se debe configurar el sparkconf(), el sparksession se incluyo desde la version 2.0 de spark \n",
        "from pyspark.sql import SparkSession\n",
        "spark = SparkSession.builder.appName(\"Test_spark\").master(\"local[*]\").getOrCreate()"
      ],
      "execution_count": null,
      "outputs": []
    },
    {
      "cell_type": "code",
      "metadata": {
        "id": "BSB_6QatGUOu"
      },
      "source": [
        "import matplotlib.pyplot as plt\n",
        "import pandas as pd\n",
        "\n",
        "%matplotlib inline"
      ],
      "execution_count": null,
      "outputs": []
    },
    {
      "cell_type": "code",
      "metadata": {
        "id": "Pajd9qXfD9hI"
      },
      "source": [
        "#creamos un dataframe llamado df_training que contendra el conjunto de datos de entrenamiento  \"mnist_train.csv\"\n",
        "#\n",
        "df_training = (spark\n",
        "               .read\n",
        "               .options(header = False, inferSchema = True)\n",
        "               .csv(\"drive/MyDrive/DatosPyspark/mnist_train.csv\"))"
      ],
      "execution_count": null,
      "outputs": []
    },
    {
      "cell_type": "code",
      "metadata": {
        "colab": {
          "base_uri": "https://localhost:8080/"
        },
        "id": "mgvoQXjT1SRb",
        "outputId": "95b1558f-c3ef-4ca2-9ae0-714cd6ce69ab"
      },
      "source": [
        "#leemos el schema\n",
        "df_training.schema\n"
      ],
      "execution_count": null,
      "outputs": [
        {
          "output_type": "execute_result",
          "data": {
            "text/plain": [
              "StructType(List(StructField(_c0,IntegerType,true),StructField(_c1,IntegerType,true),StructField(_c2,IntegerType,true),StructField(_c3,IntegerType,true),StructField(_c4,IntegerType,true),StructField(_c5,IntegerType,true),StructField(_c6,IntegerType,true),StructField(_c7,IntegerType,true),StructField(_c8,IntegerType,true),StructField(_c9,IntegerType,true),StructField(_c10,IntegerType,true),StructField(_c11,IntegerType,true),StructField(_c12,IntegerType,true),StructField(_c13,IntegerType,true),StructField(_c14,IntegerType,true),StructField(_c15,IntegerType,true),StructField(_c16,IntegerType,true),StructField(_c17,IntegerType,true),StructField(_c18,IntegerType,true),StructField(_c19,IntegerType,true),StructField(_c20,IntegerType,true),StructField(_c21,IntegerType,true),StructField(_c22,IntegerType,true),StructField(_c23,IntegerType,true),StructField(_c24,IntegerType,true),StructField(_c25,IntegerType,true),StructField(_c26,IntegerType,true),StructField(_c27,IntegerType,true),StructField(_c28,IntegerType,true),StructField(_c29,IntegerType,true),StructField(_c30,IntegerType,true),StructField(_c31,IntegerType,true),StructField(_c32,IntegerType,true),StructField(_c33,IntegerType,true),StructField(_c34,IntegerType,true),StructField(_c35,IntegerType,true),StructField(_c36,IntegerType,true),StructField(_c37,IntegerType,true),StructField(_c38,IntegerType,true),StructField(_c39,IntegerType,true),StructField(_c40,IntegerType,true),StructField(_c41,IntegerType,true),StructField(_c42,IntegerType,true),StructField(_c43,IntegerType,true),StructField(_c44,IntegerType,true),StructField(_c45,IntegerType,true),StructField(_c46,IntegerType,true),StructField(_c47,IntegerType,true),StructField(_c48,IntegerType,true),StructField(_c49,IntegerType,true),StructField(_c50,IntegerType,true),StructField(_c51,IntegerType,true),StructField(_c52,IntegerType,true),StructField(_c53,IntegerType,true),StructField(_c54,IntegerType,true),StructField(_c55,IntegerType,true),StructField(_c56,IntegerType,true),StructField(_c57,IntegerType,true),StructField(_c58,IntegerType,true),StructField(_c59,IntegerType,true),StructField(_c60,IntegerType,true),StructField(_c61,IntegerType,true),StructField(_c62,IntegerType,true),StructField(_c63,IntegerType,true),StructField(_c64,IntegerType,true),StructField(_c65,IntegerType,true),StructField(_c66,IntegerType,true),StructField(_c67,IntegerType,true),StructField(_c68,IntegerType,true),StructField(_c69,IntegerType,true),StructField(_c70,IntegerType,true),StructField(_c71,IntegerType,true),StructField(_c72,IntegerType,true),StructField(_c73,IntegerType,true),StructField(_c74,IntegerType,true),StructField(_c75,IntegerType,true),StructField(_c76,IntegerType,true),StructField(_c77,IntegerType,true),StructField(_c78,IntegerType,true),StructField(_c79,IntegerType,true),StructField(_c80,IntegerType,true),StructField(_c81,IntegerType,true),StructField(_c82,IntegerType,true),StructField(_c83,IntegerType,true),StructField(_c84,IntegerType,true),StructField(_c85,IntegerType,true),StructField(_c86,IntegerType,true),StructField(_c87,IntegerType,true),StructField(_c88,IntegerType,true),StructField(_c89,IntegerType,true),StructField(_c90,IntegerType,true),StructField(_c91,IntegerType,true),StructField(_c92,IntegerType,true),StructField(_c93,IntegerType,true),StructField(_c94,IntegerType,true),StructField(_c95,IntegerType,true),StructField(_c96,IntegerType,true),StructField(_c97,IntegerType,true),StructField(_c98,IntegerType,true),StructField(_c99,IntegerType,true),StructField(_c100,IntegerType,true),StructField(_c101,IntegerType,true),StructField(_c102,IntegerType,true),StructField(_c103,IntegerType,true),StructField(_c104,IntegerType,true),StructField(_c105,IntegerType,true),StructField(_c106,IntegerType,true),StructField(_c107,IntegerType,true),StructField(_c108,IntegerType,true),StructField(_c109,IntegerType,true),StructField(_c110,IntegerType,true),StructField(_c111,IntegerType,true),StructField(_c112,IntegerType,true),StructField(_c113,IntegerType,true),StructField(_c114,IntegerType,true),StructField(_c115,IntegerType,true),StructField(_c116,IntegerType,true),StructField(_c117,IntegerType,true),StructField(_c118,IntegerType,true),StructField(_c119,IntegerType,true),StructField(_c120,IntegerType,true),StructField(_c121,IntegerType,true),StructField(_c122,IntegerType,true),StructField(_c123,IntegerType,true),StructField(_c124,IntegerType,true),StructField(_c125,IntegerType,true),StructField(_c126,IntegerType,true),StructField(_c127,IntegerType,true),StructField(_c128,IntegerType,true),StructField(_c129,IntegerType,true),StructField(_c130,IntegerType,true),StructField(_c131,IntegerType,true),StructField(_c132,IntegerType,true),StructField(_c133,IntegerType,true),StructField(_c134,IntegerType,true),StructField(_c135,IntegerType,true),StructField(_c136,IntegerType,true),StructField(_c137,IntegerType,true),StructField(_c138,IntegerType,true),StructField(_c139,IntegerType,true),StructField(_c140,IntegerType,true),StructField(_c141,IntegerType,true),StructField(_c142,IntegerType,true),StructField(_c143,IntegerType,true),StructField(_c144,IntegerType,true),StructField(_c145,IntegerType,true),StructField(_c146,IntegerType,true),StructField(_c147,IntegerType,true),StructField(_c148,IntegerType,true),StructField(_c149,IntegerType,true),StructField(_c150,IntegerType,true),StructField(_c151,IntegerType,true),StructField(_c152,IntegerType,true),StructField(_c153,IntegerType,true),StructField(_c154,IntegerType,true),StructField(_c155,IntegerType,true),StructField(_c156,IntegerType,true),StructField(_c157,IntegerType,true),StructField(_c158,IntegerType,true),StructField(_c159,IntegerType,true),StructField(_c160,IntegerType,true),StructField(_c161,IntegerType,true),StructField(_c162,IntegerType,true),StructField(_c163,IntegerType,true),StructField(_c164,IntegerType,true),StructField(_c165,IntegerType,true),StructField(_c166,IntegerType,true),StructField(_c167,IntegerType,true),StructField(_c168,IntegerType,true),StructField(_c169,IntegerType,true),StructField(_c170,IntegerType,true),StructField(_c171,IntegerType,true),StructField(_c172,IntegerType,true),StructField(_c173,IntegerType,true),StructField(_c174,IntegerType,true),StructField(_c175,IntegerType,true),StructField(_c176,IntegerType,true),StructField(_c177,IntegerType,true),StructField(_c178,IntegerType,true),StructField(_c179,IntegerType,true),StructField(_c180,IntegerType,true),StructField(_c181,IntegerType,true),StructField(_c182,IntegerType,true),StructField(_c183,IntegerType,true),StructField(_c184,IntegerType,true),StructField(_c185,IntegerType,true),StructField(_c186,IntegerType,true),StructField(_c187,IntegerType,true),StructField(_c188,IntegerType,true),StructField(_c189,IntegerType,true),StructField(_c190,IntegerType,true),StructField(_c191,IntegerType,true),StructField(_c192,IntegerType,true),StructField(_c193,IntegerType,true),StructField(_c194,IntegerType,true),StructField(_c195,IntegerType,true),StructField(_c196,IntegerType,true),StructField(_c197,IntegerType,true),StructField(_c198,IntegerType,true),StructField(_c199,IntegerType,true),StructField(_c200,IntegerType,true),StructField(_c201,IntegerType,true),StructField(_c202,IntegerType,true),StructField(_c203,IntegerType,true),StructField(_c204,IntegerType,true),StructField(_c205,IntegerType,true),StructField(_c206,IntegerType,true),StructField(_c207,IntegerType,true),StructField(_c208,IntegerType,true),StructField(_c209,IntegerType,true),StructField(_c210,IntegerType,true),StructField(_c211,IntegerType,true),StructField(_c212,IntegerType,true),StructField(_c213,IntegerType,true),StructField(_c214,IntegerType,true),StructField(_c215,IntegerType,true),StructField(_c216,IntegerType,true),StructField(_c217,IntegerType,true),StructField(_c218,IntegerType,true),StructField(_c219,IntegerType,true),StructField(_c220,IntegerType,true),StructField(_c221,IntegerType,true),StructField(_c222,IntegerType,true),StructField(_c223,IntegerType,true),StructField(_c224,IntegerType,true),StructField(_c225,IntegerType,true),StructField(_c226,IntegerType,true),StructField(_c227,IntegerType,true),StructField(_c228,IntegerType,true),StructField(_c229,IntegerType,true),StructField(_c230,IntegerType,true),StructField(_c231,IntegerType,true),StructField(_c232,IntegerType,true),StructField(_c233,IntegerType,true),StructField(_c234,IntegerType,true),StructField(_c235,IntegerType,true),StructField(_c236,IntegerType,true),StructField(_c237,IntegerType,true),StructField(_c238,IntegerType,true),StructField(_c239,IntegerType,true),StructField(_c240,IntegerType,true),StructField(_c241,IntegerType,true),StructField(_c242,IntegerType,true),StructField(_c243,IntegerType,true),StructField(_c244,IntegerType,true),StructField(_c245,IntegerType,true),StructField(_c246,IntegerType,true),StructField(_c247,IntegerType,true),StructField(_c248,IntegerType,true),StructField(_c249,IntegerType,true),StructField(_c250,IntegerType,true),StructField(_c251,IntegerType,true),StructField(_c252,IntegerType,true),StructField(_c253,IntegerType,true),StructField(_c254,IntegerType,true),StructField(_c255,IntegerType,true),StructField(_c256,IntegerType,true),StructField(_c257,IntegerType,true),StructField(_c258,IntegerType,true),StructField(_c259,IntegerType,true),StructField(_c260,IntegerType,true),StructField(_c261,IntegerType,true),StructField(_c262,IntegerType,true),StructField(_c263,IntegerType,true),StructField(_c264,IntegerType,true),StructField(_c265,IntegerType,true),StructField(_c266,IntegerType,true),StructField(_c267,IntegerType,true),StructField(_c268,IntegerType,true),StructField(_c269,IntegerType,true),StructField(_c270,IntegerType,true),StructField(_c271,IntegerType,true),StructField(_c272,IntegerType,true),StructField(_c273,IntegerType,true),StructField(_c274,IntegerType,true),StructField(_c275,IntegerType,true),StructField(_c276,IntegerType,true),StructField(_c277,IntegerType,true),StructField(_c278,IntegerType,true),StructField(_c279,IntegerType,true),StructField(_c280,IntegerType,true),StructField(_c281,IntegerType,true),StructField(_c282,IntegerType,true),StructField(_c283,IntegerType,true),StructField(_c284,IntegerType,true),StructField(_c285,IntegerType,true),StructField(_c286,IntegerType,true),StructField(_c287,IntegerType,true),StructField(_c288,IntegerType,true),StructField(_c289,IntegerType,true),StructField(_c290,IntegerType,true),StructField(_c291,IntegerType,true),StructField(_c292,IntegerType,true),StructField(_c293,IntegerType,true),StructField(_c294,IntegerType,true),StructField(_c295,IntegerType,true),StructField(_c296,IntegerType,true),StructField(_c297,IntegerType,true),StructField(_c298,IntegerType,true),StructField(_c299,IntegerType,true),StructField(_c300,IntegerType,true),StructField(_c301,IntegerType,true),StructField(_c302,IntegerType,true),StructField(_c303,IntegerType,true),StructField(_c304,IntegerType,true),StructField(_c305,IntegerType,true),StructField(_c306,IntegerType,true),StructField(_c307,IntegerType,true),StructField(_c308,IntegerType,true),StructField(_c309,IntegerType,true),StructField(_c310,IntegerType,true),StructField(_c311,IntegerType,true),StructField(_c312,IntegerType,true),StructField(_c313,IntegerType,true),StructField(_c314,IntegerType,true),StructField(_c315,IntegerType,true),StructField(_c316,IntegerType,true),StructField(_c317,IntegerType,true),StructField(_c318,IntegerType,true),StructField(_c319,IntegerType,true),StructField(_c320,IntegerType,true),StructField(_c321,IntegerType,true),StructField(_c322,IntegerType,true),StructField(_c323,IntegerType,true),StructField(_c324,IntegerType,true),StructField(_c325,IntegerType,true),StructField(_c326,IntegerType,true),StructField(_c327,IntegerType,true),StructField(_c328,IntegerType,true),StructField(_c329,IntegerType,true),StructField(_c330,IntegerType,true),StructField(_c331,IntegerType,true),StructField(_c332,IntegerType,true),StructField(_c333,IntegerType,true),StructField(_c334,IntegerType,true),StructField(_c335,IntegerType,true),StructField(_c336,IntegerType,true),StructField(_c337,IntegerType,true),StructField(_c338,IntegerType,true),StructField(_c339,IntegerType,true),StructField(_c340,IntegerType,true),StructField(_c341,IntegerType,true),StructField(_c342,IntegerType,true),StructField(_c343,IntegerType,true),StructField(_c344,IntegerType,true),StructField(_c345,IntegerType,true),StructField(_c346,IntegerType,true),StructField(_c347,IntegerType,true),StructField(_c348,IntegerType,true),StructField(_c349,IntegerType,true),StructField(_c350,IntegerType,true),StructField(_c351,IntegerType,true),StructField(_c352,IntegerType,true),StructField(_c353,IntegerType,true),StructField(_c354,IntegerType,true),StructField(_c355,IntegerType,true),StructField(_c356,IntegerType,true),StructField(_c357,IntegerType,true),StructField(_c358,IntegerType,true),StructField(_c359,IntegerType,true),StructField(_c360,IntegerType,true),StructField(_c361,IntegerType,true),StructField(_c362,IntegerType,true),StructField(_c363,IntegerType,true),StructField(_c364,IntegerType,true),StructField(_c365,IntegerType,true),StructField(_c366,IntegerType,true),StructField(_c367,IntegerType,true),StructField(_c368,IntegerType,true),StructField(_c369,IntegerType,true),StructField(_c370,IntegerType,true),StructField(_c371,IntegerType,true),StructField(_c372,IntegerType,true),StructField(_c373,IntegerType,true),StructField(_c374,IntegerType,true),StructField(_c375,IntegerType,true),StructField(_c376,IntegerType,true),StructField(_c377,IntegerType,true),StructField(_c378,IntegerType,true),StructField(_c379,IntegerType,true),StructField(_c380,IntegerType,true),StructField(_c381,IntegerType,true),StructField(_c382,IntegerType,true),StructField(_c383,IntegerType,true),StructField(_c384,IntegerType,true),StructField(_c385,IntegerType,true),StructField(_c386,IntegerType,true),StructField(_c387,IntegerType,true),StructField(_c388,IntegerType,true),StructField(_c389,IntegerType,true),StructField(_c390,IntegerType,true),StructField(_c391,IntegerType,true),StructField(_c392,IntegerType,true),StructField(_c393,IntegerType,true),StructField(_c394,IntegerType,true),StructField(_c395,IntegerType,true),StructField(_c396,IntegerType,true),StructField(_c397,IntegerType,true),StructField(_c398,IntegerType,true),StructField(_c399,IntegerType,true),StructField(_c400,IntegerType,true),StructField(_c401,IntegerType,true),StructField(_c402,IntegerType,true),StructField(_c403,IntegerType,true),StructField(_c404,IntegerType,true),StructField(_c405,IntegerType,true),StructField(_c406,IntegerType,true),StructField(_c407,IntegerType,true),StructField(_c408,IntegerType,true),StructField(_c409,IntegerType,true),StructField(_c410,IntegerType,true),StructField(_c411,IntegerType,true),StructField(_c412,IntegerType,true),StructField(_c413,IntegerType,true),StructField(_c414,IntegerType,true),StructField(_c415,IntegerType,true),StructField(_c416,IntegerType,true),StructField(_c417,IntegerType,true),StructField(_c418,IntegerType,true),StructField(_c419,IntegerType,true),StructField(_c420,IntegerType,true),StructField(_c421,IntegerType,true),StructField(_c422,IntegerType,true),StructField(_c423,IntegerType,true),StructField(_c424,IntegerType,true),StructField(_c425,IntegerType,true),StructField(_c426,IntegerType,true),StructField(_c427,IntegerType,true),StructField(_c428,IntegerType,true),StructField(_c429,IntegerType,true),StructField(_c430,IntegerType,true),StructField(_c431,IntegerType,true),StructField(_c432,IntegerType,true),StructField(_c433,IntegerType,true),StructField(_c434,IntegerType,true),StructField(_c435,IntegerType,true),StructField(_c436,IntegerType,true),StructField(_c437,IntegerType,true),StructField(_c438,IntegerType,true),StructField(_c439,IntegerType,true),StructField(_c440,IntegerType,true),StructField(_c441,IntegerType,true),StructField(_c442,IntegerType,true),StructField(_c443,IntegerType,true),StructField(_c444,IntegerType,true),StructField(_c445,IntegerType,true),StructField(_c446,IntegerType,true),StructField(_c447,IntegerType,true),StructField(_c448,IntegerType,true),StructField(_c449,IntegerType,true),StructField(_c450,IntegerType,true),StructField(_c451,IntegerType,true),StructField(_c452,IntegerType,true),StructField(_c453,IntegerType,true),StructField(_c454,IntegerType,true),StructField(_c455,IntegerType,true),StructField(_c456,IntegerType,true),StructField(_c457,IntegerType,true),StructField(_c458,IntegerType,true),StructField(_c459,IntegerType,true),StructField(_c460,IntegerType,true),StructField(_c461,IntegerType,true),StructField(_c462,IntegerType,true),StructField(_c463,IntegerType,true),StructField(_c464,IntegerType,true),StructField(_c465,IntegerType,true),StructField(_c466,IntegerType,true),StructField(_c467,IntegerType,true),StructField(_c468,IntegerType,true),StructField(_c469,IntegerType,true),StructField(_c470,IntegerType,true),StructField(_c471,IntegerType,true),StructField(_c472,IntegerType,true),StructField(_c473,IntegerType,true),StructField(_c474,IntegerType,true),StructField(_c475,IntegerType,true),StructField(_c476,IntegerType,true),StructField(_c477,IntegerType,true),StructField(_c478,IntegerType,true),StructField(_c479,IntegerType,true),StructField(_c480,IntegerType,true),StructField(_c481,IntegerType,true),StructField(_c482,IntegerType,true),StructField(_c483,IntegerType,true),StructField(_c484,IntegerType,true),StructField(_c485,IntegerType,true),StructField(_c486,IntegerType,true),StructField(_c487,IntegerType,true),StructField(_c488,IntegerType,true),StructField(_c489,IntegerType,true),StructField(_c490,IntegerType,true),StructField(_c491,IntegerType,true),StructField(_c492,IntegerType,true),StructField(_c493,IntegerType,true),StructField(_c494,IntegerType,true),StructField(_c495,IntegerType,true),StructField(_c496,IntegerType,true),StructField(_c497,IntegerType,true),StructField(_c498,IntegerType,true),StructField(_c499,IntegerType,true),StructField(_c500,IntegerType,true),StructField(_c501,IntegerType,true),StructField(_c502,IntegerType,true),StructField(_c503,IntegerType,true),StructField(_c504,IntegerType,true),StructField(_c505,IntegerType,true),StructField(_c506,IntegerType,true),StructField(_c507,IntegerType,true),StructField(_c508,IntegerType,true),StructField(_c509,IntegerType,true),StructField(_c510,IntegerType,true),StructField(_c511,IntegerType,true),StructField(_c512,IntegerType,true),StructField(_c513,IntegerType,true),StructField(_c514,IntegerType,true),StructField(_c515,IntegerType,true),StructField(_c516,IntegerType,true),StructField(_c517,IntegerType,true),StructField(_c518,IntegerType,true),StructField(_c519,IntegerType,true),StructField(_c520,IntegerType,true),StructField(_c521,IntegerType,true),StructField(_c522,IntegerType,true),StructField(_c523,IntegerType,true),StructField(_c524,IntegerType,true),StructField(_c525,IntegerType,true),StructField(_c526,IntegerType,true),StructField(_c527,IntegerType,true),StructField(_c528,IntegerType,true),StructField(_c529,IntegerType,true),StructField(_c530,IntegerType,true),StructField(_c531,IntegerType,true),StructField(_c532,IntegerType,true),StructField(_c533,IntegerType,true),StructField(_c534,IntegerType,true),StructField(_c535,IntegerType,true),StructField(_c536,IntegerType,true),StructField(_c537,IntegerType,true),StructField(_c538,IntegerType,true),StructField(_c539,IntegerType,true),StructField(_c540,IntegerType,true),StructField(_c541,IntegerType,true),StructField(_c542,IntegerType,true),StructField(_c543,IntegerType,true),StructField(_c544,IntegerType,true),StructField(_c545,IntegerType,true),StructField(_c546,IntegerType,true),StructField(_c547,IntegerType,true),StructField(_c548,IntegerType,true),StructField(_c549,IntegerType,true),StructField(_c550,IntegerType,true),StructField(_c551,IntegerType,true),StructField(_c552,IntegerType,true),StructField(_c553,IntegerType,true),StructField(_c554,IntegerType,true),StructField(_c555,IntegerType,true),StructField(_c556,IntegerType,true),StructField(_c557,IntegerType,true),StructField(_c558,IntegerType,true),StructField(_c559,IntegerType,true),StructField(_c560,IntegerType,true),StructField(_c561,IntegerType,true),StructField(_c562,IntegerType,true),StructField(_c563,IntegerType,true),StructField(_c564,IntegerType,true),StructField(_c565,IntegerType,true),StructField(_c566,IntegerType,true),StructField(_c567,IntegerType,true),StructField(_c568,IntegerType,true),StructField(_c569,IntegerType,true),StructField(_c570,IntegerType,true),StructField(_c571,IntegerType,true),StructField(_c572,IntegerType,true),StructField(_c573,IntegerType,true),StructField(_c574,IntegerType,true),StructField(_c575,IntegerType,true),StructField(_c576,IntegerType,true),StructField(_c577,IntegerType,true),StructField(_c578,IntegerType,true),StructField(_c579,IntegerType,true),StructField(_c580,IntegerType,true),StructField(_c581,IntegerType,true),StructField(_c582,IntegerType,true),StructField(_c583,IntegerType,true),StructField(_c584,IntegerType,true),StructField(_c585,IntegerType,true),StructField(_c586,IntegerType,true),StructField(_c587,IntegerType,true),StructField(_c588,IntegerType,true),StructField(_c589,IntegerType,true),StructField(_c590,IntegerType,true),StructField(_c591,IntegerType,true),StructField(_c592,IntegerType,true),StructField(_c593,IntegerType,true),StructField(_c594,IntegerType,true),StructField(_c595,IntegerType,true),StructField(_c596,IntegerType,true),StructField(_c597,IntegerType,true),StructField(_c598,IntegerType,true),StructField(_c599,IntegerType,true),StructField(_c600,IntegerType,true),StructField(_c601,IntegerType,true),StructField(_c602,IntegerType,true),StructField(_c603,IntegerType,true),StructField(_c604,IntegerType,true),StructField(_c605,IntegerType,true),StructField(_c606,IntegerType,true),StructField(_c607,IntegerType,true),StructField(_c608,IntegerType,true),StructField(_c609,IntegerType,true),StructField(_c610,IntegerType,true),StructField(_c611,IntegerType,true),StructField(_c612,IntegerType,true),StructField(_c613,IntegerType,true),StructField(_c614,IntegerType,true),StructField(_c615,IntegerType,true),StructField(_c616,IntegerType,true),StructField(_c617,IntegerType,true),StructField(_c618,IntegerType,true),StructField(_c619,IntegerType,true),StructField(_c620,IntegerType,true),StructField(_c621,IntegerType,true),StructField(_c622,IntegerType,true),StructField(_c623,IntegerType,true),StructField(_c624,IntegerType,true),StructField(_c625,IntegerType,true),StructField(_c626,IntegerType,true),StructField(_c627,IntegerType,true),StructField(_c628,IntegerType,true),StructField(_c629,IntegerType,true),StructField(_c630,IntegerType,true),StructField(_c631,IntegerType,true),StructField(_c632,IntegerType,true),StructField(_c633,IntegerType,true),StructField(_c634,IntegerType,true),StructField(_c635,IntegerType,true),StructField(_c636,IntegerType,true),StructField(_c637,IntegerType,true),StructField(_c638,IntegerType,true),StructField(_c639,IntegerType,true),StructField(_c640,IntegerType,true),StructField(_c641,IntegerType,true),StructField(_c642,IntegerType,true),StructField(_c643,IntegerType,true),StructField(_c644,IntegerType,true),StructField(_c645,IntegerType,true),StructField(_c646,IntegerType,true),StructField(_c647,IntegerType,true),StructField(_c648,IntegerType,true),StructField(_c649,IntegerType,true),StructField(_c650,IntegerType,true),StructField(_c651,IntegerType,true),StructField(_c652,IntegerType,true),StructField(_c653,IntegerType,true),StructField(_c654,IntegerType,true),StructField(_c655,IntegerType,true),StructField(_c656,IntegerType,true),StructField(_c657,IntegerType,true),StructField(_c658,IntegerType,true),StructField(_c659,IntegerType,true),StructField(_c660,IntegerType,true),StructField(_c661,IntegerType,true),StructField(_c662,IntegerType,true),StructField(_c663,IntegerType,true),StructField(_c664,IntegerType,true),StructField(_c665,IntegerType,true),StructField(_c666,IntegerType,true),StructField(_c667,IntegerType,true),StructField(_c668,IntegerType,true),StructField(_c669,IntegerType,true),StructField(_c670,IntegerType,true),StructField(_c671,IntegerType,true),StructField(_c672,IntegerType,true),StructField(_c673,IntegerType,true),StructField(_c674,IntegerType,true),StructField(_c675,IntegerType,true),StructField(_c676,IntegerType,true),StructField(_c677,IntegerType,true),StructField(_c678,IntegerType,true),StructField(_c679,IntegerType,true),StructField(_c680,IntegerType,true),StructField(_c681,IntegerType,true),StructField(_c682,IntegerType,true),StructField(_c683,IntegerType,true),StructField(_c684,IntegerType,true),StructField(_c685,IntegerType,true),StructField(_c686,IntegerType,true),StructField(_c687,IntegerType,true),StructField(_c688,IntegerType,true),StructField(_c689,IntegerType,true),StructField(_c690,IntegerType,true),StructField(_c691,IntegerType,true),StructField(_c692,IntegerType,true),StructField(_c693,IntegerType,true),StructField(_c694,IntegerType,true),StructField(_c695,IntegerType,true),StructField(_c696,IntegerType,true),StructField(_c697,IntegerType,true),StructField(_c698,IntegerType,true),StructField(_c699,IntegerType,true),StructField(_c700,IntegerType,true),StructField(_c701,IntegerType,true),StructField(_c702,IntegerType,true),StructField(_c703,IntegerType,true),StructField(_c704,IntegerType,true),StructField(_c705,IntegerType,true),StructField(_c706,IntegerType,true),StructField(_c707,IntegerType,true),StructField(_c708,IntegerType,true),StructField(_c709,IntegerType,true),StructField(_c710,IntegerType,true),StructField(_c711,IntegerType,true),StructField(_c712,IntegerType,true),StructField(_c713,IntegerType,true),StructField(_c714,IntegerType,true),StructField(_c715,IntegerType,true),StructField(_c716,IntegerType,true),StructField(_c717,IntegerType,true),StructField(_c718,IntegerType,true),StructField(_c719,IntegerType,true),StructField(_c720,IntegerType,true),StructField(_c721,IntegerType,true),StructField(_c722,IntegerType,true),StructField(_c723,IntegerType,true),StructField(_c724,IntegerType,true),StructField(_c725,IntegerType,true),StructField(_c726,IntegerType,true),StructField(_c727,IntegerType,true),StructField(_c728,IntegerType,true),StructField(_c729,IntegerType,true),StructField(_c730,IntegerType,true),StructField(_c731,IntegerType,true),StructField(_c732,IntegerType,true),StructField(_c733,IntegerType,true),StructField(_c734,IntegerType,true),StructField(_c735,IntegerType,true),StructField(_c736,IntegerType,true),StructField(_c737,IntegerType,true),StructField(_c738,IntegerType,true),StructField(_c739,IntegerType,true),StructField(_c740,IntegerType,true),StructField(_c741,IntegerType,true),StructField(_c742,IntegerType,true),StructField(_c743,IntegerType,true),StructField(_c744,IntegerType,true),StructField(_c745,IntegerType,true),StructField(_c746,IntegerType,true),StructField(_c747,IntegerType,true),StructField(_c748,IntegerType,true),StructField(_c749,IntegerType,true),StructField(_c750,IntegerType,true),StructField(_c751,IntegerType,true),StructField(_c752,IntegerType,true),StructField(_c753,IntegerType,true),StructField(_c754,IntegerType,true),StructField(_c755,IntegerType,true),StructField(_c756,IntegerType,true),StructField(_c757,IntegerType,true),StructField(_c758,IntegerType,true),StructField(_c759,IntegerType,true),StructField(_c760,IntegerType,true),StructField(_c761,IntegerType,true),StructField(_c762,IntegerType,true),StructField(_c763,IntegerType,true),StructField(_c764,IntegerType,true),StructField(_c765,IntegerType,true),StructField(_c766,IntegerType,true),StructField(_c767,IntegerType,true),StructField(_c768,IntegerType,true),StructField(_c769,IntegerType,true),StructField(_c770,IntegerType,true),StructField(_c771,IntegerType,true),StructField(_c772,IntegerType,true),StructField(_c773,IntegerType,true),StructField(_c774,IntegerType,true),StructField(_c775,IntegerType,true),StructField(_c776,IntegerType,true),StructField(_c777,IntegerType,true),StructField(_c778,IntegerType,true),StructField(_c779,IntegerType,true),StructField(_c780,IntegerType,true),StructField(_c781,IntegerType,true),StructField(_c782,IntegerType,true),StructField(_c783,IntegerType,true),StructField(_c784,IntegerType,true)))"
            ]
          },
          "metadata": {
            "tags": []
          },
          "execution_count": 8
        }
      ]
    },
    {
      "cell_type": "code",
      "metadata": {
        "colab": {
          "base_uri": "https://localhost:8080/"
        },
        "id": "2yvMzKlUaI66",
        "outputId": "3ac3c390-582b-450e-e699-5a84f90c1152"
      },
      "source": [
        "type(df_training)"
      ],
      "execution_count": null,
      "outputs": [
        {
          "output_type": "execute_result",
          "data": {
            "text/plain": [
              "pyspark.sql.dataframe.DataFrame"
            ]
          },
          "metadata": {
            "tags": []
          },
          "execution_count": 9
        }
      ]
    },
    {
      "cell_type": "markdown",
      "metadata": {
        "id": "hd6sbtABGxch"
      },
      "source": [
        "El eschema del dataframe es el siguiente:\n",
        "\n",
        "* StructType(List(\n",
        "    * StructField(_c0,IntegerType,true),\n",
        "    * StructField(_c1,IntegerType,true),\n",
        "    * StructField(_c2,IntegerType,true),\n",
        "    * StructField(_c3,IntegerType,true),\n",
        "    * StructField(_c4,IntegerType,true),\n",
        "    * StructField(_c5,IntegerType,true),\n",
        "    * ...\n",
        "    * ...\n",
        "    * ...\n",
        "    * StructField(_c780,IntegerType,true),\n",
        "    * StructField(_c781,IntegerType,true),\n",
        "    * StructField(_c782,IntegerType,true),\n",
        "    * StructField(_c783,IntegerType,true),\n",
        "    * StructField(_c784,IntegerType,true)))\n",
        "\n",
        "Se observa que tiene 785 columnas (0-784) "
      ]
    },
    {
      "cell_type": "code",
      "metadata": {
        "colab": {
          "base_uri": "https://localhost:8080/"
        },
        "id": "JbLLnHw415qV",
        "outputId": "d85c5007-bb45-4a22-b1b4-c1bfa192d60d"
      },
      "source": [
        "# miremos los primeros 10 registos\n",
        "df_training.show(10)"
      ],
      "execution_count": null,
      "outputs": [
        {
          "output_type": "stream",
          "text": [
            "+---+---+---+---+---+---+---+---+---+---+----+----+----+----+----+----+----+----+----+----+----+----+----+----+----+----+----+----+----+----+----+----+----+----+----+----+----+----+----+----+----+----+----+----+----+----+----+----+----+----+----+----+----+----+----+----+----+----+----+----+----+----+----+----+----+----+----+----+----+----+----+----+----+----+----+----+----+----+----+----+----+----+----+----+----+----+----+----+----+----+----+----+----+----+----+----+----+----+----+----+-----+-----+-----+-----+-----+-----+-----+-----+-----+-----+-----+-----+-----+-----+-----+-----+-----+-----+-----+-----+-----+-----+-----+-----+-----+-----+-----+-----+-----+-----+-----+-----+-----+-----+-----+-----+-----+-----+-----+-----+-----+-----+-----+-----+-----+-----+-----+-----+-----+-----+-----+-----+-----+-----+-----+-----+-----+-----+-----+-----+-----+-----+-----+-----+-----+-----+-----+-----+-----+-----+-----+-----+-----+-----+-----+-----+-----+-----+-----+-----+-----+-----+-----+-----+-----+-----+-----+-----+-----+-----+-----+-----+-----+-----+-----+-----+-----+-----+-----+-----+-----+-----+-----+-----+-----+-----+-----+-----+-----+-----+-----+-----+-----+-----+-----+-----+-----+-----+-----+-----+-----+-----+-----+-----+-----+-----+-----+-----+-----+-----+-----+-----+-----+-----+-----+-----+-----+-----+-----+-----+-----+-----+-----+-----+-----+-----+-----+-----+-----+-----+-----+-----+-----+-----+-----+-----+-----+-----+-----+-----+-----+-----+-----+-----+-----+-----+-----+-----+-----+-----+-----+-----+-----+-----+-----+-----+-----+-----+-----+-----+-----+-----+-----+-----+-----+-----+-----+-----+-----+-----+-----+-----+-----+-----+-----+-----+-----+-----+-----+-----+-----+-----+-----+-----+-----+-----+-----+-----+-----+-----+-----+-----+-----+-----+-----+-----+-----+-----+-----+-----+-----+-----+-----+-----+-----+-----+-----+-----+-----+-----+-----+-----+-----+-----+-----+-----+-----+-----+-----+-----+-----+-----+-----+-----+-----+-----+-----+-----+-----+-----+-----+-----+-----+-----+-----+-----+-----+-----+-----+-----+-----+-----+-----+-----+-----+-----+-----+-----+-----+-----+-----+-----+-----+-----+-----+-----+-----+-----+-----+-----+-----+-----+-----+-----+-----+-----+-----+-----+-----+-----+-----+-----+-----+-----+-----+-----+-----+-----+-----+-----+-----+-----+-----+-----+-----+-----+-----+-----+-----+-----+-----+-----+-----+-----+-----+-----+-----+-----+-----+-----+-----+-----+-----+-----+-----+-----+-----+-----+-----+-----+-----+-----+-----+-----+-----+-----+-----+-----+-----+-----+-----+-----+-----+-----+-----+-----+-----+-----+-----+-----+-----+-----+-----+-----+-----+-----+-----+-----+-----+-----+-----+-----+-----+-----+-----+-----+-----+-----+-----+-----+-----+-----+-----+-----+-----+-----+-----+-----+-----+-----+-----+-----+-----+-----+-----+-----+-----+-----+-----+-----+-----+-----+-----+-----+-----+-----+-----+-----+-----+-----+-----+-----+-----+-----+-----+-----+-----+-----+-----+-----+-----+-----+-----+-----+-----+-----+-----+-----+-----+-----+-----+-----+-----+-----+-----+-----+-----+-----+-----+-----+-----+-----+-----+-----+-----+-----+-----+-----+-----+-----+-----+-----+-----+-----+-----+-----+-----+-----+-----+-----+-----+-----+-----+-----+-----+-----+-----+-----+-----+-----+-----+-----+-----+-----+-----+-----+-----+-----+-----+-----+-----+-----+-----+-----+-----+-----+-----+-----+-----+-----+-----+-----+-----+-----+-----+-----+-----+-----+-----+-----+-----+-----+-----+-----+-----+-----+-----+-----+-----+-----+-----+-----+-----+-----+-----+-----+-----+-----+-----+-----+-----+-----+-----+-----+-----+-----+-----+-----+-----+-----+-----+-----+-----+-----+-----+-----+-----+-----+-----+-----+-----+-----+-----+-----+-----+-----+-----+-----+-----+-----+-----+-----+-----+-----+-----+-----+-----+-----+-----+-----+-----+-----+-----+-----+-----+-----+-----+-----+-----+-----+-----+-----+-----+-----+-----+-----+-----+-----+-----+-----+-----+-----+-----+-----+-----+-----+-----+-----+-----+-----+-----+-----+-----+-----+-----+-----+-----+-----+-----+-----+-----+-----+-----+-----+-----+-----+-----+-----+-----+-----+-----+-----+-----+-----+-----+-----+-----+-----+-----+-----+-----+-----+-----+-----+-----+-----+-----+-----+-----+-----+-----+-----+-----+-----+-----+-----+-----+-----+-----+-----+-----+-----+-----+-----+-----+-----+-----+-----+-----+-----+-----+-----+-----+-----+-----+-----+-----+-----+-----+-----+-----+-----+-----+-----+-----+-----+-----+-----+-----+-----+-----+-----+-----+-----+-----+-----+-----+-----+-----+-----+-----+-----+-----+-----+-----+-----+-----+-----+-----+-----+-----+-----+-----+-----+-----+\n",
            "|_c0|_c1|_c2|_c3|_c4|_c5|_c6|_c7|_c8|_c9|_c10|_c11|_c12|_c13|_c14|_c15|_c16|_c17|_c18|_c19|_c20|_c21|_c22|_c23|_c24|_c25|_c26|_c27|_c28|_c29|_c30|_c31|_c32|_c33|_c34|_c35|_c36|_c37|_c38|_c39|_c40|_c41|_c42|_c43|_c44|_c45|_c46|_c47|_c48|_c49|_c50|_c51|_c52|_c53|_c54|_c55|_c56|_c57|_c58|_c59|_c60|_c61|_c62|_c63|_c64|_c65|_c66|_c67|_c68|_c69|_c70|_c71|_c72|_c73|_c74|_c75|_c76|_c77|_c78|_c79|_c80|_c81|_c82|_c83|_c84|_c85|_c86|_c87|_c88|_c89|_c90|_c91|_c92|_c93|_c94|_c95|_c96|_c97|_c98|_c99|_c100|_c101|_c102|_c103|_c104|_c105|_c106|_c107|_c108|_c109|_c110|_c111|_c112|_c113|_c114|_c115|_c116|_c117|_c118|_c119|_c120|_c121|_c122|_c123|_c124|_c125|_c126|_c127|_c128|_c129|_c130|_c131|_c132|_c133|_c134|_c135|_c136|_c137|_c138|_c139|_c140|_c141|_c142|_c143|_c144|_c145|_c146|_c147|_c148|_c149|_c150|_c151|_c152|_c153|_c154|_c155|_c156|_c157|_c158|_c159|_c160|_c161|_c162|_c163|_c164|_c165|_c166|_c167|_c168|_c169|_c170|_c171|_c172|_c173|_c174|_c175|_c176|_c177|_c178|_c179|_c180|_c181|_c182|_c183|_c184|_c185|_c186|_c187|_c188|_c189|_c190|_c191|_c192|_c193|_c194|_c195|_c196|_c197|_c198|_c199|_c200|_c201|_c202|_c203|_c204|_c205|_c206|_c207|_c208|_c209|_c210|_c211|_c212|_c213|_c214|_c215|_c216|_c217|_c218|_c219|_c220|_c221|_c222|_c223|_c224|_c225|_c226|_c227|_c228|_c229|_c230|_c231|_c232|_c233|_c234|_c235|_c236|_c237|_c238|_c239|_c240|_c241|_c242|_c243|_c244|_c245|_c246|_c247|_c248|_c249|_c250|_c251|_c252|_c253|_c254|_c255|_c256|_c257|_c258|_c259|_c260|_c261|_c262|_c263|_c264|_c265|_c266|_c267|_c268|_c269|_c270|_c271|_c272|_c273|_c274|_c275|_c276|_c277|_c278|_c279|_c280|_c281|_c282|_c283|_c284|_c285|_c286|_c287|_c288|_c289|_c290|_c291|_c292|_c293|_c294|_c295|_c296|_c297|_c298|_c299|_c300|_c301|_c302|_c303|_c304|_c305|_c306|_c307|_c308|_c309|_c310|_c311|_c312|_c313|_c314|_c315|_c316|_c317|_c318|_c319|_c320|_c321|_c322|_c323|_c324|_c325|_c326|_c327|_c328|_c329|_c330|_c331|_c332|_c333|_c334|_c335|_c336|_c337|_c338|_c339|_c340|_c341|_c342|_c343|_c344|_c345|_c346|_c347|_c348|_c349|_c350|_c351|_c352|_c353|_c354|_c355|_c356|_c357|_c358|_c359|_c360|_c361|_c362|_c363|_c364|_c365|_c366|_c367|_c368|_c369|_c370|_c371|_c372|_c373|_c374|_c375|_c376|_c377|_c378|_c379|_c380|_c381|_c382|_c383|_c384|_c385|_c386|_c387|_c388|_c389|_c390|_c391|_c392|_c393|_c394|_c395|_c396|_c397|_c398|_c399|_c400|_c401|_c402|_c403|_c404|_c405|_c406|_c407|_c408|_c409|_c410|_c411|_c412|_c413|_c414|_c415|_c416|_c417|_c418|_c419|_c420|_c421|_c422|_c423|_c424|_c425|_c426|_c427|_c428|_c429|_c430|_c431|_c432|_c433|_c434|_c435|_c436|_c437|_c438|_c439|_c440|_c441|_c442|_c443|_c444|_c445|_c446|_c447|_c448|_c449|_c450|_c451|_c452|_c453|_c454|_c455|_c456|_c457|_c458|_c459|_c460|_c461|_c462|_c463|_c464|_c465|_c466|_c467|_c468|_c469|_c470|_c471|_c472|_c473|_c474|_c475|_c476|_c477|_c478|_c479|_c480|_c481|_c482|_c483|_c484|_c485|_c486|_c487|_c488|_c489|_c490|_c491|_c492|_c493|_c494|_c495|_c496|_c497|_c498|_c499|_c500|_c501|_c502|_c503|_c504|_c505|_c506|_c507|_c508|_c509|_c510|_c511|_c512|_c513|_c514|_c515|_c516|_c517|_c518|_c519|_c520|_c521|_c522|_c523|_c524|_c525|_c526|_c527|_c528|_c529|_c530|_c531|_c532|_c533|_c534|_c535|_c536|_c537|_c538|_c539|_c540|_c541|_c542|_c543|_c544|_c545|_c546|_c547|_c548|_c549|_c550|_c551|_c552|_c553|_c554|_c555|_c556|_c557|_c558|_c559|_c560|_c561|_c562|_c563|_c564|_c565|_c566|_c567|_c568|_c569|_c570|_c571|_c572|_c573|_c574|_c575|_c576|_c577|_c578|_c579|_c580|_c581|_c582|_c583|_c584|_c585|_c586|_c587|_c588|_c589|_c590|_c591|_c592|_c593|_c594|_c595|_c596|_c597|_c598|_c599|_c600|_c601|_c602|_c603|_c604|_c605|_c606|_c607|_c608|_c609|_c610|_c611|_c612|_c613|_c614|_c615|_c616|_c617|_c618|_c619|_c620|_c621|_c622|_c623|_c624|_c625|_c626|_c627|_c628|_c629|_c630|_c631|_c632|_c633|_c634|_c635|_c636|_c637|_c638|_c639|_c640|_c641|_c642|_c643|_c644|_c645|_c646|_c647|_c648|_c649|_c650|_c651|_c652|_c653|_c654|_c655|_c656|_c657|_c658|_c659|_c660|_c661|_c662|_c663|_c664|_c665|_c666|_c667|_c668|_c669|_c670|_c671|_c672|_c673|_c674|_c675|_c676|_c677|_c678|_c679|_c680|_c681|_c682|_c683|_c684|_c685|_c686|_c687|_c688|_c689|_c690|_c691|_c692|_c693|_c694|_c695|_c696|_c697|_c698|_c699|_c700|_c701|_c702|_c703|_c704|_c705|_c706|_c707|_c708|_c709|_c710|_c711|_c712|_c713|_c714|_c715|_c716|_c717|_c718|_c719|_c720|_c721|_c722|_c723|_c724|_c725|_c726|_c727|_c728|_c729|_c730|_c731|_c732|_c733|_c734|_c735|_c736|_c737|_c738|_c739|_c740|_c741|_c742|_c743|_c744|_c745|_c746|_c747|_c748|_c749|_c750|_c751|_c752|_c753|_c754|_c755|_c756|_c757|_c758|_c759|_c760|_c761|_c762|_c763|_c764|_c765|_c766|_c767|_c768|_c769|_c770|_c771|_c772|_c773|_c774|_c775|_c776|_c777|_c778|_c779|_c780|_c781|_c782|_c783|_c784|\n",
            "+---+---+---+---+---+---+---+---+---+---+----+----+----+----+----+----+----+----+----+----+----+----+----+----+----+----+----+----+----+----+----+----+----+----+----+----+----+----+----+----+----+----+----+----+----+----+----+----+----+----+----+----+----+----+----+----+----+----+----+----+----+----+----+----+----+----+----+----+----+----+----+----+----+----+----+----+----+----+----+----+----+----+----+----+----+----+----+----+----+----+----+----+----+----+----+----+----+----+----+----+-----+-----+-----+-----+-----+-----+-----+-----+-----+-----+-----+-----+-----+-----+-----+-----+-----+-----+-----+-----+-----+-----+-----+-----+-----+-----+-----+-----+-----+-----+-----+-----+-----+-----+-----+-----+-----+-----+-----+-----+-----+-----+-----+-----+-----+-----+-----+-----+-----+-----+-----+-----+-----+-----+-----+-----+-----+-----+-----+-----+-----+-----+-----+-----+-----+-----+-----+-----+-----+-----+-----+-----+-----+-----+-----+-----+-----+-----+-----+-----+-----+-----+-----+-----+-----+-----+-----+-----+-----+-----+-----+-----+-----+-----+-----+-----+-----+-----+-----+-----+-----+-----+-----+-----+-----+-----+-----+-----+-----+-----+-----+-----+-----+-----+-----+-----+-----+-----+-----+-----+-----+-----+-----+-----+-----+-----+-----+-----+-----+-----+-----+-----+-----+-----+-----+-----+-----+-----+-----+-----+-----+-----+-----+-----+-----+-----+-----+-----+-----+-----+-----+-----+-----+-----+-----+-----+-----+-----+-----+-----+-----+-----+-----+-----+-----+-----+-----+-----+-----+-----+-----+-----+-----+-----+-----+-----+-----+-----+-----+-----+-----+-----+-----+-----+-----+-----+-----+-----+-----+-----+-----+-----+-----+-----+-----+-----+-----+-----+-----+-----+-----+-----+-----+-----+-----+-----+-----+-----+-----+-----+-----+-----+-----+-----+-----+-----+-----+-----+-----+-----+-----+-----+-----+-----+-----+-----+-----+-----+-----+-----+-----+-----+-----+-----+-----+-----+-----+-----+-----+-----+-----+-----+-----+-----+-----+-----+-----+-----+-----+-----+-----+-----+-----+-----+-----+-----+-----+-----+-----+-----+-----+-----+-----+-----+-----+-----+-----+-----+-----+-----+-----+-----+-----+-----+-----+-----+-----+-----+-----+-----+-----+-----+-----+-----+-----+-----+-----+-----+-----+-----+-----+-----+-----+-----+-----+-----+-----+-----+-----+-----+-----+-----+-----+-----+-----+-----+-----+-----+-----+-----+-----+-----+-----+-----+-----+-----+-----+-----+-----+-----+-----+-----+-----+-----+-----+-----+-----+-----+-----+-----+-----+-----+-----+-----+-----+-----+-----+-----+-----+-----+-----+-----+-----+-----+-----+-----+-----+-----+-----+-----+-----+-----+-----+-----+-----+-----+-----+-----+-----+-----+-----+-----+-----+-----+-----+-----+-----+-----+-----+-----+-----+-----+-----+-----+-----+-----+-----+-----+-----+-----+-----+-----+-----+-----+-----+-----+-----+-----+-----+-----+-----+-----+-----+-----+-----+-----+-----+-----+-----+-----+-----+-----+-----+-----+-----+-----+-----+-----+-----+-----+-----+-----+-----+-----+-----+-----+-----+-----+-----+-----+-----+-----+-----+-----+-----+-----+-----+-----+-----+-----+-----+-----+-----+-----+-----+-----+-----+-----+-----+-----+-----+-----+-----+-----+-----+-----+-----+-----+-----+-----+-----+-----+-----+-----+-----+-----+-----+-----+-----+-----+-----+-----+-----+-----+-----+-----+-----+-----+-----+-----+-----+-----+-----+-----+-----+-----+-----+-----+-----+-----+-----+-----+-----+-----+-----+-----+-----+-----+-----+-----+-----+-----+-----+-----+-----+-----+-----+-----+-----+-----+-----+-----+-----+-----+-----+-----+-----+-----+-----+-----+-----+-----+-----+-----+-----+-----+-----+-----+-----+-----+-----+-----+-----+-----+-----+-----+-----+-----+-----+-----+-----+-----+-----+-----+-----+-----+-----+-----+-----+-----+-----+-----+-----+-----+-----+-----+-----+-----+-----+-----+-----+-----+-----+-----+-----+-----+-----+-----+-----+-----+-----+-----+-----+-----+-----+-----+-----+-----+-----+-----+-----+-----+-----+-----+-----+-----+-----+-----+-----+-----+-----+-----+-----+-----+-----+-----+-----+-----+-----+-----+-----+-----+-----+-----+-----+-----+-----+-----+-----+-----+-----+-----+-----+-----+-----+-----+-----+-----+-----+-----+-----+-----+-----+-----+-----+-----+-----+-----+-----+-----+-----+-----+-----+-----+-----+-----+-----+-----+-----+-----+-----+-----+-----+-----+-----+-----+-----+-----+-----+-----+-----+-----+-----+-----+-----+-----+-----+-----+-----+-----+-----+-----+-----+-----+-----+-----+-----+-----+-----+-----+-----+-----+-----+-----+-----+-----+-----+-----+-----+-----+-----+-----+-----+-----+-----+-----+-----+-----+-----+-----+-----+-----+-----+-----+-----+\n",
            "|  5|  0|  0|  0|  0|  0|  0|  0|  0|  0|   0|   0|   0|   0|   0|   0|   0|   0|   0|   0|   0|   0|   0|   0|   0|   0|   0|   0|   0|   0|   0|   0|   0|   0|   0|   0|   0|   0|   0|   0|   0|   0|   0|   0|   0|   0|   0|   0|   0|   0|   0|   0|   0|   0|   0|   0|   0|   0|   0|   0|   0|   0|   0|   0|   0|   0|   0|   0|   0|   0|   0|   0|   0|   0|   0|   0|   0|   0|   0|   0|   0|   0|   0|   0|   0|   0|   0|   0|   0|   0|   0|   0|   0|   0|   0|   0|   0|   0|   0|   0|    0|    0|    0|    0|    0|    0|    0|    0|    0|    0|    0|    0|    0|    0|    0|    0|    0|    0|    0|    0|    0|    0|    0|    0|    0|    0|    0|    0|    0|    0|    0|    0|    0|    0|    0|    0|    0|    0|    0|    0|    0|    0|    0|    0|    0|    0|    0|    0|    0|    0|    0|    0|    0|    3|   18|   18|   18|  126|  136|  175|   26|  166|  255|  247|  127|    0|    0|    0|    0|    0|    0|    0|    0|    0|    0|    0|    0|   30|   36|   94|  154|  170|  253|  253|  253|  253|  253|  225|  172|  253|  242|  195|   64|    0|    0|    0|    0|    0|    0|    0|    0|    0|    0|    0|   49|  238|  253|  253|  253|  253|  253|  253|  253|  253|  251|   93|   82|   82|   56|   39|    0|    0|    0|    0|    0|    0|    0|    0|    0|    0|    0|    0|   18|  219|  253|  253|  253|  253|  253|  198|  182|  247|  241|    0|    0|    0|    0|    0|    0|    0|    0|    0|    0|    0|    0|    0|    0|    0|    0|    0|    0|   80|  156|  107|  253|  253|  205|   11|    0|   43|  154|    0|    0|    0|    0|    0|    0|    0|    0|    0|    0|    0|    0|    0|    0|    0|    0|    0|    0|    0|   14|    1|  154|  253|   90|    0|    0|    0|    0|    0|    0|    0|    0|    0|    0|    0|    0|    0|    0|    0|    0|    0|    0|    0|    0|    0|    0|    0|    0|    0|  139|  253|  190|    2|    0|    0|    0|    0|    0|    0|    0|    0|    0|    0|    0|    0|    0|    0|    0|    0|    0|    0|    0|    0|    0|    0|    0|    0|   11|  190|  253|   70|    0|    0|    0|    0|    0|    0|    0|    0|    0|    0|    0|    0|    0|    0|    0|    0|    0|    0|    0|    0|    0|    0|    0|    0|    0|   35|  241|  225|  160|  108|    1|    0|    0|    0|    0|    0|    0|    0|    0|    0|    0|    0|    0|    0|    0|    0|    0|    0|    0|    0|    0|    0|    0|    0|   81|  240|  253|  253|  119|   25|    0|    0|    0|    0|    0|    0|    0|    0|    0|    0|    0|    0|    0|    0|    0|    0|    0|    0|    0|    0|    0|    0|    0|   45|  186|  253|  253|  150|   27|    0|    0|    0|    0|    0|    0|    0|    0|    0|    0|    0|    0|    0|    0|    0|    0|    0|    0|    0|    0|    0|    0|    0|   16|   93|  252|  253|  187|    0|    0|    0|    0|    0|    0|    0|    0|    0|    0|    0|    0|    0|    0|    0|    0|    0|    0|    0|    0|    0|    0|    0|    0|    0|  249|  253|  249|   64|    0|    0|    0|    0|    0|    0|    0|    0|    0|    0|    0|    0|    0|    0|    0|    0|    0|    0|    0|    0|    0|   46|  130|  183|  253|  253|  207|    2|    0|    0|    0|    0|    0|    0|    0|    0|    0|    0|    0|    0|    0|    0|    0|    0|    0|    0|    0|   39|  148|  229|  253|  253|  253|  250|  182|    0|    0|    0|    0|    0|    0|    0|    0|    0|    0|    0|    0|    0|    0|    0|    0|    0|    0|   24|  114|  221|  253|  253|  253|  253|  201|   78|    0|    0|    0|    0|    0|    0|    0|    0|    0|    0|    0|    0|    0|    0|    0|    0|    0|   23|   66|  213|  253|  253|  253|  253|  198|   81|    2|    0|    0|    0|    0|    0|    0|    0|    0|    0|    0|    0|    0|    0|    0|    0|    0|   18|  171|  219|  253|  253|  253|  253|  195|   80|    9|    0|    0|    0|    0|    0|    0|    0|    0|    0|    0|    0|    0|    0|    0|    0|    0|   55|  172|  226|  253|  253|  253|  253|  244|  133|   11|    0|    0|    0|    0|    0|    0|    0|    0|    0|    0|    0|    0|    0|    0|    0|    0|    0|    0|  136|  253|  253|  253|  212|  135|  132|   16|    0|    0|    0|    0|    0|    0|    0|    0|    0|    0|    0|    0|    0|    0|    0|    0|    0|    0|    0|    0|    0|    0|    0|    0|    0|    0|    0|    0|    0|    0|    0|    0|    0|    0|    0|    0|    0|    0|    0|    0|    0|    0|    0|    0|    0|    0|    0|    0|    0|    0|    0|    0|    0|    0|    0|    0|    0|    0|    0|    0|    0|    0|    0|    0|    0|    0|    0|    0|    0|    0|    0|    0|    0|    0|    0|    0|    0|    0|    0|    0|    0|    0|    0|    0|    0|    0|    0|    0|    0|    0|    0|    0|    0|    0|    0|    0|    0|    0|    0|    0|\n",
            "|  0|  0|  0|  0|  0|  0|  0|  0|  0|  0|   0|   0|   0|   0|   0|   0|   0|   0|   0|   0|   0|   0|   0|   0|   0|   0|   0|   0|   0|   0|   0|   0|   0|   0|   0|   0|   0|   0|   0|   0|   0|   0|   0|   0|   0|   0|   0|   0|   0|   0|   0|   0|   0|   0|   0|   0|   0|   0|   0|   0|   0|   0|   0|   0|   0|   0|   0|   0|   0|   0|   0|   0|   0|   0|   0|   0|   0|   0|   0|   0|   0|   0|   0|   0|   0|   0|   0|   0|   0|   0|   0|   0|   0|   0|   0|   0|   0|   0|   0|   0|    0|    0|    0|    0|    0|    0|    0|    0|    0|    0|    0|    0|    0|    0|    0|    0|    0|    0|    0|    0|    0|    0|    0|    0|    0|    0|    0|    0|   51|  159|  253|  159|   50|    0|    0|    0|    0|    0|    0|    0|    0|    0|    0|    0|    0|    0|    0|    0|    0|    0|    0|    0|    0|    0|    0|   48|  238|  252|  252|  252|  237|    0|    0|    0|    0|    0|    0|    0|    0|    0|    0|    0|    0|    0|    0|    0|    0|    0|    0|    0|    0|    0|   54|  227|  253|  252|  239|  233|  252|   57|    6|    0|    0|    0|    0|    0|    0|    0|    0|    0|    0|    0|    0|    0|    0|    0|    0|    0|   10|   60|  224|  252|  253|  252|  202|   84|  252|  253|  122|    0|    0|    0|    0|    0|    0|    0|    0|    0|    0|    0|    0|    0|    0|    0|    0|    0|  163|  252|  252|  252|  253|  252|  252|   96|  189|  253|  167|    0|    0|    0|    0|    0|    0|    0|    0|    0|    0|    0|    0|    0|    0|    0|    0|   51|  238|  253|  253|  190|  114|  253|  228|   47|   79|  255|  168|    0|    0|    0|    0|    0|    0|    0|    0|    0|    0|    0|    0|    0|    0|    0|   48|  238|  252|  252|  179|   12|   75|  121|   21|    0|    0|  253|  243|   50|    0|    0|    0|    0|    0|    0|    0|    0|    0|    0|    0|    0|    0|   38|  165|  253|  233|  208|   84|    0|    0|    0|    0|    0|    0|  253|  252|  165|    0|    0|    0|    0|    0|    0|    0|    0|    0|    0|    0|    0|    7|  178|  252|  240|   71|   19|   28|    0|    0|    0|    0|    0|    0|  253|  252|  195|    0|    0|    0|    0|    0|    0|    0|    0|    0|    0|    0|    0|   57|  252|  252|   63|    0|    0|    0|    0|    0|    0|    0|    0|    0|  253|  252|  195|    0|    0|    0|    0|    0|    0|    0|    0|    0|    0|    0|    0|  198|  253|  190|    0|    0|    0|    0|    0|    0|    0|    0|    0|    0|  255|  253|  196|    0|    0|    0|    0|    0|    0|    0|    0|    0|    0|    0|   76|  246|  252|  112|    0|    0|    0|    0|    0|    0|    0|    0|    0|    0|  253|  252|  148|    0|    0|    0|    0|    0|    0|    0|    0|    0|    0|    0|   85|  252|  230|   25|    0|    0|    0|    0|    0|    0|    0|    0|    7|  135|  253|  186|   12|    0|    0|    0|    0|    0|    0|    0|    0|    0|    0|    0|   85|  252|  223|    0|    0|    0|    0|    0|    0|    0|    0|    7|  131|  252|  225|   71|    0|    0|    0|    0|    0|    0|    0|    0|    0|    0|    0|    0|   85|  252|  145|    0|    0|    0|    0|    0|    0|    0|   48|  165|  252|  173|    0|    0|    0|    0|    0|    0|    0|    0|    0|    0|    0|    0|    0|    0|   86|  253|  225|    0|    0|    0|    0|    0|    0|  114|  238|  253|  162|    0|    0|    0|    0|    0|    0|    0|    0|    0|    0|    0|    0|    0|    0|    0|   85|  252|  249|  146|   48|   29|   85|  178|  225|  253|  223|  167|   56|    0|    0|    0|    0|    0|    0|    0|    0|    0|    0|    0|    0|    0|    0|    0|   85|  252|  252|  252|  229|  215|  252|  252|  252|  196|  130|    0|    0|    0|    0|    0|    0|    0|    0|    0|    0|    0|    0|    0|    0|    0|    0|    0|   28|  199|  252|  252|  253|  252|  252|  233|  145|    0|    0|    0|    0|    0|    0|    0|    0|    0|    0|    0|    0|    0|    0|    0|    0|    0|    0|    0|    0|   25|  128|  252|  253|  252|  141|   37|    0|    0|    0|    0|    0|    0|    0|    0|    0|    0|    0|    0|    0|    0|    0|    0|    0|    0|    0|    0|    0|    0|    0|    0|    0|    0|    0|    0|    0|    0|    0|    0|    0|    0|    0|    0|    0|    0|    0|    0|    0|    0|    0|    0|    0|    0|    0|    0|    0|    0|    0|    0|    0|    0|    0|    0|    0|    0|    0|    0|    0|    0|    0|    0|    0|    0|    0|    0|    0|    0|    0|    0|    0|    0|    0|    0|    0|    0|    0|    0|    0|    0|    0|    0|    0|    0|    0|    0|    0|    0|    0|    0|    0|    0|    0|    0|    0|    0|    0|    0|    0|    0|    0|    0|    0|    0|    0|    0|    0|    0|    0|    0|    0|    0|    0|    0|    0|    0|    0|    0|    0|    0|    0|    0|    0|    0|\n",
            "|  4|  0|  0|  0|  0|  0|  0|  0|  0|  0|   0|   0|   0|   0|   0|   0|   0|   0|   0|   0|   0|   0|   0|   0|   0|   0|   0|   0|   0|   0|   0|   0|   0|   0|   0|   0|   0|   0|   0|   0|   0|   0|   0|   0|   0|   0|   0|   0|   0|   0|   0|   0|   0|   0|   0|   0|   0|   0|   0|   0|   0|   0|   0|   0|   0|   0|   0|   0|   0|   0|   0|   0|   0|   0|   0|   0|   0|   0|   0|   0|   0|   0|   0|   0|   0|   0|   0|   0|   0|   0|   0|   0|   0|   0|   0|   0|   0|   0|   0|   0|    0|    0|    0|    0|    0|    0|    0|    0|    0|    0|    0|    0|    0|    0|    0|    0|    0|    0|    0|    0|    0|    0|    0|    0|    0|    0|    0|    0|    0|    0|    0|    0|    0|    0|    0|    0|    0|    0|    0|    0|    0|    0|    0|    0|    0|    0|    0|    0|    0|    0|    0|    0|    0|    0|    0|    0|    0|    0|    0|    0|    0|   67|  232|   39|    0|    0|    0|    0|    0|    0|    0|    0|    0|   62|   81|    0|    0|    0|    0|    0|    0|    0|    0|    0|    0|    0|    0|    0|    0|  120|  180|   39|    0|    0|    0|    0|    0|    0|    0|    0|    0|  126|  163|    0|    0|    0|    0|    0|    0|    0|    0|    0|    0|    0|    0|    0|    2|  153|  210|   40|    0|    0|    0|    0|    0|    0|    0|    0|    0|  220|  163|    0|    0|    0|    0|    0|    0|    0|    0|    0|    0|    0|    0|    0|   27|  254|  162|    0|    0|    0|    0|    0|    0|    0|    0|    0|    0|  222|  163|    0|    0|    0|    0|    0|    0|    0|    0|    0|    0|    0|    0|    0|  183|  254|  125|    0|    0|    0|    0|    0|    0|    0|    0|    0|   46|  245|  163|    0|    0|    0|    0|    0|    0|    0|    0|    0|    0|    0|    0|    0|  198|  254|   56|    0|    0|    0|    0|    0|    0|    0|    0|    0|  120|  254|  163|    0|    0|    0|    0|    0|    0|    0|    0|    0|    0|    0|    0|   23|  231|  254|   29|    0|    0|    0|    0|    0|    0|    0|    0|    0|  159|  254|  120|    0|    0|    0|    0|    0|    0|    0|    0|    0|    0|    0|    0|  163|  254|  216|   16|    0|    0|    0|    0|    0|    0|    0|    0|    0|  159|  254|   67|    0|    0|    0|    0|    0|    0|    0|    0|    0|   14|   86|  178|  248|  254|   91|    0|    0|    0|    0|    0|    0|    0|    0|    0|    0|  159|  254|   85|    0|    0|    0|   47|   49|  116|  144|  150|  241|  243|  234|  179|  241|  252|   40|    0|    0|    0|    0|    0|    0|    0|    0|    0|    0|  150|  253|  237|  207|  207|  207|  253|  254|  250|  240|  198|  143|   91|   28|    5|  233|  250|    0|    0|    0|    0|    0|    0|    0|    0|    0|    0|    0|    0|  119|  177|  177|  177|  177|  177|   98|   56|    0|    0|    0|    0|    0|  102|  254|  220|    0|    0|    0|    0|    0|    0|    0|    0|    0|    0|    0|    0|    0|    0|    0|    0|    0|    0|    0|    0|    0|    0|    0|    0|    0|  169|  254|  137|    0|    0|    0|    0|    0|    0|    0|    0|    0|    0|    0|    0|    0|    0|    0|    0|    0|    0|    0|    0|    0|    0|    0|    0|    0|  169|  254|   57|    0|    0|    0|    0|    0|    0|    0|    0|    0|    0|    0|    0|    0|    0|    0|    0|    0|    0|    0|    0|    0|    0|    0|    0|    0|  169|  254|   57|    0|    0|    0|    0|    0|    0|    0|    0|    0|    0|    0|    0|    0|    0|    0|    0|    0|    0|    0|    0|    0|    0|    0|    0|    0|  169|  255|   94|    0|    0|    0|    0|    0|    0|    0|    0|    0|    0|    0|    0|    0|    0|    0|    0|    0|    0|    0|    0|    0|    0|    0|    0|    0|  169|  254|   96|    0|    0|    0|    0|    0|    0|    0|    0|    0|    0|    0|    0|    0|    0|    0|    0|    0|    0|    0|    0|    0|    0|    0|    0|    0|  169|  254|  153|    0|    0|    0|    0|    0|    0|    0|    0|    0|    0|    0|    0|    0|    0|    0|    0|    0|    0|    0|    0|    0|    0|    0|    0|    0|  169|  255|  153|    0|    0|    0|    0|    0|    0|    0|    0|    0|    0|    0|    0|    0|    0|    0|    0|    0|    0|    0|    0|    0|    0|    0|    0|    0|   96|  254|  153|    0|    0|    0|    0|    0|    0|    0|    0|    0|    0|    0|    0|    0|    0|    0|    0|    0|    0|    0|    0|    0|    0|    0|    0|    0|    0|    0|    0|    0|    0|    0|    0|    0|    0|    0|    0|    0|    0|    0|    0|    0|    0|    0|    0|    0|    0|    0|    0|    0|    0|    0|    0|    0|    0|    0|    0|    0|    0|    0|    0|    0|    0|    0|    0|    0|    0|    0|    0|    0|    0|    0|    0|    0|    0|    0|    0|    0|    0|    0|    0|    0|    0|    0|    0|    0|    0|    0|    0|    0|    0|    0|    0|\n",
            "|  1|  0|  0|  0|  0|  0|  0|  0|  0|  0|   0|   0|   0|   0|   0|   0|   0|   0|   0|   0|   0|   0|   0|   0|   0|   0|   0|   0|   0|   0|   0|   0|   0|   0|   0|   0|   0|   0|   0|   0|   0|   0|   0|   0|   0|   0|   0|   0|   0|   0|   0|   0|   0|   0|   0|   0|   0|   0|   0|   0|   0|   0|   0|   0|   0|   0|   0|   0|   0|   0|   0|   0|   0|   0|   0|   0|   0|   0|   0|   0|   0|   0|   0|   0|   0|   0|   0|   0|   0|   0|   0|   0|   0|   0|   0|   0|   0|   0|   0|   0|    0|    0|    0|    0|    0|    0|    0|    0|    0|    0|    0|    0|    0|    0|    0|    0|    0|    0|    0|    0|    0|    0|    0|    0|    0|    0|    0|    0|    0|    0|    0|    0|    0|    0|    0|    0|    0|    0|    0|    0|    0|    0|    0|    0|    0|    0|    0|    0|    0|    0|    0|    0|    0|    0|    0|    0|    0|    0|    0|  124|  253|  255|   63|    0|    0|    0|    0|    0|    0|    0|    0|    0|    0|    0|    0|    0|    0|    0|    0|    0|    0|    0|    0|    0|    0|    0|   96|  244|  251|  253|   62|    0|    0|    0|    0|    0|    0|    0|    0|    0|    0|    0|    0|    0|    0|    0|    0|    0|    0|    0|    0|    0|    0|    0|  127|  251|  251|  253|   62|    0|    0|    0|    0|    0|    0|    0|    0|    0|    0|    0|    0|    0|    0|    0|    0|    0|    0|    0|    0|    0|    0|   68|  236|  251|  211|   31|    8|    0|    0|    0|    0|    0|    0|    0|    0|    0|    0|    0|    0|    0|    0|    0|    0|    0|    0|    0|    0|    0|   60|  228|  251|  251|   94|    0|    0|    0|    0|    0|    0|    0|    0|    0|    0|    0|    0|    0|    0|    0|    0|    0|    0|    0|    0|    0|    0|    0|  155|  253|  253|  189|    0|    0|    0|    0|    0|    0|    0|    0|    0|    0|    0|    0|    0|    0|    0|    0|    0|    0|    0|    0|    0|    0|    0|   20|  253|  251|  235|   66|    0|    0|    0|    0|    0|    0|    0|    0|    0|    0|    0|    0|    0|    0|    0|    0|    0|    0|    0|    0|    0|    0|   32|  205|  253|  251|  126|    0|    0|    0|    0|    0|    0|    0|    0|    0|    0|    0|    0|    0|    0|    0|    0|    0|    0|    0|    0|    0|    0|    0|  104|  251|  253|  184|   15|    0|    0|    0|    0|    0|    0|    0|    0|    0|    0|    0|    0|    0|    0|    0|    0|    0|    0|    0|    0|    0|    0|   80|  240|  251|  193|   23|    0|    0|    0|    0|    0|    0|    0|    0|    0|    0|    0|    0|    0|    0|    0|    0|    0|    0|    0|    0|    0|    0|   32|  253|  253|  253|  159|    0|    0|    0|    0|    0|    0|    0|    0|    0|    0|    0|    0|    0|    0|    0|    0|    0|    0|    0|    0|    0|    0|    0|  151|  251|  251|  251|   39|    0|    0|    0|    0|    0|    0|    0|    0|    0|    0|    0|    0|    0|    0|    0|    0|    0|    0|    0|    0|    0|    0|   48|  221|  251|  251|  172|    0|    0|    0|    0|    0|    0|    0|    0|    0|    0|    0|    0|    0|    0|    0|    0|    0|    0|    0|    0|    0|    0|    0|  234|  251|  251|  196|   12|    0|    0|    0|    0|    0|    0|    0|    0|    0|    0|    0|    0|    0|    0|    0|    0|    0|    0|    0|    0|    0|    0|    0|  253|  251|  251|   89|    0|    0|    0|    0|    0|    0|    0|    0|    0|    0|    0|    0|    0|    0|    0|    0|    0|    0|    0|    0|    0|    0|    0|  159|  255|  253|  253|   31|    0|    0|    0|    0|    0|    0|    0|    0|    0|    0|    0|    0|    0|    0|    0|    0|    0|    0|    0|    0|    0|    0|   48|  228|  253|  247|  140|    8|    0|    0|    0|    0|    0|    0|    0|    0|    0|    0|    0|    0|    0|    0|    0|    0|    0|    0|    0|    0|    0|    0|   64|  251|  253|  220|    0|    0|    0|    0|    0|    0|    0|    0|    0|    0|    0|    0|    0|    0|    0|    0|    0|    0|    0|    0|    0|    0|    0|    0|   64|  251|  253|  220|    0|    0|    0|    0|    0|    0|    0|    0|    0|    0|    0|    0|    0|    0|    0|    0|    0|    0|    0|    0|    0|    0|    0|    0|   24|  193|  253|  220|    0|    0|    0|    0|    0|    0|    0|    0|    0|    0|    0|    0|    0|    0|    0|    0|    0|    0|    0|    0|    0|    0|    0|    0|    0|    0|    0|    0|    0|    0|    0|    0|    0|    0|    0|    0|    0|    0|    0|    0|    0|    0|    0|    0|    0|    0|    0|    0|    0|    0|    0|    0|    0|    0|    0|    0|    0|    0|    0|    0|    0|    0|    0|    0|    0|    0|    0|    0|    0|    0|    0|    0|    0|    0|    0|    0|    0|    0|    0|    0|    0|    0|    0|    0|    0|    0|    0|    0|    0|    0|    0|    0|    0|    0|    0|    0|    0|    0|    0|    0|\n",
            "|  9|  0|  0|  0|  0|  0|  0|  0|  0|  0|   0|   0|   0|   0|   0|   0|   0|   0|   0|   0|   0|   0|   0|   0|   0|   0|   0|   0|   0|   0|   0|   0|   0|   0|   0|   0|   0|   0|   0|   0|   0|   0|   0|   0|   0|   0|   0|   0|   0|   0|   0|   0|   0|   0|   0|   0|   0|   0|   0|   0|   0|   0|   0|   0|   0|   0|   0|   0|   0|   0|   0|   0|   0|   0|   0|   0|   0|   0|   0|   0|   0|   0|   0|   0|   0|   0|   0|   0|   0|   0|   0|   0|   0|   0|   0|   0|   0|   0|   0|   0|    0|    0|    0|    0|    0|    0|    0|    0|    0|    0|    0|    0|    0|    0|    0|    0|    0|    0|    0|    0|    0|    0|    0|    0|    0|    0|    0|    0|    0|    0|    0|    0|    0|    0|    0|    0|    0|    0|    0|    0|    0|    0|    0|    0|    0|    0|    0|    0|    0|    0|    0|    0|    0|    0|    0|    0|    0|    0|    0|    0|    0|    0|    0|    0|    0|    0|    0|    0|    0|    0|    0|    0|    0|    0|    0|    0|    0|    0|    0|    0|    0|    0|    0|    0|    0|    0|    0|    0|    0|    0|    0|    0|    0|    0|    0|    0|    0|    0|    0|    0|    0|    0|    0|    0|    0|    0|    0|    0|    0|   55|  148|  210|  253|  253|  113|   87|  148|   55|    0|    0|    0|    0|    0|    0|    0|    0|    0|    0|    0|    0|    0|    0|    0|    0|    0|    0|   87|  232|  252|  253|  189|  210|  252|  252|  253|  168|    0|    0|    0|    0|    0|    0|    0|    0|    0|    0|    0|    0|    0|    0|    0|    0|    4|   57|  242|  252|  190|   65|    5|   12|  182|  252|  253|  116|    0|    0|    0|    0|    0|    0|    0|    0|    0|    0|    0|    0|    0|    0|    0|    0|   96|  252|  252|  183|   14|    0|    0|   92|  252|  252|  225|   21|    0|    0|    0|    0|    0|    0|    0|    0|    0|    0|    0|    0|    0|    0|    0|  132|  253|  252|  146|   14|    0|    0|    0|  215|  252|  252|   79|    0|    0|    0|    0|    0|    0|    0|    0|    0|    0|    0|    0|    0|    0|    0|  126|  253|  247|  176|    9|    0|    0|    8|   78|  245|  253|  129|    0|    0|    0|    0|    0|    0|    0|    0|    0|    0|    0|    0|    0|    0|    0|   16|  232|  252|  176|    0|    0|    0|   36|  201|  252|  252|  169|   11|    0|    0|    0|    0|    0|    0|    0|    0|    0|    0|    0|    0|    0|    0|    0|   22|  252|  252|   30|   22|  119|  197|  241|  253|  252|  251|   77|    0|    0|    0|    0|    0|    0|    0|    0|    0|    0|    0|    0|    0|    0|    0|    0|   16|  231|  252|  253|  252|  252|  252|  226|  227|  252|  231|    0|    0|    0|    0|    0|    0|    0|    0|    0|    0|    0|    0|    0|    0|    0|    0|    0|    0|   55|  235|  253|  217|  138|   42|   24|  192|  252|  143|    0|    0|    0|    0|    0|    0|    0|    0|    0|    0|    0|    0|    0|    0|    0|    0|    0|    0|    0|    0|    0|    0|    0|    0|   62|  255|  253|  109|    0|    0|    0|    0|    0|    0|    0|    0|    0|    0|    0|    0|    0|    0|    0|    0|    0|    0|    0|    0|    0|    0|    0|    0|   71|  253|  252|   21|    0|    0|    0|    0|    0|    0|    0|    0|    0|    0|    0|    0|    0|    0|    0|    0|    0|    0|    0|    0|    0|    0|    0|    0|    0|  253|  252|   21|    0|    0|    0|    0|    0|    0|    0|    0|    0|    0|    0|    0|    0|    0|    0|    0|    0|    0|    0|    0|    0|    0|    0|    0|   71|  253|  252|   21|    0|    0|    0|    0|    0|    0|    0|    0|    0|    0|    0|    0|    0|    0|    0|    0|    0|    0|    0|    0|    0|    0|    0|    0|  106|  253|  252|   21|    0|    0|    0|    0|    0|    0|    0|    0|    0|    0|    0|    0|    0|    0|    0|    0|    0|    0|    0|    0|    0|    0|    0|    0|   45|  255|  253|   21|    0|    0|    0|    0|    0|    0|    0|    0|    0|    0|    0|    0|    0|    0|    0|    0|    0|    0|    0|    0|    0|    0|    0|    0|    0|  218|  252|   56|    0|    0|    0|    0|    0|    0|    0|    0|    0|    0|    0|    0|    0|    0|    0|    0|    0|    0|    0|    0|    0|    0|    0|    0|    0|   96|  252|  189|   42|    0|    0|    0|    0|    0|    0|    0|    0|    0|    0|    0|    0|    0|    0|    0|    0|    0|    0|    0|    0|    0|    0|    0|    0|   14|  184|  252|  170|   11|    0|    0|    0|    0|    0|    0|    0|    0|    0|    0|    0|    0|    0|    0|    0|    0|    0|    0|    0|    0|    0|    0|    0|    0|   14|  147|  252|   42|    0|    0|    0|    0|    0|    0|    0|    0|    0|    0|    0|    0|    0|    0|    0|    0|    0|    0|    0|    0|    0|    0|    0|    0|    0|    0|    0|    0|    0|    0|    0|    0|    0|    0|    0|    0|    0|\n",
            "|  2|  0|  0|  0|  0|  0|  0|  0|  0|  0|   0|   0|   0|   0|   0|   0|   0|   0|   0|   0|   0|   0|   0|   0|   0|   0|   0|   0|   0|   0|   0|   0|   0|   0|   0|   0|   0|   0|   0|   0|   0|   0|   0|   0|   0|   0|   0|   0|   0|   0|   0|   0|   0|   0|   0|   0|   0|   0|   0|   0|   0|   0|   0|   0|   0|   0|   0|   0|   0|   0|   0|   0|   0|   0|   0|   0|   0|   0|   0|   0|   0|   0|   0|   0|   0|   0|   0|   0|   0|   0|   0|   0|   0|   0|   0|   0|   0|   0|   0|   0|    0|    0|    0|    0|    0|    0|    0|    0|    0|    0|    0|    0|    0|    0|    0|    0|    0|    0|    0|    0|    0|    0|    0|    0|    0|    0|    0|    0|    0|    0|    0|    0|    0|    0|    0|    0|    0|    0|    0|    0|    0|    0|    0|    0|    0|    0|    0|    0|    0|    0|    0|    0|    0|    0|    0|    0|   13|   25|  100|  122|    7|    0|    0|    0|    0|    0|    0|    0|    0|    0|    0|    0|    0|    0|    0|    0|    0|    0|    0|    0|    0|    0|   33|  151|  208|  252|  252|  252|  146|    0|    0|    0|    0|    0|    0|    0|    0|    0|    0|    0|    0|    0|    0|    0|    0|    0|    0|    0|   40|  152|  244|  252|  253|  224|  211|  252|  232|   40|    0|    0|    0|    0|    0|    0|    0|    0|    0|    0|    0|    0|    0|    0|    0|    0|   15|  152|  239|  252|  252|  252|  216|   31|   37|  252|  252|   60|    0|    0|    0|    0|    0|    0|    0|    0|    0|    0|    0|    0|    0|    0|    0|    0|   96|  252|  252|  252|  252|  217|   29|    0|   37|  252|  252|   60|    0|    0|    0|    0|    0|    0|    0|    0|    0|    0|    0|    0|    0|    0|    0|    0|  181|  252|  252|  220|  167|   30|    0|    0|   77|  252|  252|   60|    0|    0|    0|    0|    0|    0|    0|    0|    0|    0|    0|    0|    0|    0|    0|    0|   26|  128|   58|   22|    0|    0|    0|    0|  100|  252|  252|   60|    0|    0|    0|    0|    0|    0|    0|    0|    0|    0|    0|    0|    0|    0|    0|    0|    0|    0|    0|    0|    0|    0|    0|    0|  157|  252|  252|   60|    0|    0|    0|    0|    0|    0|    0|    0|    0|    0|    0|    0|    0|    0|    0|    0|    0|    0|    0|    0|  110|  121|  122|  121|  202|  252|  194|    3|    0|    0|    0|    0|    0|    0|    0|    0|    0|    0|    0|    0|    0|    0|    0|    0|    0|   10|   53|  179|  253|  253|  255|  253|  253|  228|   35|    0|    0|    0|    0|    0|    0|    0|    0|    0|    0|    0|    0|    0|    0|    0|    0|    5|   54|  227|  252|  243|  228|  170|  242|  252|  252|  231|  117|    6|    0|    0|    0|    0|    0|    0|    0|    0|    0|    0|    0|    0|    0|    0|    6|   78|  252|  252|  125|   59|    0|   18|  208|  252|  252|  252|  252|   87|    7|    0|    0|    0|    0|    0|    0|    0|    0|    0|    0|    0|    0|    5|  135|  252|  252|  180|   16|    0|   21|  203|  253|  247|  129|  173|  252|  252|  184|   66|   49|   49|    0|    0|    0|    0|    0|    0|    0|    0|    3|  136|  252|  241|  106|   17|    0|   53|  200|  252|  216|   65|    0|   14|   72|  163|  241|  252|  252|  223|    0|    0|    0|    0|    0|    0|    0|    0|  105|  252|  242|   88|   18|   73|  170|  244|  252|  126|   29|    0|    0|    0|    0|    0|   89|  180|  180|   37|    0|    0|    0|    0|    0|    0|    0|    0|  231|  252|  245|  205|  216|  252|  252|  252|  124|    3|    0|    0|    0|    0|    0|    0|    0|    0|    0|    0|    0|    0|    0|    0|    0|    0|    0|    0|  207|  252|  252|  252|  252|  178|  116|   36|    4|    0|    0|    0|    0|    0|    0|    0|    0|    0|    0|    0|    0|    0|    0|    0|    0|    0|    0|    0|   13|   93|  143|  121|   23|    6|    0|    0|    0|    0|    0|    0|    0|    0|    0|    0|    0|    0|    0|    0|    0|    0|    0|    0|    0|    0|    0|    0|    0|    0|    0|    0|    0|    0|    0|    0|    0|    0|    0|    0|    0|    0|    0|    0|    0|    0|    0|    0|    0|    0|    0|    0|    0|    0|    0|    0|    0|    0|    0|    0|    0|    0|    0|    0|    0|    0|    0|    0|    0|    0|    0|    0|    0|    0|    0|    0|    0|    0|    0|    0|    0|    0|    0|    0|    0|    0|    0|    0|    0|    0|    0|    0|    0|    0|    0|    0|    0|    0|    0|    0|    0|    0|    0|    0|    0|    0|    0|    0|    0|    0|    0|    0|    0|    0|    0|    0|    0|    0|    0|    0|    0|    0|    0|    0|    0|    0|    0|    0|    0|    0|    0|    0|    0|    0|    0|    0|    0|    0|    0|    0|    0|    0|    0|    0|    0|    0|    0|    0|    0|    0|    0|    0|    0|    0|    0|    0|    0|    0|    0|    0|    0|    0|    0|\n",
            "|  1|  0|  0|  0|  0|  0|  0|  0|  0|  0|   0|   0|   0|   0|   0|   0|   0|   0|   0|   0|   0|   0|   0|   0|   0|   0|   0|   0|   0|   0|   0|   0|   0|   0|   0|   0|   0|   0|   0|   0|   0|   0|   0|   0|   0|   0|   0|   0|   0|   0|   0|   0|   0|   0|   0|   0|   0|   0|   0|   0|   0|   0|   0|   0|   0|   0|   0|   0|   0|   0|   0|   0|   0|   0|   0|   0|   0|   0|   0|   0|   0|   0|   0|   0|   0|   0|   0|   0|   0|   0|   0|   0|   0|   0|   0|   0|   0|   0|   0|   0|    0|    0|    0|    0|    0|    0|    0|    0|    0|    0|    0|    0|    0|    0|    0|    0|    0|    0|    0|    0|    0|    0|    0|    0|    0|  145|  255|  211|   31|    0|    0|    0|    0|    0|    0|    0|    0|    0|    0|    0|    0|    0|    0|    0|    0|    0|    0|    0|    0|    0|    0|    0|   32|  237|  253|  252|   71|    0|    0|    0|    0|    0|    0|    0|    0|    0|    0|    0|    0|    0|    0|    0|    0|    0|    0|    0|    0|    0|    0|    0|   11|  175|  253|  252|   71|    0|    0|    0|    0|    0|    0|    0|    0|    0|    0|    0|    0|    0|    0|    0|    0|    0|    0|    0|    0|    0|    0|    0|    0|  144|  253|  252|   71|    0|    0|    0|    0|    0|    0|    0|    0|    0|    0|    0|    0|    0|    0|    0|    0|    0|    0|    0|    0|    0|    0|    0|   16|  191|  253|  252|   71|    0|    0|    0|    0|    0|    0|    0|    0|    0|    0|    0|    0|    0|    0|    0|    0|    0|    0|    0|    0|    0|    0|    0|   26|  221|  253|  252|  124|   31|    0|    0|    0|    0|    0|    0|    0|    0|    0|    0|    0|    0|    0|    0|    0|    0|    0|    0|    0|    0|    0|    0|    0|  125|  253|  252|  252|  108|    0|    0|    0|    0|    0|    0|    0|    0|    0|    0|    0|    0|    0|    0|    0|    0|    0|    0|    0|    0|    0|    0|    0|    0|  253|  252|  252|  108|    0|    0|    0|    0|    0|    0|    0|    0|    0|    0|    0|    0|    0|    0|    0|    0|    0|    0|    0|    0|    0|    0|    0|    0|  255|  253|  253|  108|    0|    0|    0|    0|    0|    0|    0|    0|    0|    0|    0|    0|    0|    0|    0|    0|    0|    0|    0|    0|    0|    0|    0|    0|  253|  252|  252|  108|    0|    0|    0|    0|    0|    0|    0|    0|    0|    0|    0|    0|    0|    0|    0|    0|    0|    0|    0|    0|    0|    0|    0|    0|  253|  252|  252|  108|    0|    0|    0|    0|    0|    0|    0|    0|    0|    0|    0|    0|    0|    0|    0|    0|    0|    0|    0|    0|    0|    0|    0|    0|  253|  252|  252|  108|    0|    0|    0|    0|    0|    0|    0|    0|    0|    0|    0|    0|    0|    0|    0|    0|    0|    0|    0|    0|    0|    0|    0|    0|  255|  253|  253|  170|    0|    0|    0|    0|    0|    0|    0|    0|    0|    0|    0|    0|    0|    0|    0|    0|    0|    0|    0|    0|    0|    0|    0|    0|  253|  252|  252|  252|   42|    0|    0|    0|    0|    0|    0|    0|    0|    0|    0|    0|    0|    0|    0|    0|    0|    0|    0|    0|    0|    0|    0|    0|  149|  252|  252|  252|  144|    0|    0|    0|    0|    0|    0|    0|    0|    0|    0|    0|    0|    0|    0|    0|    0|    0|    0|    0|    0|    0|    0|    0|  109|  252|  252|  252|  144|    0|    0|    0|    0|    0|    0|    0|    0|    0|    0|    0|    0|    0|    0|    0|    0|    0|    0|    0|    0|    0|    0|    0|    0|  218|  253|  253|  255|   35|    0|    0|    0|    0|    0|    0|    0|    0|    0|    0|    0|    0|    0|    0|    0|    0|    0|    0|    0|    0|    0|    0|    0|  175|  252|  252|  253|   35|    0|    0|    0|    0|    0|    0|    0|    0|    0|    0|    0|    0|    0|    0|    0|    0|    0|    0|    0|    0|    0|    0|    0|   73|  252|  252|  253|   35|    0|    0|    0|    0|    0|    0|    0|    0|    0|    0|    0|    0|    0|    0|    0|    0|    0|    0|    0|    0|    0|    0|    0|   31|  211|  252|  253|   35|    0|    0|    0|    0|    0|    0|    0|    0|    0|    0|    0|    0|    0|    0|    0|    0|    0|    0|    0|    0|    0|    0|    0|    0|    0|    0|    0|    0|    0|    0|    0|    0|    0|    0|    0|    0|    0|    0|    0|    0|    0|    0|    0|    0|    0|    0|    0|    0|    0|    0|    0|    0|    0|    0|    0|    0|    0|    0|    0|    0|    0|    0|    0|    0|    0|    0|    0|    0|    0|    0|    0|    0|    0|    0|    0|    0|    0|    0|    0|    0|    0|    0|    0|    0|    0|    0|    0|    0|    0|    0|    0|    0|    0|    0|    0|    0|    0|    0|    0|    0|    0|    0|    0|    0|    0|    0|    0|    0|    0|    0|    0|    0|    0|    0|    0|    0|    0|    0|    0|    0|    0|\n",
            "|  3|  0|  0|  0|  0|  0|  0|  0|  0|  0|   0|   0|   0|   0|   0|   0|   0|   0|   0|   0|   0|   0|   0|   0|   0|   0|   0|   0|   0|   0|   0|   0|   0|   0|   0|   0|   0|   0|   0|   0|   0|   0|   0|   0|   0|   0|   0|   0|   0|   0|   0|   0|   0|   0|   0|   0|   0|   0|   0|   0|   0|   0|   0|   0|   0|   0|   0|   0|   0|   0|   0|   0|   0|   0|   0|   0|   0|   0|   0|   0|   0|   0|   0|   0|   0|   0|   0|   0|   0|   0|   0|   0|   0|   0|   0|   0|   0|   0|   0|   0|    0|    0|    0|    0|    0|    0|    0|    0|    0|    0|    0|    0|    0|    0|    0|    0|    0|    0|    0|    0|    0|    0|    0|    0|    0|    0|    0|    0|    0|    0|    0|    0|    0|    0|    0|    0|    0|    0|    0|    0|    0|    0|    0|    0|    0|    0|    0|    0|    0|    0|    0|    0|   38|   43|  105|  255|  253|  253|  253|  253|  253|  174|    6|    0|    0|    0|    0|    0|    0|    0|    0|    0|    0|    0|    0|    0|    0|    0|   43|  139|  224|  226|  252|  253|  252|  252|  252|  252|  252|  252|  158|   14|    0|    0|    0|    0|    0|    0|    0|    0|    0|    0|    0|    0|    0|    0|  178|  252|  252|  252|  252|  253|  252|  252|  252|  252|  252|  252|  252|   59|    0|    0|    0|    0|    0|    0|    0|    0|    0|    0|    0|    0|    0|    0|  109|  252|  252|  230|  132|  133|  132|  132|  189|  252|  252|  252|  252|   59|    0|    0|    0|    0|    0|    0|    0|    0|    0|    0|    0|    0|    0|    0|    4|   29|   29|   24|    0|    0|    0|    0|   14|  226|  252|  252|  172|    7|    0|    0|    0|    0|    0|    0|    0|    0|    0|    0|    0|    0|    0|    0|    0|    0|    0|    0|    0|    0|    0|    0|   85|  243|  252|  252|  144|    0|    0|    0|    0|    0|    0|    0|    0|    0|    0|    0|    0|    0|    0|    0|    0|    0|    0|    0|    0|    0|    0|   88|  189|  252|  252|  252|   14|    0|    0|    0|    0|    0|    0|    0|    0|    0|    0|    0|    0|    0|    0|    0|    0|    0|    0|    0|    0|   91|  212|  247|  252|  252|  252|  204|    9|    0|    0|    0|    0|    0|    0|    0|    0|    0|    0|    0|    0|    0|    0|    0|   32|  125|  193|  193|  193|  253|  252|  252|  252|  238|  102|   28|    0|    0|    0|    0|    0|    0|    0|    0|    0|    0|    0|    0|    0|    0|    0|   45|  222|  252|  252|  252|  252|  253|  252|  252|  252|  177|    0|    0|    0|    0|    0|    0|    0|    0|    0|    0|    0|    0|    0|    0|    0|    0|    0|   45|  223|  253|  253|  253|  253|  255|  253|  253|  253|  253|   74|    0|    0|    0|    0|    0|    0|    0|    0|    0|    0|    0|    0|    0|    0|    0|    0|    0|   31|  123|   52|   44|   44|   44|   44|  143|  252|  252|   74|    0|    0|    0|    0|    0|    0|    0|    0|    0|    0|    0|    0|    0|    0|    0|    0|    0|    0|    0|    0|    0|    0|    0|    0|   15|  252|  252|   74|    0|    0|    0|    0|    0|    0|    0|    0|    0|    0|    0|    0|    0|    0|    0|    0|    0|    0|    0|    0|    0|    0|    0|    0|   86|  252|  252|   74|    0|    0|    0|    0|    0|    0|    0|    0|    0|    0|    0|    0|    0|    0|    5|   75|    9|    0|    0|    0|    0|    0|    0|   98|  242|  252|  252|   74|    0|    0|    0|    0|    0|    0|    0|    0|    0|    0|    0|    0|    0|   61|  183|  252|   29|    0|    0|    0|    0|   18|   92|  239|  252|  252|  243|   65|    0|    0|    0|    0|    0|    0|    0|    0|    0|    0|    0|    0|    0|  208|  252|  252|  147|  134|  134|  134|  134|  203|  253|  252|  252|  188|   83|    0|    0|    0|    0|    0|    0|    0|    0|    0|    0|    0|    0|    0|    0|  208|  252|  252|  252|  252|  252|  252|  252|  252|  253|  230|  153|    8|    0|    0|    0|    0|    0|    0|    0|    0|    0|    0|    0|    0|    0|    0|    0|   49|  157|  252|  252|  252|  252|  252|  217|  207|  146|   45|    0|    0|    0|    0|    0|    0|    0|    0|    0|    0|    0|    0|    0|    0|    0|    0|    0|    0|    7|  103|  235|  252|  172|  103|   24|    0|    0|    0|    0|    0|    0|    0|    0|    0|    0|    0|    0|    0|    0|    0|    0|    0|    0|    0|    0|    0|    0|    0|    0|    0|    0|    0|    0|    0|    0|    0|    0|    0|    0|    0|    0|    0|    0|    0|    0|    0|    0|    0|    0|    0|    0|    0|    0|    0|    0|    0|    0|    0|    0|    0|    0|    0|    0|    0|    0|    0|    0|    0|    0|    0|    0|    0|    0|    0|    0|    0|    0|    0|    0|    0|    0|    0|    0|    0|    0|    0|    0|    0|    0|    0|    0|    0|    0|    0|    0|    0|    0|    0|    0|    0|    0|    0|    0|    0|\n",
            "|  1|  0|  0|  0|  0|  0|  0|  0|  0|  0|   0|   0|   0|   0|   0|   0|   0|   0|   0|   0|   0|   0|   0|   0|   0|   0|   0|   0|   0|   0|   0|   0|   0|   0|   0|   0|   0|   0|   0|   0|   0|   0|   0|   0|   0|   0|   0|   0|   0|   0|   0|   0|   0|   0|   0|   0|   0|   0|   0|   0|   0|   0|   0|   0|   0|   0|   0|   0|   0|   0|   0|   0|   0|   0|   0|   0|   0|   0|   0|   0|   0|   0|   0|   0|   0|   0|   0|   0|   0|   0|   0|   0|   0|   0|   0|   0|   0|   0|   0|   0|    0|    0|    0|    0|    0|    0|    0|    0|    0|    0|    0|    0|    0|    0|    0|    0|    0|    0|    0|    0|    0|    0|    0|    0|    0|    0|    0|    0|    0|    0|    0|    0|    0|    0|    0|    0|    0|    0|    0|    0|    0|    0|    0|    0|    0|    0|    0|    0|    0|    0|    0|    0|    0|    5|   63|  197|    0|    0|    0|    0|    0|    0|    0|    0|    0|    0|    0|    0|    0|    0|    0|    0|    0|    0|    0|    0|    0|    0|    0|    0|    0|   20|  254|  230|   24|    0|    0|    0|    0|    0|    0|    0|    0|    0|    0|    0|    0|    0|    0|    0|    0|    0|    0|    0|    0|    0|    0|    0|    0|   20|  254|  254|   48|    0|    0|    0|    0|    0|    0|    0|    0|    0|    0|    0|    0|    0|    0|    0|    0|    0|    0|    0|    0|    0|    0|    0|    0|   20|  254|  255|   48|    0|    0|    0|    0|    0|    0|    0|    0|    0|    0|    0|    0|    0|    0|    0|    0|    0|    0|    0|    0|    0|    0|    0|    0|   20|  254|  254|   57|    0|    0|    0|    0|    0|    0|    0|    0|    0|    0|    0|    0|    0|    0|    0|    0|    0|    0|    0|    0|    0|    0|    0|    0|   20|  254|  254|  108|    0|    0|    0|    0|    0|    0|    0|    0|    0|    0|    0|    0|    0|    0|    0|    0|    0|    0|    0|    0|    0|    0|    0|    0|   16|  239|  254|  143|    0|    0|    0|    0|    0|    0|    0|    0|    0|    0|    0|    0|    0|    0|    0|    0|    0|    0|    0|    0|    0|    0|    0|    0|    0|  178|  254|  143|    0|    0|    0|    0|    0|    0|    0|    0|    0|    0|    0|    0|    0|    0|    0|    0|    0|    0|    0|    0|    0|    0|    0|    0|    0|  178|  254|  143|    0|    0|    0|    0|    0|    0|    0|    0|    0|    0|    0|    0|    0|    0|    0|    0|    0|    0|    0|    0|    0|    0|    0|    0|    0|  178|  254|  162|    0|    0|    0|    0|    0|    0|    0|    0|    0|    0|    0|    0|    0|    0|    0|    0|    0|    0|    0|    0|    0|    0|    0|    0|    0|  178|  254|  240|    0|    0|    0|    0|    0|    0|    0|    0|    0|    0|    0|    0|    0|    0|    0|    0|    0|    0|    0|    0|    0|    0|    0|    0|    0|  113|  254|  240|    0|    0|    0|    0|    0|    0|    0|    0|    0|    0|    0|    0|    0|    0|    0|    0|    0|    0|    0|    0|    0|    0|    0|    0|    0|   83|  254|  245|   31|    0|    0|    0|    0|    0|    0|    0|    0|    0|    0|    0|    0|    0|    0|    0|    0|    0|    0|    0|    0|    0|    0|    0|    0|   79|  254|  246|   38|    0|    0|    0|    0|    0|    0|    0|    0|    0|    0|    0|    0|    0|    0|    0|    0|    0|    0|    0|    0|    0|    0|    0|    0|    0|  214|  254|  150|    0|    0|    0|    0|    0|    0|    0|    0|    0|    0|    0|    0|    0|    0|    0|    0|    0|    0|    0|    0|    0|    0|    0|    0|    0|  144|  241|    8|    0|    0|    0|    0|    0|    0|    0|    0|    0|    0|    0|    0|    0|    0|    0|    0|    0|    0|    0|    0|    0|    0|    0|    0|    0|  144|  240|    2|    0|    0|    0|    0|    0|    0|    0|    0|    0|    0|    0|    0|    0|    0|    0|    0|    0|    0|    0|    0|    0|    0|    0|    0|    0|  144|  254|   82|    0|    0|    0|    0|    0|    0|    0|    0|    0|    0|    0|    0|    0|    0|    0|    0|    0|    0|    0|    0|    0|    0|    0|    0|    0|  230|  247|   40|    0|    0|    0|    0|    0|    0|    0|    0|    0|    0|    0|    0|    0|    0|    0|    0|    0|    0|    0|    0|    0|    0|    0|    0|    0|  168|  209|   31|    0|    0|    0|    0|    0|    0|    0|    0|    0|    0|    0|    0|    0|    0|    0|    0|    0|    0|    0|    0|    0|    0|    0|    0|    0|    0|    0|    0|    0|    0|    0|    0|    0|    0|    0|    0|    0|    0|    0|    0|    0|    0|    0|    0|    0|    0|    0|    0|    0|    0|    0|    0|    0|    0|    0|    0|    0|    0|    0|    0|    0|    0|    0|    0|    0|    0|    0|    0|    0|    0|    0|    0|    0|    0|    0|    0|    0|    0|    0|    0|    0|    0|    0|    0|    0|    0|    0|    0|    0|    0|    0|    0|    0|    0|    0|\n",
            "|  4|  0|  0|  0|  0|  0|  0|  0|  0|  0|   0|   0|   0|   0|   0|   0|   0|   0|   0|   0|   0|   0|   0|   0|   0|   0|   0|   0|   0|   0|   0|   0|   0|   0|   0|   0|   0|   0|   0|   0|   0|   0|   0|   0|   0|   0|   0|   0|   0|   0|   0|   0|   0|   0|   0|   0|   0|   0|   0|   0|   0|   0|   0|   0|   0|   0|   0|   0|   0|   0|   0|   0|   0|   0|   0|   0|   0|   0|   0|   0|   0|   0|   0|   0|   0|   0|   0|   0|   0|   0|   0|   0|   0|   0|   0|   0|   0|   0|   0|   0|    0|    0|    0|    0|    0|    0|    0|    0|    0|    0|    0|    0|    0|    0|    0|    0|    0|    0|    0|    0|    0|    0|    0|    0|    0|    0|    0|    0|    0|    0|    0|    0|    0|    0|    0|  189|  190|    0|    0|    0|    0|    0|    0|    0|    0|    0|    0|    0|    0|    0|    0|    0|    0|    0|    0|    0|    0|    0|    0|    0|    0|    0|  143|  247|  153|    0|    0|    0|    0|    0|    0|    0|    0|    0|    0|    0|    0|    0|    0|    0|    0|    0|    0|    0|    0|    0|    0|    0|    0|  136|  247|  242|   86|    0|    0|    0|    0|    0|    0|    0|    0|    0|    0|    0|    0|    0|    0|    0|    0|    0|    0|    0|    0|    0|    0|    0|    0|  192|  252|  187|    0|    0|    0|    0|    0|    0|    0|    0|    0|    0|    0|    0|    0|    0|    0|    0|    0|   62|  185|   18|    0|    0|    0|    0|   89|  236|  217|   47|    0|    0|    0|    0|    0|    0|    0|    0|    0|    0|    0|    0|    0|    0|    0|    0|    0|  216|  253|   60|    0|    0|    0|    0|  212|  255|   81|    0|    0|    0|    0|    0|    0|    0|    0|    0|    0|    0|    0|    0|    0|    0|    0|    0|    0|  206|  252|   68|    0|    0|    0|   48|  242|  253|   89|    0|    0|    0|    0|    0|    0|    0|    0|    0|    0|    0|    0|    0|    0|    0|    0|    0|  131|  251|  212|   21|    0|    0|   11|  167|  252|  197|    5|    0|    0|    0|    0|    0|    0|    0|    0|    0|    0|    0|    0|    0|    0|    0|    0|   29|  232|  247|   63|    0|    0|    0|  153|  252|  226|    0|    0|    0|    0|    0|    0|    0|    0|    0|    0|    0|    0|    0|    0|    0|    0|    0|   45|  219|  252|  143|    0|    0|    0|  116|  249|  252|  103|    0|    0|    0|    0|    0|    0|    0|    0|    0|    0|    0|    0|    0|    0|    0|    4|   96|  253|  255|  253|  200|  122|    7|   25|  201|  250|  158|    0|    0|    0|    0|    0|    0|    0|    0|    0|    0|    0|    0|    0|    0|    0|    0|   92|  252|  252|  253|  217|  252|  252|  200|  227|  252|  231|    0|    0|    0|    0|    0|    0|    0|    0|    0|    0|    0|    0|    0|    0|    0|    0|   87|  251|  247|  231|   65|   48|  189|  252|  252|  253|  252|  251|  227|   35|    0|    0|    0|    0|    0|    0|    0|    0|    0|    0|    0|    0|    0|    0|  190|  221|   98|    0|    0|    0|   42|  196|  252|  253|  252|  252|  162|    0|    0|    0|    0|    0|    0|    0|    0|    0|    0|    0|    0|    0|    0|    0|  111|   29|    0|    0|    0|    0|   62|  239|  252|   86|   42|   42|   14|    0|    0|    0|    0|    0|    0|    0|    0|    0|    0|    0|    0|    0|    0|    0|    0|    0|    0|    0|    0|   15|  148|  253|  218|    0|    0|    0|    0|    0|    0|    0|    0|    0|    0|    0|    0|    0|    0|    0|    0|    0|    0|    0|    0|    0|    0|    0|    0|  121|  252|  231|   28|    0|    0|    0|    0|    0|    0|    0|    0|    0|    0|    0|    0|    0|    0|    0|    0|    0|    0|    0|    0|    0|    0|    0|   31|  221|  251|  129|    0|    0|    0|    0|    0|    0|    0|    0|    0|    0|    0|    0|    0|    0|    0|    0|    0|    0|    0|    0|    0|    0|    0|    0|  218|  252|  160|    0|    0|    0|    0|    0|    0|    0|    0|    0|    0|    0|    0|    0|    0|    0|    0|    0|    0|    0|    0|    0|    0|    0|    0|    0|  122|  252|   82|    0|    0|    0|    0|    0|    0|    0|    0|    0|    0|    0|    0|    0|    0|    0|    0|    0|    0|    0|    0|    0|    0|    0|    0|    0|    0|    0|    0|    0|    0|    0|    0|    0|    0|    0|    0|    0|    0|    0|    0|    0|    0|    0|    0|    0|    0|    0|    0|    0|    0|    0|    0|    0|    0|    0|    0|    0|    0|    0|    0|    0|    0|    0|    0|    0|    0|    0|    0|    0|    0|    0|    0|    0|    0|    0|    0|    0|    0|    0|    0|    0|    0|    0|    0|    0|    0|    0|    0|    0|    0|    0|    0|    0|    0|    0|    0|    0|    0|    0|    0|    0|    0|    0|    0|    0|    0|    0|    0|    0|    0|    0|    0|    0|    0|    0|    0|    0|    0|    0|    0|    0|    0|    0|    0|    0|    0|    0|\n",
            "+---+---+---+---+---+---+---+---+---+---+----+----+----+----+----+----+----+----+----+----+----+----+----+----+----+----+----+----+----+----+----+----+----+----+----+----+----+----+----+----+----+----+----+----+----+----+----+----+----+----+----+----+----+----+----+----+----+----+----+----+----+----+----+----+----+----+----+----+----+----+----+----+----+----+----+----+----+----+----+----+----+----+----+----+----+----+----+----+----+----+----+----+----+----+----+----+----+----+----+----+-----+-----+-----+-----+-----+-----+-----+-----+-----+-----+-----+-----+-----+-----+-----+-----+-----+-----+-----+-----+-----+-----+-----+-----+-----+-----+-----+-----+-----+-----+-----+-----+-----+-----+-----+-----+-----+-----+-----+-----+-----+-----+-----+-----+-----+-----+-----+-----+-----+-----+-----+-----+-----+-----+-----+-----+-----+-----+-----+-----+-----+-----+-----+-----+-----+-----+-----+-----+-----+-----+-----+-----+-----+-----+-----+-----+-----+-----+-----+-----+-----+-----+-----+-----+-----+-----+-----+-----+-----+-----+-----+-----+-----+-----+-----+-----+-----+-----+-----+-----+-----+-----+-----+-----+-----+-----+-----+-----+-----+-----+-----+-----+-----+-----+-----+-----+-----+-----+-----+-----+-----+-----+-----+-----+-----+-----+-----+-----+-----+-----+-----+-----+-----+-----+-----+-----+-----+-----+-----+-----+-----+-----+-----+-----+-----+-----+-----+-----+-----+-----+-----+-----+-----+-----+-----+-----+-----+-----+-----+-----+-----+-----+-----+-----+-----+-----+-----+-----+-----+-----+-----+-----+-----+-----+-----+-----+-----+-----+-----+-----+-----+-----+-----+-----+-----+-----+-----+-----+-----+-----+-----+-----+-----+-----+-----+-----+-----+-----+-----+-----+-----+-----+-----+-----+-----+-----+-----+-----+-----+-----+-----+-----+-----+-----+-----+-----+-----+-----+-----+-----+-----+-----+-----+-----+-----+-----+-----+-----+-----+-----+-----+-----+-----+-----+-----+-----+-----+-----+-----+-----+-----+-----+-----+-----+-----+-----+-----+-----+-----+-----+-----+-----+-----+-----+-----+-----+-----+-----+-----+-----+-----+-----+-----+-----+-----+-----+-----+-----+-----+-----+-----+-----+-----+-----+-----+-----+-----+-----+-----+-----+-----+-----+-----+-----+-----+-----+-----+-----+-----+-----+-----+-----+-----+-----+-----+-----+-----+-----+-----+-----+-----+-----+-----+-----+-----+-----+-----+-----+-----+-----+-----+-----+-----+-----+-----+-----+-----+-----+-----+-----+-----+-----+-----+-----+-----+-----+-----+-----+-----+-----+-----+-----+-----+-----+-----+-----+-----+-----+-----+-----+-----+-----+-----+-----+-----+-----+-----+-----+-----+-----+-----+-----+-----+-----+-----+-----+-----+-----+-----+-----+-----+-----+-----+-----+-----+-----+-----+-----+-----+-----+-----+-----+-----+-----+-----+-----+-----+-----+-----+-----+-----+-----+-----+-----+-----+-----+-----+-----+-----+-----+-----+-----+-----+-----+-----+-----+-----+-----+-----+-----+-----+-----+-----+-----+-----+-----+-----+-----+-----+-----+-----+-----+-----+-----+-----+-----+-----+-----+-----+-----+-----+-----+-----+-----+-----+-----+-----+-----+-----+-----+-----+-----+-----+-----+-----+-----+-----+-----+-----+-----+-----+-----+-----+-----+-----+-----+-----+-----+-----+-----+-----+-----+-----+-----+-----+-----+-----+-----+-----+-----+-----+-----+-----+-----+-----+-----+-----+-----+-----+-----+-----+-----+-----+-----+-----+-----+-----+-----+-----+-----+-----+-----+-----+-----+-----+-----+-----+-----+-----+-----+-----+-----+-----+-----+-----+-----+-----+-----+-----+-----+-----+-----+-----+-----+-----+-----+-----+-----+-----+-----+-----+-----+-----+-----+-----+-----+-----+-----+-----+-----+-----+-----+-----+-----+-----+-----+-----+-----+-----+-----+-----+-----+-----+-----+-----+-----+-----+-----+-----+-----+-----+-----+-----+-----+-----+-----+-----+-----+-----+-----+-----+-----+-----+-----+-----+-----+-----+-----+-----+-----+-----+-----+-----+-----+-----+-----+-----+-----+-----+-----+-----+-----+-----+-----+-----+-----+-----+-----+-----+-----+-----+-----+-----+-----+-----+-----+-----+-----+-----+-----+-----+-----+-----+-----+-----+-----+-----+-----+-----+-----+-----+-----+-----+-----+-----+-----+-----+-----+-----+-----+-----+-----+-----+-----+-----+-----+-----+-----+-----+-----+-----+-----+-----+-----+-----+-----+-----+-----+-----+-----+-----+-----+-----+-----+-----+-----+-----+-----+-----+-----+-----+-----+-----+-----+-----+-----+-----+-----+-----+-----+-----+-----+-----+-----+-----+-----+-----+-----+-----+-----+-----+-----+-----+-----+-----+-----+-----+-----+-----+-----+-----+-----+-----+-----+-----+-----+-----+-----+-----+-----+-----+-----+-----+-----+-----+\n",
            "only showing top 10 rows\n",
            "\n"
          ],
          "name": "stdout"
        }
      ]
    },
    {
      "cell_type": "code",
      "metadata": {
        "colab": {
          "base_uri": "https://localhost:8080/"
        },
        "id": "d_lLfgQLH6OW",
        "outputId": "99fd66a4-b220-42ea-87b3-f6355893320a"
      },
      "source": [
        "#cuenta cuantas filas tiene el dataframe, no tiene cabeceras\n",
        "df_training.count()"
      ],
      "execution_count": null,
      "outputs": [
        {
          "output_type": "execute_result",
          "data": {
            "text/plain": [
              "60000"
            ]
          },
          "metadata": {
            "tags": []
          },
          "execution_count": 11
        }
      ]
    },
    {
      "cell_type": "markdown",
      "metadata": {
        "id": "aryEFeB2k7PJ"
      },
      "source": [
        "### 5.2. Modificacion del dataframe"
      ]
    },
    {
      "cell_type": "code",
      "metadata": {
        "colab": {
          "base_uri": "https://localhost:8080/"
        },
        "id": "PpOXVLQOFF9G",
        "outputId": "9f3cd417-0e41-4a33-bacb-4b51a128e9b1"
      },
      "source": [
        "#imprime el numero de columnas que tiene el dataframe y despues imprime su contenido\n",
        "print(\"No of columns: \", len(df_training.columns), df_training.columns)"
      ],
      "execution_count": null,
      "outputs": [
        {
          "output_type": "stream",
          "text": [
            "No of columns:  785 ['_c0', '_c1', '_c2', '_c3', '_c4', '_c5', '_c6', '_c7', '_c8', '_c9', '_c10', '_c11', '_c12', '_c13', '_c14', '_c15', '_c16', '_c17', '_c18', '_c19', '_c20', '_c21', '_c22', '_c23', '_c24', '_c25', '_c26', '_c27', '_c28', '_c29', '_c30', '_c31', '_c32', '_c33', '_c34', '_c35', '_c36', '_c37', '_c38', '_c39', '_c40', '_c41', '_c42', '_c43', '_c44', '_c45', '_c46', '_c47', '_c48', '_c49', '_c50', '_c51', '_c52', '_c53', '_c54', '_c55', '_c56', '_c57', '_c58', '_c59', '_c60', '_c61', '_c62', '_c63', '_c64', '_c65', '_c66', '_c67', '_c68', '_c69', '_c70', '_c71', '_c72', '_c73', '_c74', '_c75', '_c76', '_c77', '_c78', '_c79', '_c80', '_c81', '_c82', '_c83', '_c84', '_c85', '_c86', '_c87', '_c88', '_c89', '_c90', '_c91', '_c92', '_c93', '_c94', '_c95', '_c96', '_c97', '_c98', '_c99', '_c100', '_c101', '_c102', '_c103', '_c104', '_c105', '_c106', '_c107', '_c108', '_c109', '_c110', '_c111', '_c112', '_c113', '_c114', '_c115', '_c116', '_c117', '_c118', '_c119', '_c120', '_c121', '_c122', '_c123', '_c124', '_c125', '_c126', '_c127', '_c128', '_c129', '_c130', '_c131', '_c132', '_c133', '_c134', '_c135', '_c136', '_c137', '_c138', '_c139', '_c140', '_c141', '_c142', '_c143', '_c144', '_c145', '_c146', '_c147', '_c148', '_c149', '_c150', '_c151', '_c152', '_c153', '_c154', '_c155', '_c156', '_c157', '_c158', '_c159', '_c160', '_c161', '_c162', '_c163', '_c164', '_c165', '_c166', '_c167', '_c168', '_c169', '_c170', '_c171', '_c172', '_c173', '_c174', '_c175', '_c176', '_c177', '_c178', '_c179', '_c180', '_c181', '_c182', '_c183', '_c184', '_c185', '_c186', '_c187', '_c188', '_c189', '_c190', '_c191', '_c192', '_c193', '_c194', '_c195', '_c196', '_c197', '_c198', '_c199', '_c200', '_c201', '_c202', '_c203', '_c204', '_c205', '_c206', '_c207', '_c208', '_c209', '_c210', '_c211', '_c212', '_c213', '_c214', '_c215', '_c216', '_c217', '_c218', '_c219', '_c220', '_c221', '_c222', '_c223', '_c224', '_c225', '_c226', '_c227', '_c228', '_c229', '_c230', '_c231', '_c232', '_c233', '_c234', '_c235', '_c236', '_c237', '_c238', '_c239', '_c240', '_c241', '_c242', '_c243', '_c244', '_c245', '_c246', '_c247', '_c248', '_c249', '_c250', '_c251', '_c252', '_c253', '_c254', '_c255', '_c256', '_c257', '_c258', '_c259', '_c260', '_c261', '_c262', '_c263', '_c264', '_c265', '_c266', '_c267', '_c268', '_c269', '_c270', '_c271', '_c272', '_c273', '_c274', '_c275', '_c276', '_c277', '_c278', '_c279', '_c280', '_c281', '_c282', '_c283', '_c284', '_c285', '_c286', '_c287', '_c288', '_c289', '_c290', '_c291', '_c292', '_c293', '_c294', '_c295', '_c296', '_c297', '_c298', '_c299', '_c300', '_c301', '_c302', '_c303', '_c304', '_c305', '_c306', '_c307', '_c308', '_c309', '_c310', '_c311', '_c312', '_c313', '_c314', '_c315', '_c316', '_c317', '_c318', '_c319', '_c320', '_c321', '_c322', '_c323', '_c324', '_c325', '_c326', '_c327', '_c328', '_c329', '_c330', '_c331', '_c332', '_c333', '_c334', '_c335', '_c336', '_c337', '_c338', '_c339', '_c340', '_c341', '_c342', '_c343', '_c344', '_c345', '_c346', '_c347', '_c348', '_c349', '_c350', '_c351', '_c352', '_c353', '_c354', '_c355', '_c356', '_c357', '_c358', '_c359', '_c360', '_c361', '_c362', '_c363', '_c364', '_c365', '_c366', '_c367', '_c368', '_c369', '_c370', '_c371', '_c372', '_c373', '_c374', '_c375', '_c376', '_c377', '_c378', '_c379', '_c380', '_c381', '_c382', '_c383', '_c384', '_c385', '_c386', '_c387', '_c388', '_c389', '_c390', '_c391', '_c392', '_c393', '_c394', '_c395', '_c396', '_c397', '_c398', '_c399', '_c400', '_c401', '_c402', '_c403', '_c404', '_c405', '_c406', '_c407', '_c408', '_c409', '_c410', '_c411', '_c412', '_c413', '_c414', '_c415', '_c416', '_c417', '_c418', '_c419', '_c420', '_c421', '_c422', '_c423', '_c424', '_c425', '_c426', '_c427', '_c428', '_c429', '_c430', '_c431', '_c432', '_c433', '_c434', '_c435', '_c436', '_c437', '_c438', '_c439', '_c440', '_c441', '_c442', '_c443', '_c444', '_c445', '_c446', '_c447', '_c448', '_c449', '_c450', '_c451', '_c452', '_c453', '_c454', '_c455', '_c456', '_c457', '_c458', '_c459', '_c460', '_c461', '_c462', '_c463', '_c464', '_c465', '_c466', '_c467', '_c468', '_c469', '_c470', '_c471', '_c472', '_c473', '_c474', '_c475', '_c476', '_c477', '_c478', '_c479', '_c480', '_c481', '_c482', '_c483', '_c484', '_c485', '_c486', '_c487', '_c488', '_c489', '_c490', '_c491', '_c492', '_c493', '_c494', '_c495', '_c496', '_c497', '_c498', '_c499', '_c500', '_c501', '_c502', '_c503', '_c504', '_c505', '_c506', '_c507', '_c508', '_c509', '_c510', '_c511', '_c512', '_c513', '_c514', '_c515', '_c516', '_c517', '_c518', '_c519', '_c520', '_c521', '_c522', '_c523', '_c524', '_c525', '_c526', '_c527', '_c528', '_c529', '_c530', '_c531', '_c532', '_c533', '_c534', '_c535', '_c536', '_c537', '_c538', '_c539', '_c540', '_c541', '_c542', '_c543', '_c544', '_c545', '_c546', '_c547', '_c548', '_c549', '_c550', '_c551', '_c552', '_c553', '_c554', '_c555', '_c556', '_c557', '_c558', '_c559', '_c560', '_c561', '_c562', '_c563', '_c564', '_c565', '_c566', '_c567', '_c568', '_c569', '_c570', '_c571', '_c572', '_c573', '_c574', '_c575', '_c576', '_c577', '_c578', '_c579', '_c580', '_c581', '_c582', '_c583', '_c584', '_c585', '_c586', '_c587', '_c588', '_c589', '_c590', '_c591', '_c592', '_c593', '_c594', '_c595', '_c596', '_c597', '_c598', '_c599', '_c600', '_c601', '_c602', '_c603', '_c604', '_c605', '_c606', '_c607', '_c608', '_c609', '_c610', '_c611', '_c612', '_c613', '_c614', '_c615', '_c616', '_c617', '_c618', '_c619', '_c620', '_c621', '_c622', '_c623', '_c624', '_c625', '_c626', '_c627', '_c628', '_c629', '_c630', '_c631', '_c632', '_c633', '_c634', '_c635', '_c636', '_c637', '_c638', '_c639', '_c640', '_c641', '_c642', '_c643', '_c644', '_c645', '_c646', '_c647', '_c648', '_c649', '_c650', '_c651', '_c652', '_c653', '_c654', '_c655', '_c656', '_c657', '_c658', '_c659', '_c660', '_c661', '_c662', '_c663', '_c664', '_c665', '_c666', '_c667', '_c668', '_c669', '_c670', '_c671', '_c672', '_c673', '_c674', '_c675', '_c676', '_c677', '_c678', '_c679', '_c680', '_c681', '_c682', '_c683', '_c684', '_c685', '_c686', '_c687', '_c688', '_c689', '_c690', '_c691', '_c692', '_c693', '_c694', '_c695', '_c696', '_c697', '_c698', '_c699', '_c700', '_c701', '_c702', '_c703', '_c704', '_c705', '_c706', '_c707', '_c708', '_c709', '_c710', '_c711', '_c712', '_c713', '_c714', '_c715', '_c716', '_c717', '_c718', '_c719', '_c720', '_c721', '_c722', '_c723', '_c724', '_c725', '_c726', '_c727', '_c728', '_c729', '_c730', '_c731', '_c732', '_c733', '_c734', '_c735', '_c736', '_c737', '_c738', '_c739', '_c740', '_c741', '_c742', '_c743', '_c744', '_c745', '_c746', '_c747', '_c748', '_c749', '_c750', '_c751', '_c752', '_c753', '_c754', '_c755', '_c756', '_c757', '_c758', '_c759', '_c760', '_c761', '_c762', '_c763', '_c764', '_c765', '_c766', '_c767', '_c768', '_c769', '_c770', '_c771', '_c772', '_c773', '_c774', '_c775', '_c776', '_c777', '_c778', '_c779', '_c780', '_c781', '_c782', '_c783', '_c784']\n"
          ],
          "name": "stdout"
        }
      ]
    },
    {
      "cell_type": "code",
      "metadata": {
        "colab": {
          "base_uri": "https://localhost:8080/"
        },
        "id": "wWUyNKRjKMjb",
        "outputId": "2c4282a9-a3a6-4f56-ca20-ca5a0af859fd"
      },
      "source": [
        "#Se crea un vector que contiene las cabeceras del dataframe, que tiene 785 columnas, y luego imprime el contenido del vector\n",
        "# str() convierte en cadena para que pueda ser concatenado con \"_c\", se observa que la primera posicion de la fila es _c1\n",
        "# lo anterior porque _c0 es realmente label.\n",
        "feature_culumns = [\"_c\" + str(i+1) for i in range(784)]\n",
        "print(feature_culumns)"
      ],
      "execution_count": null,
      "outputs": [
        {
          "output_type": "stream",
          "text": [
            "['_c1', '_c2', '_c3', '_c4', '_c5', '_c6', '_c7', '_c8', '_c9', '_c10', '_c11', '_c12', '_c13', '_c14', '_c15', '_c16', '_c17', '_c18', '_c19', '_c20', '_c21', '_c22', '_c23', '_c24', '_c25', '_c26', '_c27', '_c28', '_c29', '_c30', '_c31', '_c32', '_c33', '_c34', '_c35', '_c36', '_c37', '_c38', '_c39', '_c40', '_c41', '_c42', '_c43', '_c44', '_c45', '_c46', '_c47', '_c48', '_c49', '_c50', '_c51', '_c52', '_c53', '_c54', '_c55', '_c56', '_c57', '_c58', '_c59', '_c60', '_c61', '_c62', '_c63', '_c64', '_c65', '_c66', '_c67', '_c68', '_c69', '_c70', '_c71', '_c72', '_c73', '_c74', '_c75', '_c76', '_c77', '_c78', '_c79', '_c80', '_c81', '_c82', '_c83', '_c84', '_c85', '_c86', '_c87', '_c88', '_c89', '_c90', '_c91', '_c92', '_c93', '_c94', '_c95', '_c96', '_c97', '_c98', '_c99', '_c100', '_c101', '_c102', '_c103', '_c104', '_c105', '_c106', '_c107', '_c108', '_c109', '_c110', '_c111', '_c112', '_c113', '_c114', '_c115', '_c116', '_c117', '_c118', '_c119', '_c120', '_c121', '_c122', '_c123', '_c124', '_c125', '_c126', '_c127', '_c128', '_c129', '_c130', '_c131', '_c132', '_c133', '_c134', '_c135', '_c136', '_c137', '_c138', '_c139', '_c140', '_c141', '_c142', '_c143', '_c144', '_c145', '_c146', '_c147', '_c148', '_c149', '_c150', '_c151', '_c152', '_c153', '_c154', '_c155', '_c156', '_c157', '_c158', '_c159', '_c160', '_c161', '_c162', '_c163', '_c164', '_c165', '_c166', '_c167', '_c168', '_c169', '_c170', '_c171', '_c172', '_c173', '_c174', '_c175', '_c176', '_c177', '_c178', '_c179', '_c180', '_c181', '_c182', '_c183', '_c184', '_c185', '_c186', '_c187', '_c188', '_c189', '_c190', '_c191', '_c192', '_c193', '_c194', '_c195', '_c196', '_c197', '_c198', '_c199', '_c200', '_c201', '_c202', '_c203', '_c204', '_c205', '_c206', '_c207', '_c208', '_c209', '_c210', '_c211', '_c212', '_c213', '_c214', '_c215', '_c216', '_c217', '_c218', '_c219', '_c220', '_c221', '_c222', '_c223', '_c224', '_c225', '_c226', '_c227', '_c228', '_c229', '_c230', '_c231', '_c232', '_c233', '_c234', '_c235', '_c236', '_c237', '_c238', '_c239', '_c240', '_c241', '_c242', '_c243', '_c244', '_c245', '_c246', '_c247', '_c248', '_c249', '_c250', '_c251', '_c252', '_c253', '_c254', '_c255', '_c256', '_c257', '_c258', '_c259', '_c260', '_c261', '_c262', '_c263', '_c264', '_c265', '_c266', '_c267', '_c268', '_c269', '_c270', '_c271', '_c272', '_c273', '_c274', '_c275', '_c276', '_c277', '_c278', '_c279', '_c280', '_c281', '_c282', '_c283', '_c284', '_c285', '_c286', '_c287', '_c288', '_c289', '_c290', '_c291', '_c292', '_c293', '_c294', '_c295', '_c296', '_c297', '_c298', '_c299', '_c300', '_c301', '_c302', '_c303', '_c304', '_c305', '_c306', '_c307', '_c308', '_c309', '_c310', '_c311', '_c312', '_c313', '_c314', '_c315', '_c316', '_c317', '_c318', '_c319', '_c320', '_c321', '_c322', '_c323', '_c324', '_c325', '_c326', '_c327', '_c328', '_c329', '_c330', '_c331', '_c332', '_c333', '_c334', '_c335', '_c336', '_c337', '_c338', '_c339', '_c340', '_c341', '_c342', '_c343', '_c344', '_c345', '_c346', '_c347', '_c348', '_c349', '_c350', '_c351', '_c352', '_c353', '_c354', '_c355', '_c356', '_c357', '_c358', '_c359', '_c360', '_c361', '_c362', '_c363', '_c364', '_c365', '_c366', '_c367', '_c368', '_c369', '_c370', '_c371', '_c372', '_c373', '_c374', '_c375', '_c376', '_c377', '_c378', '_c379', '_c380', '_c381', '_c382', '_c383', '_c384', '_c385', '_c386', '_c387', '_c388', '_c389', '_c390', '_c391', '_c392', '_c393', '_c394', '_c395', '_c396', '_c397', '_c398', '_c399', '_c400', '_c401', '_c402', '_c403', '_c404', '_c405', '_c406', '_c407', '_c408', '_c409', '_c410', '_c411', '_c412', '_c413', '_c414', '_c415', '_c416', '_c417', '_c418', '_c419', '_c420', '_c421', '_c422', '_c423', '_c424', '_c425', '_c426', '_c427', '_c428', '_c429', '_c430', '_c431', '_c432', '_c433', '_c434', '_c435', '_c436', '_c437', '_c438', '_c439', '_c440', '_c441', '_c442', '_c443', '_c444', '_c445', '_c446', '_c447', '_c448', '_c449', '_c450', '_c451', '_c452', '_c453', '_c454', '_c455', '_c456', '_c457', '_c458', '_c459', '_c460', '_c461', '_c462', '_c463', '_c464', '_c465', '_c466', '_c467', '_c468', '_c469', '_c470', '_c471', '_c472', '_c473', '_c474', '_c475', '_c476', '_c477', '_c478', '_c479', '_c480', '_c481', '_c482', '_c483', '_c484', '_c485', '_c486', '_c487', '_c488', '_c489', '_c490', '_c491', '_c492', '_c493', '_c494', '_c495', '_c496', '_c497', '_c498', '_c499', '_c500', '_c501', '_c502', '_c503', '_c504', '_c505', '_c506', '_c507', '_c508', '_c509', '_c510', '_c511', '_c512', '_c513', '_c514', '_c515', '_c516', '_c517', '_c518', '_c519', '_c520', '_c521', '_c522', '_c523', '_c524', '_c525', '_c526', '_c527', '_c528', '_c529', '_c530', '_c531', '_c532', '_c533', '_c534', '_c535', '_c536', '_c537', '_c538', '_c539', '_c540', '_c541', '_c542', '_c543', '_c544', '_c545', '_c546', '_c547', '_c548', '_c549', '_c550', '_c551', '_c552', '_c553', '_c554', '_c555', '_c556', '_c557', '_c558', '_c559', '_c560', '_c561', '_c562', '_c563', '_c564', '_c565', '_c566', '_c567', '_c568', '_c569', '_c570', '_c571', '_c572', '_c573', '_c574', '_c575', '_c576', '_c577', '_c578', '_c579', '_c580', '_c581', '_c582', '_c583', '_c584', '_c585', '_c586', '_c587', '_c588', '_c589', '_c590', '_c591', '_c592', '_c593', '_c594', '_c595', '_c596', '_c597', '_c598', '_c599', '_c600', '_c601', '_c602', '_c603', '_c604', '_c605', '_c606', '_c607', '_c608', '_c609', '_c610', '_c611', '_c612', '_c613', '_c614', '_c615', '_c616', '_c617', '_c618', '_c619', '_c620', '_c621', '_c622', '_c623', '_c624', '_c625', '_c626', '_c627', '_c628', '_c629', '_c630', '_c631', '_c632', '_c633', '_c634', '_c635', '_c636', '_c637', '_c638', '_c639', '_c640', '_c641', '_c642', '_c643', '_c644', '_c645', '_c646', '_c647', '_c648', '_c649', '_c650', '_c651', '_c652', '_c653', '_c654', '_c655', '_c656', '_c657', '_c658', '_c659', '_c660', '_c661', '_c662', '_c663', '_c664', '_c665', '_c666', '_c667', '_c668', '_c669', '_c670', '_c671', '_c672', '_c673', '_c674', '_c675', '_c676', '_c677', '_c678', '_c679', '_c680', '_c681', '_c682', '_c683', '_c684', '_c685', '_c686', '_c687', '_c688', '_c689', '_c690', '_c691', '_c692', '_c693', '_c694', '_c695', '_c696', '_c697', '_c698', '_c699', '_c700', '_c701', '_c702', '_c703', '_c704', '_c705', '_c706', '_c707', '_c708', '_c709', '_c710', '_c711', '_c712', '_c713', '_c714', '_c715', '_c716', '_c717', '_c718', '_c719', '_c720', '_c721', '_c722', '_c723', '_c724', '_c725', '_c726', '_c727', '_c728', '_c729', '_c730', '_c731', '_c732', '_c733', '_c734', '_c735', '_c736', '_c737', '_c738', '_c739', '_c740', '_c741', '_c742', '_c743', '_c744', '_c745', '_c746', '_c747', '_c748', '_c749', '_c750', '_c751', '_c752', '_c753', '_c754', '_c755', '_c756', '_c757', '_c758', '_c759', '_c760', '_c761', '_c762', '_c763', '_c764', '_c765', '_c766', '_c767', '_c768', '_c769', '_c770', '_c771', '_c772', '_c773', '_c774', '_c775', '_c776', '_c777', '_c778', '_c779', '_c780', '_c781', '_c782', '_c783', '_c784']\n"
          ],
          "name": "stdout"
        }
      ]
    },
    {
      "cell_type": "code",
      "metadata": {
        "id": "ZaBHUjSDk2RO"
      },
      "source": [
        "#Importamos la libreria ensamblador de vector para asignarle la cabecera al dataframe y la columna label\n",
        "from pyspark.ml.feature import VectorAssembler"
      ],
      "execution_count": null,
      "outputs": []
    },
    {
      "cell_type": "code",
      "metadata": {
        "colab": {
          "base_uri": "https://localhost:8080/"
        },
        "id": "ImQgkQL9k5Jx",
        "outputId": "0e994386-fb5b-4f80-aa4b-720201625b6e"
      },
      "source": [
        "#La regresión logística es un método popular para predecir una respuesta categórica a partir de un conjunto de caracteristicas \n",
        "#\n",
        "#realizamos una transformacion del dataframe con 745 columnas a solo 2 columnas\n",
        "# crea un nuevo vector llamado vectorizer y le asigna 784 columnas desde las _c1 hasta la _c784 y le asigna la etiqueta features\n",
        "#la funcion VectorAssembler recibe \n",
        "vectorizer = VectorAssembler(inputCols=feature_culumns, outputCol=\"features\")\n",
        "\n",
        "training = (vectorizer\n",
        "            .transform(df_training)\n",
        "            .select(\"_c0\", \"features\")\n",
        "            .toDF(\"label\", \"features\")\n",
        "            .cache())\n",
        "training.show()"
      ],
      "execution_count": null,
      "outputs": [
        {
          "output_type": "stream",
          "text": [
            "+-----+--------------------+\n",
            "|label|            features|\n",
            "+-----+--------------------+\n",
            "|    5|(784,[152,153,154...|\n",
            "|    0|(784,[127,128,129...|\n",
            "|    4|(784,[160,161,162...|\n",
            "|    1|(784,[158,159,160...|\n",
            "|    9|(784,[208,209,210...|\n",
            "|    2|(784,[155,156,157...|\n",
            "|    1|(784,[124,125,126...|\n",
            "|    3|(784,[151,152,153...|\n",
            "|    1|(784,[152,153,154...|\n",
            "|    4|(784,[134,135,161...|\n",
            "|    3|(784,[123,124,125...|\n",
            "|    5|(784,[216,217,218...|\n",
            "|    3|(784,[143,144,145...|\n",
            "|    6|(784,[72,73,74,99...|\n",
            "|    1|(784,[151,152,153...|\n",
            "|    7|(784,[211,212,213...|\n",
            "|    2|(784,[151,152,153...|\n",
            "|    8|(784,[159,160,161...|\n",
            "|    6|(784,[100,101,102...|\n",
            "|    9|(784,[209,210,211...|\n",
            "+-----+--------------------+\n",
            "only showing top 20 rows\n",
            "\n"
          ],
          "name": "stdout"
        }
      ]
    },
    {
      "cell_type": "code",
      "metadata": {
        "colab": {
          "base_uri": "https://localhost:8080/"
        },
        "id": "9uiLNBO2dea3",
        "outputId": "eb31360e-62a3-48be-e175-a8aef91568ed"
      },
      "source": [
        "#training es un dataframe\n",
        "type(training)"
      ],
      "execution_count": null,
      "outputs": [
        {
          "output_type": "execute_result",
          "data": {
            "text/plain": [
              "pyspark.sql.dataframe.DataFrame"
            ]
          },
          "metadata": {
            "tags": []
          },
          "execution_count": 16
        }
      ]
    },
    {
      "cell_type": "markdown",
      "metadata": {
        "id": "t-HQBZm5u1m1"
      },
      "source": [
        "### 5.3. Graficas\n",
        "A continuacion se realizara una grafica de la primera linea del dataframe para comprender como se forma la imagen a partir del vector.\n",
        "\n",
        "para realizar la grafica es sumamente importante comprender el concepto de array de pyhton, especificamente los array de tipo numpy.\n",
        "\n",
        "<img src= \"https://aprendeconalf.es/docencia/python/manual/img/arrays.png\">"
      ]
    },
    {
      "cell_type": "code",
      "metadata": {
        "colab": {
          "base_uri": "https://localhost:8080/"
        },
        "id": "ZcKE8MsHlD66",
        "outputId": "5ff28218-f5ad-47f0-d37c-5c1ccafd94d7"
      },
      "source": [
        "#creamos un objeto de python tipo numpy array para poder graficar el primer registro del dataframe\n",
        "# tome del dataframe training el primero de la columna features y conviertalo a un array de python\n",
        "a = training.first().features.toArray()\n",
        "type(a)\n",
        "\n",
        "#en esta ocacion solo tenemos un vector de una dimension se observan solo 2 corchetes al inicio y al final \n",
        "print(a)"
      ],
      "execution_count": null,
      "outputs": [
        {
          "output_type": "stream",
          "text": [
            "[  0.   0.   0.   0.   0.   0.   0.   0.   0.   0.   0.   0.   0.   0.\n",
            "   0.   0.   0.   0.   0.   0.   0.   0.   0.   0.   0.   0.   0.   0.\n",
            "   0.   0.   0.   0.   0.   0.   0.   0.   0.   0.   0.   0.   0.   0.\n",
            "   0.   0.   0.   0.   0.   0.   0.   0.   0.   0.   0.   0.   0.   0.\n",
            "   0.   0.   0.   0.   0.   0.   0.   0.   0.   0.   0.   0.   0.   0.\n",
            "   0.   0.   0.   0.   0.   0.   0.   0.   0.   0.   0.   0.   0.   0.\n",
            "   0.   0.   0.   0.   0.   0.   0.   0.   0.   0.   0.   0.   0.   0.\n",
            "   0.   0.   0.   0.   0.   0.   0.   0.   0.   0.   0.   0.   0.   0.\n",
            "   0.   0.   0.   0.   0.   0.   0.   0.   0.   0.   0.   0.   0.   0.\n",
            "   0.   0.   0.   0.   0.   0.   0.   0.   0.   0.   0.   0.   0.   0.\n",
            "   0.   0.   0.   0.   0.   0.   0.   0.   0.   0.   0.   0.   3.  18.\n",
            "  18.  18. 126. 136. 175.  26. 166. 255. 247. 127.   0.   0.   0.   0.\n",
            "   0.   0.   0.   0.   0.   0.   0.   0.  30.  36.  94. 154. 170. 253.\n",
            " 253. 253. 253. 253. 225. 172. 253. 242. 195.  64.   0.   0.   0.   0.\n",
            "   0.   0.   0.   0.   0.   0.   0.  49. 238. 253. 253. 253. 253. 253.\n",
            " 253. 253. 253. 251.  93.  82.  82.  56.  39.   0.   0.   0.   0.   0.\n",
            "   0.   0.   0.   0.   0.   0.   0.  18. 219. 253. 253. 253. 253. 253.\n",
            " 198. 182. 247. 241.   0.   0.   0.   0.   0.   0.   0.   0.   0.   0.\n",
            "   0.   0.   0.   0.   0.   0.   0.   0.  80. 156. 107. 253. 253. 205.\n",
            "  11.   0.  43. 154.   0.   0.   0.   0.   0.   0.   0.   0.   0.   0.\n",
            "   0.   0.   0.   0.   0.   0.   0.   0.   0.  14.   1. 154. 253.  90.\n",
            "   0.   0.   0.   0.   0.   0.   0.   0.   0.   0.   0.   0.   0.   0.\n",
            "   0.   0.   0.   0.   0.   0.   0.   0.   0.   0.   0. 139. 253. 190.\n",
            "   2.   0.   0.   0.   0.   0.   0.   0.   0.   0.   0.   0.   0.   0.\n",
            "   0.   0.   0.   0.   0.   0.   0.   0.   0.   0.   0.  11. 190. 253.\n",
            "  70.   0.   0.   0.   0.   0.   0.   0.   0.   0.   0.   0.   0.   0.\n",
            "   0.   0.   0.   0.   0.   0.   0.   0.   0.   0.   0.   0.  35. 241.\n",
            " 225. 160. 108.   1.   0.   0.   0.   0.   0.   0.   0.   0.   0.   0.\n",
            "   0.   0.   0.   0.   0.   0.   0.   0.   0.   0.   0.   0.   0.  81.\n",
            " 240. 253. 253. 119.  25.   0.   0.   0.   0.   0.   0.   0.   0.   0.\n",
            "   0.   0.   0.   0.   0.   0.   0.   0.   0.   0.   0.   0.   0.   0.\n",
            "  45. 186. 253. 253. 150.  27.   0.   0.   0.   0.   0.   0.   0.   0.\n",
            "   0.   0.   0.   0.   0.   0.   0.   0.   0.   0.   0.   0.   0.   0.\n",
            "   0.  16.  93. 252. 253. 187.   0.   0.   0.   0.   0.   0.   0.   0.\n",
            "   0.   0.   0.   0.   0.   0.   0.   0.   0.   0.   0.   0.   0.   0.\n",
            "   0.   0.   0. 249. 253. 249.  64.   0.   0.   0.   0.   0.   0.   0.\n",
            "   0.   0.   0.   0.   0.   0.   0.   0.   0.   0.   0.   0.   0.   0.\n",
            "  46. 130. 183. 253. 253. 207.   2.   0.   0.   0.   0.   0.   0.   0.\n",
            "   0.   0.   0.   0.   0.   0.   0.   0.   0.   0.   0.   0.  39. 148.\n",
            " 229. 253. 253. 253. 250. 182.   0.   0.   0.   0.   0.   0.   0.   0.\n",
            "   0.   0.   0.   0.   0.   0.   0.   0.   0.   0.  24. 114. 221. 253.\n",
            " 253. 253. 253. 201.  78.   0.   0.   0.   0.   0.   0.   0.   0.   0.\n",
            "   0.   0.   0.   0.   0.   0.   0.   0.  23.  66. 213. 253. 253. 253.\n",
            " 253. 198.  81.   2.   0.   0.   0.   0.   0.   0.   0.   0.   0.   0.\n",
            "   0.   0.   0.   0.   0.   0.  18. 171. 219. 253. 253. 253. 253. 195.\n",
            "  80.   9.   0.   0.   0.   0.   0.   0.   0.   0.   0.   0.   0.   0.\n",
            "   0.   0.   0.   0.  55. 172. 226. 253. 253. 253. 253. 244. 133.  11.\n",
            "   0.   0.   0.   0.   0.   0.   0.   0.   0.   0.   0.   0.   0.   0.\n",
            "   0.   0.   0.   0. 136. 253. 253. 253. 212. 135. 132.  16.   0.   0.\n",
            "   0.   0.   0.   0.   0.   0.   0.   0.   0.   0.   0.   0.   0.   0.\n",
            "   0.   0.   0.   0.   0.   0.   0.   0.   0.   0.   0.   0.   0.   0.\n",
            "   0.   0.   0.   0.   0.   0.   0.   0.   0.   0.   0.   0.   0.   0.\n",
            "   0.   0.   0.   0.   0.   0.   0.   0.   0.   0.   0.   0.   0.   0.\n",
            "   0.   0.   0.   0.   0.   0.   0.   0.   0.   0.   0.   0.   0.   0.\n",
            "   0.   0.   0.   0.   0.   0.   0.   0.   0.   0.   0.   0.   0.   0.\n",
            "   0.   0.   0.   0.   0.   0.   0.   0.   0.   0.   0.   0.   0.   0.]\n"
          ],
          "name": "stdout"
        }
      ]
    },
    {
      "cell_type": "code",
      "metadata": {
        "colab": {
          "base_uri": "https://localhost:8080/"
        },
        "id": "nCUKa2CoyaY9",
        "outputId": "d6e95106-7c5f-4b0a-fec0-b423daed4ff2"
      },
      "source": [
        "#utilizandon la funcion reshape podemos crear con ese mismo vector la nueva dimension que querramos\n",
        "#en este caso queremos recostruir la imagen cada vector tendra 28 posiciones x 28 vectores\n",
        "print(a.reshape(28, 28))"
      ],
      "execution_count": null,
      "outputs": [
        {
          "output_type": "stream",
          "text": [
            "[[  0.   0.   0.   0.   0.   0.   0.   0.   0.   0.   0.   0.   0.   0.\n",
            "    0.   0.   0.   0.   0.   0.   0.   0.   0.   0.   0.   0.   0.   0.]\n",
            " [  0.   0.   0.   0.   0.   0.   0.   0.   0.   0.   0.   0.   0.   0.\n",
            "    0.   0.   0.   0.   0.   0.   0.   0.   0.   0.   0.   0.   0.   0.]\n",
            " [  0.   0.   0.   0.   0.   0.   0.   0.   0.   0.   0.   0.   0.   0.\n",
            "    0.   0.   0.   0.   0.   0.   0.   0.   0.   0.   0.   0.   0.   0.]\n",
            " [  0.   0.   0.   0.   0.   0.   0.   0.   0.   0.   0.   0.   0.   0.\n",
            "    0.   0.   0.   0.   0.   0.   0.   0.   0.   0.   0.   0.   0.   0.]\n",
            " [  0.   0.   0.   0.   0.   0.   0.   0.   0.   0.   0.   0.   0.   0.\n",
            "    0.   0.   0.   0.   0.   0.   0.   0.   0.   0.   0.   0.   0.   0.]\n",
            " [  0.   0.   0.   0.   0.   0.   0.   0.   0.   0.   0.   0.   3.  18.\n",
            "   18.  18. 126. 136. 175.  26. 166. 255. 247. 127.   0.   0.   0.   0.]\n",
            " [  0.   0.   0.   0.   0.   0.   0.   0.  30.  36.  94. 154. 170. 253.\n",
            "  253. 253. 253. 253. 225. 172. 253. 242. 195.  64.   0.   0.   0.   0.]\n",
            " [  0.   0.   0.   0.   0.   0.   0.  49. 238. 253. 253. 253. 253. 253.\n",
            "  253. 253. 253. 251.  93.  82.  82.  56.  39.   0.   0.   0.   0.   0.]\n",
            " [  0.   0.   0.   0.   0.   0.   0.  18. 219. 253. 253. 253. 253. 253.\n",
            "  198. 182. 247. 241.   0.   0.   0.   0.   0.   0.   0.   0.   0.   0.]\n",
            " [  0.   0.   0.   0.   0.   0.   0.   0.  80. 156. 107. 253. 253. 205.\n",
            "   11.   0.  43. 154.   0.   0.   0.   0.   0.   0.   0.   0.   0.   0.]\n",
            " [  0.   0.   0.   0.   0.   0.   0.   0.   0.  14.   1. 154. 253.  90.\n",
            "    0.   0.   0.   0.   0.   0.   0.   0.   0.   0.   0.   0.   0.   0.]\n",
            " [  0.   0.   0.   0.   0.   0.   0.   0.   0.   0.   0. 139. 253. 190.\n",
            "    2.   0.   0.   0.   0.   0.   0.   0.   0.   0.   0.   0.   0.   0.]\n",
            " [  0.   0.   0.   0.   0.   0.   0.   0.   0.   0.   0.  11. 190. 253.\n",
            "   70.   0.   0.   0.   0.   0.   0.   0.   0.   0.   0.   0.   0.   0.]\n",
            " [  0.   0.   0.   0.   0.   0.   0.   0.   0.   0.   0.   0.  35. 241.\n",
            "  225. 160. 108.   1.   0.   0.   0.   0.   0.   0.   0.   0.   0.   0.]\n",
            " [  0.   0.   0.   0.   0.   0.   0.   0.   0.   0.   0.   0.   0.  81.\n",
            "  240. 253. 253. 119.  25.   0.   0.   0.   0.   0.   0.   0.   0.   0.]\n",
            " [  0.   0.   0.   0.   0.   0.   0.   0.   0.   0.   0.   0.   0.   0.\n",
            "   45. 186. 253. 253. 150.  27.   0.   0.   0.   0.   0.   0.   0.   0.]\n",
            " [  0.   0.   0.   0.   0.   0.   0.   0.   0.   0.   0.   0.   0.   0.\n",
            "    0.  16.  93. 252. 253. 187.   0.   0.   0.   0.   0.   0.   0.   0.]\n",
            " [  0.   0.   0.   0.   0.   0.   0.   0.   0.   0.   0.   0.   0.   0.\n",
            "    0.   0.   0. 249. 253. 249.  64.   0.   0.   0.   0.   0.   0.   0.]\n",
            " [  0.   0.   0.   0.   0.   0.   0.   0.   0.   0.   0.   0.   0.   0.\n",
            "   46. 130. 183. 253. 253. 207.   2.   0.   0.   0.   0.   0.   0.   0.]\n",
            " [  0.   0.   0.   0.   0.   0.   0.   0.   0.   0.   0.   0.  39. 148.\n",
            "  229. 253. 253. 253. 250. 182.   0.   0.   0.   0.   0.   0.   0.   0.]\n",
            " [  0.   0.   0.   0.   0.   0.   0.   0.   0.   0.  24. 114. 221. 253.\n",
            "  253. 253. 253. 201.  78.   0.   0.   0.   0.   0.   0.   0.   0.   0.]\n",
            " [  0.   0.   0.   0.   0.   0.   0.   0.  23.  66. 213. 253. 253. 253.\n",
            "  253. 198.  81.   2.   0.   0.   0.   0.   0.   0.   0.   0.   0.   0.]\n",
            " [  0.   0.   0.   0.   0.   0.  18. 171. 219. 253. 253. 253. 253. 195.\n",
            "   80.   9.   0.   0.   0.   0.   0.   0.   0.   0.   0.   0.   0.   0.]\n",
            " [  0.   0.   0.   0.  55. 172. 226. 253. 253. 253. 253. 244. 133.  11.\n",
            "    0.   0.   0.   0.   0.   0.   0.   0.   0.   0.   0.   0.   0.   0.]\n",
            " [  0.   0.   0.   0. 136. 253. 253. 253. 212. 135. 132.  16.   0.   0.\n",
            "    0.   0.   0.   0.   0.   0.   0.   0.   0.   0.   0.   0.   0.   0.]\n",
            " [  0.   0.   0.   0.   0.   0.   0.   0.   0.   0.   0.   0.   0.   0.\n",
            "    0.   0.   0.   0.   0.   0.   0.   0.   0.   0.   0.   0.   0.   0.]\n",
            " [  0.   0.   0.   0.   0.   0.   0.   0.   0.   0.   0.   0.   0.   0.\n",
            "    0.   0.   0.   0.   0.   0.   0.   0.   0.   0.   0.   0.   0.   0.]\n",
            " [  0.   0.   0.   0.   0.   0.   0.   0.   0.   0.   0.   0.   0.   0.\n",
            "    0.   0.   0.   0.   0.   0.   0.   0.   0.   0.   0.   0.   0.   0.]]\n"
          ],
          "name": "stdout"
        }
      ]
    },
    {
      "cell_type": "code",
      "metadata": {
        "colab": {
          "base_uri": "https://localhost:8080/"
        },
        "id": "DKNb6Z7nlHm3",
        "outputId": "e7e1a759-d190-4018-9a8c-0a51779541c0"
      },
      "source": [
        "#ahora con la funcion imshow de plot mostramos el vector de 2 dimensiones en escala de grises\n",
        "plt.imshow(a.reshape(28, 28), cmap=\"Greys\")"
      ],
      "execution_count": null,
      "outputs": [
        {
          "output_type": "execute_result",
          "data": {
            "text/plain": [
              "<matplotlib.image.AxesImage at 0x7fad732ac250>"
            ]
          },
          "metadata": {
            "tags": []
          },
          "execution_count": 19
        },
        {
          "output_type": "display_data",
          "data": {
            "image/png": "[encoded data removed]",
            "text/plain": [
              "<Figure size 432x288 with 1 Axes>"
            ]
          },
          "metadata": {
            "tags": [],
            "needs_background": "light"
          }
        }
      ]
    },
    {
      "cell_type": "code",
      "metadata": {
        "colab": {
          "base_uri": "https://localhost:8080/"
        },
        "id": "avcc_tUPSPL0",
        "outputId": "2698aa5c-532e-4613-a91d-929c24e39a99"
      },
      "source": [
        "df_training.show(1)"
      ],
      "execution_count": null,
      "outputs": [
        {
          "output_type": "stream",
          "text": [
            "+---+---+---+---+---+---+---+---+---+---+----+----+----+----+----+----+----+----+----+----+----+----+----+----+----+----+----+----+----+----+----+----+----+----+----+----+----+----+----+----+----+----+----+----+----+----+----+----+----+----+----+----+----+----+----+----+----+----+----+----+----+----+----+----+----+----+----+----+----+----+----+----+----+----+----+----+----+----+----+----+----+----+----+----+----+----+----+----+----+----+----+----+----+----+----+----+----+----+----+----+-----+-----+-----+-----+-----+-----+-----+-----+-----+-----+-----+-----+-----+-----+-----+-----+-----+-----+-----+-----+-----+-----+-----+-----+-----+-----+-----+-----+-----+-----+-----+-----+-----+-----+-----+-----+-----+-----+-----+-----+-----+-----+-----+-----+-----+-----+-----+-----+-----+-----+-----+-----+-----+-----+-----+-----+-----+-----+-----+-----+-----+-----+-----+-----+-----+-----+-----+-----+-----+-----+-----+-----+-----+-----+-----+-----+-----+-----+-----+-----+-----+-----+-----+-----+-----+-----+-----+-----+-----+-----+-----+-----+-----+-----+-----+-----+-----+-----+-----+-----+-----+-----+-----+-----+-----+-----+-----+-----+-----+-----+-----+-----+-----+-----+-----+-----+-----+-----+-----+-----+-----+-----+-----+-----+-----+-----+-----+-----+-----+-----+-----+-----+-----+-----+-----+-----+-----+-----+-----+-----+-----+-----+-----+-----+-----+-----+-----+-----+-----+-----+-----+-----+-----+-----+-----+-----+-----+-----+-----+-----+-----+-----+-----+-----+-----+-----+-----+-----+-----+-----+-----+-----+-----+-----+-----+-----+-----+-----+-----+-----+-----+-----+-----+-----+-----+-----+-----+-----+-----+-----+-----+-----+-----+-----+-----+-----+-----+-----+-----+-----+-----+-----+-----+-----+-----+-----+-----+-----+-----+-----+-----+-----+-----+-----+-----+-----+-----+-----+-----+-----+-----+-----+-----+-----+-----+-----+-----+-----+-----+-----+-----+-----+-----+-----+-----+-----+-----+-----+-----+-----+-----+-----+-----+-----+-----+-----+-----+-----+-----+-----+-----+-----+-----+-----+-----+-----+-----+-----+-----+-----+-----+-----+-----+-----+-----+-----+-----+-----+-----+-----+-----+-----+-----+-----+-----+-----+-----+-----+-----+-----+-----+-----+-----+-----+-----+-----+-----+-----+-----+-----+-----+-----+-----+-----+-----+-----+-----+-----+-----+-----+-----+-----+-----+-----+-----+-----+-----+-----+-----+-----+-----+-----+-----+-----+-----+-----+-----+-----+-----+-----+-----+-----+-----+-----+-----+-----+-----+-----+-----+-----+-----+-----+-----+-----+-----+-----+-----+-----+-----+-----+-----+-----+-----+-----+-----+-----+-----+-----+-----+-----+-----+-----+-----+-----+-----+-----+-----+-----+-----+-----+-----+-----+-----+-----+-----+-----+-----+-----+-----+-----+-----+-----+-----+-----+-----+-----+-----+-----+-----+-----+-----+-----+-----+-----+-----+-----+-----+-----+-----+-----+-----+-----+-----+-----+-----+-----+-----+-----+-----+-----+-----+-----+-----+-----+-----+-----+-----+-----+-----+-----+-----+-----+-----+-----+-----+-----+-----+-----+-----+-----+-----+-----+-----+-----+-----+-----+-----+-----+-----+-----+-----+-----+-----+-----+-----+-----+-----+-----+-----+-----+-----+-----+-----+-----+-----+-----+-----+-----+-----+-----+-----+-----+-----+-----+-----+-----+-----+-----+-----+-----+-----+-----+-----+-----+-----+-----+-----+-----+-----+-----+-----+-----+-----+-----+-----+-----+-----+-----+-----+-----+-----+-----+-----+-----+-----+-----+-----+-----+-----+-----+-----+-----+-----+-----+-----+-----+-----+-----+-----+-----+-----+-----+-----+-----+-----+-----+-----+-----+-----+-----+-----+-----+-----+-----+-----+-----+-----+-----+-----+-----+-----+-----+-----+-----+-----+-----+-----+-----+-----+-----+-----+-----+-----+-----+-----+-----+-----+-----+-----+-----+-----+-----+-----+-----+-----+-----+-----+-----+-----+-----+-----+-----+-----+-----+-----+-----+-----+-----+-----+-----+-----+-----+-----+-----+-----+-----+-----+-----+-----+-----+-----+-----+-----+-----+-----+-----+-----+-----+-----+-----+-----+-----+-----+-----+-----+-----+-----+-----+-----+-----+-----+-----+-----+-----+-----+-----+-----+-----+-----+-----+-----+-----+-----+-----+-----+-----+-----+-----+-----+-----+-----+-----+-----+-----+-----+-----+-----+-----+-----+-----+-----+-----+-----+-----+-----+-----+-----+-----+-----+-----+-----+-----+-----+-----+-----+-----+-----+-----+-----+-----+-----+-----+-----+-----+-----+-----+-----+-----+-----+-----+-----+-----+-----+-----+-----+-----+-----+-----+-----+-----+-----+-----+-----+-----+-----+-----+-----+-----+-----+-----+-----+-----+-----+-----+-----+-----+-----+-----+-----+-----+-----+-----+-----+-----+-----+\n",
            "|_c0|_c1|_c2|_c3|_c4|_c5|_c6|_c7|_c8|_c9|_c10|_c11|_c12|_c13|_c14|_c15|_c16|_c17|_c18|_c19|_c20|_c21|_c22|_c23|_c24|_c25|_c26|_c27|_c28|_c29|_c30|_c31|_c32|_c33|_c34|_c35|_c36|_c37|_c38|_c39|_c40|_c41|_c42|_c43|_c44|_c45|_c46|_c47|_c48|_c49|_c50|_c51|_c52|_c53|_c54|_c55|_c56|_c57|_c58|_c59|_c60|_c61|_c62|_c63|_c64|_c65|_c66|_c67|_c68|_c69|_c70|_c71|_c72|_c73|_c74|_c75|_c76|_c77|_c78|_c79|_c80|_c81|_c82|_c83|_c84|_c85|_c86|_c87|_c88|_c89|_c90|_c91|_c92|_c93|_c94|_c95|_c96|_c97|_c98|_c99|_c100|_c101|_c102|_c103|_c104|_c105|_c106|_c107|_c108|_c109|_c110|_c111|_c112|_c113|_c114|_c115|_c116|_c117|_c118|_c119|_c120|_c121|_c122|_c123|_c124|_c125|_c126|_c127|_c128|_c129|_c130|_c131|_c132|_c133|_c134|_c135|_c136|_c137|_c138|_c139|_c140|_c141|_c142|_c143|_c144|_c145|_c146|_c147|_c148|_c149|_c150|_c151|_c152|_c153|_c154|_c155|_c156|_c157|_c158|_c159|_c160|_c161|_c162|_c163|_c164|_c165|_c166|_c167|_c168|_c169|_c170|_c171|_c172|_c173|_c174|_c175|_c176|_c177|_c178|_c179|_c180|_c181|_c182|_c183|_c184|_c185|_c186|_c187|_c188|_c189|_c190|_c191|_c192|_c193|_c194|_c195|_c196|_c197|_c198|_c199|_c200|_c201|_c202|_c203|_c204|_c205|_c206|_c207|_c208|_c209|_c210|_c211|_c212|_c213|_c214|_c215|_c216|_c217|_c218|_c219|_c220|_c221|_c222|_c223|_c224|_c225|_c226|_c227|_c228|_c229|_c230|_c231|_c232|_c233|_c234|_c235|_c236|_c237|_c238|_c239|_c240|_c241|_c242|_c243|_c244|_c245|_c246|_c247|_c248|_c249|_c250|_c251|_c252|_c253|_c254|_c255|_c256|_c257|_c258|_c259|_c260|_c261|_c262|_c263|_c264|_c265|_c266|_c267|_c268|_c269|_c270|_c271|_c272|_c273|_c274|_c275|_c276|_c277|_c278|_c279|_c280|_c281|_c282|_c283|_c284|_c285|_c286|_c287|_c288|_c289|_c290|_c291|_c292|_c293|_c294|_c295|_c296|_c297|_c298|_c299|_c300|_c301|_c302|_c303|_c304|_c305|_c306|_c307|_c308|_c309|_c310|_c311|_c312|_c313|_c314|_c315|_c316|_c317|_c318|_c319|_c320|_c321|_c322|_c323|_c324|_c325|_c326|_c327|_c328|_c329|_c330|_c331|_c332|_c333|_c334|_c335|_c336|_c337|_c338|_c339|_c340|_c341|_c342|_c343|_c344|_c345|_c346|_c347|_c348|_c349|_c350|_c351|_c352|_c353|_c354|_c355|_c356|_c357|_c358|_c359|_c360|_c361|_c362|_c363|_c364|_c365|_c366|_c367|_c368|_c369|_c370|_c371|_c372|_c373|_c374|_c375|_c376|_c377|_c378|_c379|_c380|_c381|_c382|_c383|_c384|_c385|_c386|_c387|_c388|_c389|_c390|_c391|_c392|_c393|_c394|_c395|_c396|_c397|_c398|_c399|_c400|_c401|_c402|_c403|_c404|_c405|_c406|_c407|_c408|_c409|_c410|_c411|_c412|_c413|_c414|_c415|_c416|_c417|_c418|_c419|_c420|_c421|_c422|_c423|_c424|_c425|_c426|_c427|_c428|_c429|_c430|_c431|_c432|_c433|_c434|_c435|_c436|_c437|_c438|_c439|_c440|_c441|_c442|_c443|_c444|_c445|_c446|_c447|_c448|_c449|_c450|_c451|_c452|_c453|_c454|_c455|_c456|_c457|_c458|_c459|_c460|_c461|_c462|_c463|_c464|_c465|_c466|_c467|_c468|_c469|_c470|_c471|_c472|_c473|_c474|_c475|_c476|_c477|_c478|_c479|_c480|_c481|_c482|_c483|_c484|_c485|_c486|_c487|_c488|_c489|_c490|_c491|_c492|_c493|_c494|_c495|_c496|_c497|_c498|_c499|_c500|_c501|_c502|_c503|_c504|_c505|_c506|_c507|_c508|_c509|_c510|_c511|_c512|_c513|_c514|_c515|_c516|_c517|_c518|_c519|_c520|_c521|_c522|_c523|_c524|_c525|_c526|_c527|_c528|_c529|_c530|_c531|_c532|_c533|_c534|_c535|_c536|_c537|_c538|_c539|_c540|_c541|_c542|_c543|_c544|_c545|_c546|_c547|_c548|_c549|_c550|_c551|_c552|_c553|_c554|_c555|_c556|_c557|_c558|_c559|_c560|_c561|_c562|_c563|_c564|_c565|_c566|_c567|_c568|_c569|_c570|_c571|_c572|_c573|_c574|_c575|_c576|_c577|_c578|_c579|_c580|_c581|_c582|_c583|_c584|_c585|_c586|_c587|_c588|_c589|_c590|_c591|_c592|_c593|_c594|_c595|_c596|_c597|_c598|_c599|_c600|_c601|_c602|_c603|_c604|_c605|_c606|_c607|_c608|_c609|_c610|_c611|_c612|_c613|_c614|_c615|_c616|_c617|_c618|_c619|_c620|_c621|_c622|_c623|_c624|_c625|_c626|_c627|_c628|_c629|_c630|_c631|_c632|_c633|_c634|_c635|_c636|_c637|_c638|_c639|_c640|_c641|_c642|_c643|_c644|_c645|_c646|_c647|_c648|_c649|_c650|_c651|_c652|_c653|_c654|_c655|_c656|_c657|_c658|_c659|_c660|_c661|_c662|_c663|_c664|_c665|_c666|_c667|_c668|_c669|_c670|_c671|_c672|_c673|_c674|_c675|_c676|_c677|_c678|_c679|_c680|_c681|_c682|_c683|_c684|_c685|_c686|_c687|_c688|_c689|_c690|_c691|_c692|_c693|_c694|_c695|_c696|_c697|_c698|_c699|_c700|_c701|_c702|_c703|_c704|_c705|_c706|_c707|_c708|_c709|_c710|_c711|_c712|_c713|_c714|_c715|_c716|_c717|_c718|_c719|_c720|_c721|_c722|_c723|_c724|_c725|_c726|_c727|_c728|_c729|_c730|_c731|_c732|_c733|_c734|_c735|_c736|_c737|_c738|_c739|_c740|_c741|_c742|_c743|_c744|_c745|_c746|_c747|_c748|_c749|_c750|_c751|_c752|_c753|_c754|_c755|_c756|_c757|_c758|_c759|_c760|_c761|_c762|_c763|_c764|_c765|_c766|_c767|_c768|_c769|_c770|_c771|_c772|_c773|_c774|_c775|_c776|_c777|_c778|_c779|_c780|_c781|_c782|_c783|_c784|\n",
            "+---+---+---+---+---+---+---+---+---+---+----+----+----+----+----+----+----+----+----+----+----+----+----+----+----+----+----+----+----+----+----+----+----+----+----+----+----+----+----+----+----+----+----+----+----+----+----+----+----+----+----+----+----+----+----+----+----+----+----+----+----+----+----+----+----+----+----+----+----+----+----+----+----+----+----+----+----+----+----+----+----+----+----+----+----+----+----+----+----+----+----+----+----+----+----+----+----+----+----+----+-----+-----+-----+-----+-----+-----+-----+-----+-----+-----+-----+-----+-----+-----+-----+-----+-----+-----+-----+-----+-----+-----+-----+-----+-----+-----+-----+-----+-----+-----+-----+-----+-----+-----+-----+-----+-----+-----+-----+-----+-----+-----+-----+-----+-----+-----+-----+-----+-----+-----+-----+-----+-----+-----+-----+-----+-----+-----+-----+-----+-----+-----+-----+-----+-----+-----+-----+-----+-----+-----+-----+-----+-----+-----+-----+-----+-----+-----+-----+-----+-----+-----+-----+-----+-----+-----+-----+-----+-----+-----+-----+-----+-----+-----+-----+-----+-----+-----+-----+-----+-----+-----+-----+-----+-----+-----+-----+-----+-----+-----+-----+-----+-----+-----+-----+-----+-----+-----+-----+-----+-----+-----+-----+-----+-----+-----+-----+-----+-----+-----+-----+-----+-----+-----+-----+-----+-----+-----+-----+-----+-----+-----+-----+-----+-----+-----+-----+-----+-----+-----+-----+-----+-----+-----+-----+-----+-----+-----+-----+-----+-----+-----+-----+-----+-----+-----+-----+-----+-----+-----+-----+-----+-----+-----+-----+-----+-----+-----+-----+-----+-----+-----+-----+-----+-----+-----+-----+-----+-----+-----+-----+-----+-----+-----+-----+-----+-----+-----+-----+-----+-----+-----+-----+-----+-----+-----+-----+-----+-----+-----+-----+-----+-----+-----+-----+-----+-----+-----+-----+-----+-----+-----+-----+-----+-----+-----+-----+-----+-----+-----+-----+-----+-----+-----+-----+-----+-----+-----+-----+-----+-----+-----+-----+-----+-----+-----+-----+-----+-----+-----+-----+-----+-----+-----+-----+-----+-----+-----+-----+-----+-----+-----+-----+-----+-----+-----+-----+-----+-----+-----+-----+-----+-----+-----+-----+-----+-----+-----+-----+-----+-----+-----+-----+-----+-----+-----+-----+-----+-----+-----+-----+-----+-----+-----+-----+-----+-----+-----+-----+-----+-----+-----+-----+-----+-----+-----+-----+-----+-----+-----+-----+-----+-----+-----+-----+-----+-----+-----+-----+-----+-----+-----+-----+-----+-----+-----+-----+-----+-----+-----+-----+-----+-----+-----+-----+-----+-----+-----+-----+-----+-----+-----+-----+-----+-----+-----+-----+-----+-----+-----+-----+-----+-----+-----+-----+-----+-----+-----+-----+-----+-----+-----+-----+-----+-----+-----+-----+-----+-----+-----+-----+-----+-----+-----+-----+-----+-----+-----+-----+-----+-----+-----+-----+-----+-----+-----+-----+-----+-----+-----+-----+-----+-----+-----+-----+-----+-----+-----+-----+-----+-----+-----+-----+-----+-----+-----+-----+-----+-----+-----+-----+-----+-----+-----+-----+-----+-----+-----+-----+-----+-----+-----+-----+-----+-----+-----+-----+-----+-----+-----+-----+-----+-----+-----+-----+-----+-----+-----+-----+-----+-----+-----+-----+-----+-----+-----+-----+-----+-----+-----+-----+-----+-----+-----+-----+-----+-----+-----+-----+-----+-----+-----+-----+-----+-----+-----+-----+-----+-----+-----+-----+-----+-----+-----+-----+-----+-----+-----+-----+-----+-----+-----+-----+-----+-----+-----+-----+-----+-----+-----+-----+-----+-----+-----+-----+-----+-----+-----+-----+-----+-----+-----+-----+-----+-----+-----+-----+-----+-----+-----+-----+-----+-----+-----+-----+-----+-----+-----+-----+-----+-----+-----+-----+-----+-----+-----+-----+-----+-----+-----+-----+-----+-----+-----+-----+-----+-----+-----+-----+-----+-----+-----+-----+-----+-----+-----+-----+-----+-----+-----+-----+-----+-----+-----+-----+-----+-----+-----+-----+-----+-----+-----+-----+-----+-----+-----+-----+-----+-----+-----+-----+-----+-----+-----+-----+-----+-----+-----+-----+-----+-----+-----+-----+-----+-----+-----+-----+-----+-----+-----+-----+-----+-----+-----+-----+-----+-----+-----+-----+-----+-----+-----+-----+-----+-----+-----+-----+-----+-----+-----+-----+-----+-----+-----+-----+-----+-----+-----+-----+-----+-----+-----+-----+-----+-----+-----+-----+-----+-----+-----+-----+-----+-----+-----+-----+-----+-----+-----+-----+-----+-----+-----+-----+-----+-----+-----+-----+-----+-----+-----+-----+-----+-----+-----+-----+-----+-----+-----+-----+-----+-----+-----+-----+-----+-----+-----+-----+-----+-----+-----+-----+-----+-----+-----+-----+-----+-----+-----+-----+-----+-----+-----+-----+-----+-----+\n",
            "|  5|  0|  0|  0|  0|  0|  0|  0|  0|  0|   0|   0|   0|   0|   0|   0|   0|   0|   0|   0|   0|   0|   0|   0|   0|   0|   0|   0|   0|   0|   0|   0|   0|   0|   0|   0|   0|   0|   0|   0|   0|   0|   0|   0|   0|   0|   0|   0|   0|   0|   0|   0|   0|   0|   0|   0|   0|   0|   0|   0|   0|   0|   0|   0|   0|   0|   0|   0|   0|   0|   0|   0|   0|   0|   0|   0|   0|   0|   0|   0|   0|   0|   0|   0|   0|   0|   0|   0|   0|   0|   0|   0|   0|   0|   0|   0|   0|   0|   0|   0|    0|    0|    0|    0|    0|    0|    0|    0|    0|    0|    0|    0|    0|    0|    0|    0|    0|    0|    0|    0|    0|    0|    0|    0|    0|    0|    0|    0|    0|    0|    0|    0|    0|    0|    0|    0|    0|    0|    0|    0|    0|    0|    0|    0|    0|    0|    0|    0|    0|    0|    0|    0|    0|    3|   18|   18|   18|  126|  136|  175|   26|  166|  255|  247|  127|    0|    0|    0|    0|    0|    0|    0|    0|    0|    0|    0|    0|   30|   36|   94|  154|  170|  253|  253|  253|  253|  253|  225|  172|  253|  242|  195|   64|    0|    0|    0|    0|    0|    0|    0|    0|    0|    0|    0|   49|  238|  253|  253|  253|  253|  253|  253|  253|  253|  251|   93|   82|   82|   56|   39|    0|    0|    0|    0|    0|    0|    0|    0|    0|    0|    0|    0|   18|  219|  253|  253|  253|  253|  253|  198|  182|  247|  241|    0|    0|    0|    0|    0|    0|    0|    0|    0|    0|    0|    0|    0|    0|    0|    0|    0|    0|   80|  156|  107|  253|  253|  205|   11|    0|   43|  154|    0|    0|    0|    0|    0|    0|    0|    0|    0|    0|    0|    0|    0|    0|    0|    0|    0|    0|    0|   14|    1|  154|  253|   90|    0|    0|    0|    0|    0|    0|    0|    0|    0|    0|    0|    0|    0|    0|    0|    0|    0|    0|    0|    0|    0|    0|    0|    0|    0|  139|  253|  190|    2|    0|    0|    0|    0|    0|    0|    0|    0|    0|    0|    0|    0|    0|    0|    0|    0|    0|    0|    0|    0|    0|    0|    0|    0|   11|  190|  253|   70|    0|    0|    0|    0|    0|    0|    0|    0|    0|    0|    0|    0|    0|    0|    0|    0|    0|    0|    0|    0|    0|    0|    0|    0|    0|   35|  241|  225|  160|  108|    1|    0|    0|    0|    0|    0|    0|    0|    0|    0|    0|    0|    0|    0|    0|    0|    0|    0|    0|    0|    0|    0|    0|    0|   81|  240|  253|  253|  119|   25|    0|    0|    0|    0|    0|    0|    0|    0|    0|    0|    0|    0|    0|    0|    0|    0|    0|    0|    0|    0|    0|    0|    0|   45|  186|  253|  253|  150|   27|    0|    0|    0|    0|    0|    0|    0|    0|    0|    0|    0|    0|    0|    0|    0|    0|    0|    0|    0|    0|    0|    0|    0|   16|   93|  252|  253|  187|    0|    0|    0|    0|    0|    0|    0|    0|    0|    0|    0|    0|    0|    0|    0|    0|    0|    0|    0|    0|    0|    0|    0|    0|    0|  249|  253|  249|   64|    0|    0|    0|    0|    0|    0|    0|    0|    0|    0|    0|    0|    0|    0|    0|    0|    0|    0|    0|    0|    0|   46|  130|  183|  253|  253|  207|    2|    0|    0|    0|    0|    0|    0|    0|    0|    0|    0|    0|    0|    0|    0|    0|    0|    0|    0|    0|   39|  148|  229|  253|  253|  253|  250|  182|    0|    0|    0|    0|    0|    0|    0|    0|    0|    0|    0|    0|    0|    0|    0|    0|    0|    0|   24|  114|  221|  253|  253|  253|  253|  201|   78|    0|    0|    0|    0|    0|    0|    0|    0|    0|    0|    0|    0|    0|    0|    0|    0|    0|   23|   66|  213|  253|  253|  253|  253|  198|   81|    2|    0|    0|    0|    0|    0|    0|    0|    0|    0|    0|    0|    0|    0|    0|    0|    0|   18|  171|  219|  253|  253|  253|  253|  195|   80|    9|    0|    0|    0|    0|    0|    0|    0|    0|    0|    0|    0|    0|    0|    0|    0|    0|   55|  172|  226|  253|  253|  253|  253|  244|  133|   11|    0|    0|    0|    0|    0|    0|    0|    0|    0|    0|    0|    0|    0|    0|    0|    0|    0|    0|  136|  253|  253|  253|  212|  135|  132|   16|    0|    0|    0|    0|    0|    0|    0|    0|    0|    0|    0|    0|    0|    0|    0|    0|    0|    0|    0|    0|    0|    0|    0|    0|    0|    0|    0|    0|    0|    0|    0|    0|    0|    0|    0|    0|    0|    0|    0|    0|    0|    0|    0|    0|    0|    0|    0|    0|    0|    0|    0|    0|    0|    0|    0|    0|    0|    0|    0|    0|    0|    0|    0|    0|    0|    0|    0|    0|    0|    0|    0|    0|    0|    0|    0|    0|    0|    0|    0|    0|    0|    0|    0|    0|    0|    0|    0|    0|    0|    0|    0|    0|    0|    0|    0|    0|    0|    0|    0|    0|\n",
            "+---+---+---+---+---+---+---+---+---+---+----+----+----+----+----+----+----+----+----+----+----+----+----+----+----+----+----+----+----+----+----+----+----+----+----+----+----+----+----+----+----+----+----+----+----+----+----+----+----+----+----+----+----+----+----+----+----+----+----+----+----+----+----+----+----+----+----+----+----+----+----+----+----+----+----+----+----+----+----+----+----+----+----+----+----+----+----+----+----+----+----+----+----+----+----+----+----+----+----+----+-----+-----+-----+-----+-----+-----+-----+-----+-----+-----+-----+-----+-----+-----+-----+-----+-----+-----+-----+-----+-----+-----+-----+-----+-----+-----+-----+-----+-----+-----+-----+-----+-----+-----+-----+-----+-----+-----+-----+-----+-----+-----+-----+-----+-----+-----+-----+-----+-----+-----+-----+-----+-----+-----+-----+-----+-----+-----+-----+-----+-----+-----+-----+-----+-----+-----+-----+-----+-----+-----+-----+-----+-----+-----+-----+-----+-----+-----+-----+-----+-----+-----+-----+-----+-----+-----+-----+-----+-----+-----+-----+-----+-----+-----+-----+-----+-----+-----+-----+-----+-----+-----+-----+-----+-----+-----+-----+-----+-----+-----+-----+-----+-----+-----+-----+-----+-----+-----+-----+-----+-----+-----+-----+-----+-----+-----+-----+-----+-----+-----+-----+-----+-----+-----+-----+-----+-----+-----+-----+-----+-----+-----+-----+-----+-----+-----+-----+-----+-----+-----+-----+-----+-----+-----+-----+-----+-----+-----+-----+-----+-----+-----+-----+-----+-----+-----+-----+-----+-----+-----+-----+-----+-----+-----+-----+-----+-----+-----+-----+-----+-----+-----+-----+-----+-----+-----+-----+-----+-----+-----+-----+-----+-----+-----+-----+-----+-----+-----+-----+-----+-----+-----+-----+-----+-----+-----+-----+-----+-----+-----+-----+-----+-----+-----+-----+-----+-----+-----+-----+-----+-----+-----+-----+-----+-----+-----+-----+-----+-----+-----+-----+-----+-----+-----+-----+-----+-----+-----+-----+-----+-----+-----+-----+-----+-----+-----+-----+-----+-----+-----+-----+-----+-----+-----+-----+-----+-----+-----+-----+-----+-----+-----+-----+-----+-----+-----+-----+-----+-----+-----+-----+-----+-----+-----+-----+-----+-----+-----+-----+-----+-----+-----+-----+-----+-----+-----+-----+-----+-----+-----+-----+-----+-----+-----+-----+-----+-----+-----+-----+-----+-----+-----+-----+-----+-----+-----+-----+-----+-----+-----+-----+-----+-----+-----+-----+-----+-----+-----+-----+-----+-----+-----+-----+-----+-----+-----+-----+-----+-----+-----+-----+-----+-----+-----+-----+-----+-----+-----+-----+-----+-----+-----+-----+-----+-----+-----+-----+-----+-----+-----+-----+-----+-----+-----+-----+-----+-----+-----+-----+-----+-----+-----+-----+-----+-----+-----+-----+-----+-----+-----+-----+-----+-----+-----+-----+-----+-----+-----+-----+-----+-----+-----+-----+-----+-----+-----+-----+-----+-----+-----+-----+-----+-----+-----+-----+-----+-----+-----+-----+-----+-----+-----+-----+-----+-----+-----+-----+-----+-----+-----+-----+-----+-----+-----+-----+-----+-----+-----+-----+-----+-----+-----+-----+-----+-----+-----+-----+-----+-----+-----+-----+-----+-----+-----+-----+-----+-----+-----+-----+-----+-----+-----+-----+-----+-----+-----+-----+-----+-----+-----+-----+-----+-----+-----+-----+-----+-----+-----+-----+-----+-----+-----+-----+-----+-----+-----+-----+-----+-----+-----+-----+-----+-----+-----+-----+-----+-----+-----+-----+-----+-----+-----+-----+-----+-----+-----+-----+-----+-----+-----+-----+-----+-----+-----+-----+-----+-----+-----+-----+-----+-----+-----+-----+-----+-----+-----+-----+-----+-----+-----+-----+-----+-----+-----+-----+-----+-----+-----+-----+-----+-----+-----+-----+-----+-----+-----+-----+-----+-----+-----+-----+-----+-----+-----+-----+-----+-----+-----+-----+-----+-----+-----+-----+-----+-----+-----+-----+-----+-----+-----+-----+-----+-----+-----+-----+-----+-----+-----+-----+-----+-----+-----+-----+-----+-----+-----+-----+-----+-----+-----+-----+-----+-----+-----+-----+-----+-----+-----+-----+-----+-----+-----+-----+-----+-----+-----+-----+-----+-----+-----+-----+-----+-----+-----+-----+-----+-----+-----+-----+-----+-----+-----+-----+-----+-----+-----+-----+-----+-----+-----+-----+-----+-----+-----+-----+-----+-----+-----+-----+-----+-----+-----+-----+-----+-----+-----+-----+-----+-----+-----+-----+-----+-----+-----+-----+-----+-----+-----+-----+-----+-----+-----+-----+-----+-----+-----+-----+-----+-----+-----+-----+-----+-----+-----+-----+-----+-----+-----+-----+-----+-----+-----+-----+-----+-----+-----+-----+-----+-----+-----+-----+-----+-----+-----+-----+-----+-----+-----+-----+-----+-----+-----+-----+-----+-----+\n",
            "only showing top 1 row\n",
            "\n"
          ],
          "name": "stdout"
        }
      ]
    },
    {
      "cell_type": "code",
      "metadata": {
        "colab": {
          "base_uri": "https://localhost:8080/"
        },
        "id": "c0br19iQlLdI",
        "outputId": "7b033ec9-a537-40c5-aa11-c8eaa394dd83"
      },
      "source": [
        "#mostramos varias imagenes bajo el mismo concepto\n",
        "\n",
        "images = training.sample(False, 0.01, 1).take(25)\n",
        "fig, _ = plt.subplots(5, 5, figsize = (10, 10))\n",
        "for i, ax in enumerate(fig.axes):\n",
        "    r = images[i]\n",
        "    label = r.label\n",
        "    features = r.features\n",
        "    ax.imshow(features.toArray().reshape(28, 28), cmap = \"Greys\")\n",
        "    ax.set_title(\"True: \" + str(label))\n",
        "\n",
        "plt.tight_layout()"
      ],
      "execution_count": null,
      "outputs": [
        {
          "output_type": "display_data",
          "data": {
            "image/png": "[encoded data removed]",
            "text/plain": [
              "<Figure size 720x720 with 25 Axes>"
            ]
          },
          "metadata": {
            "tags": [],
            "needs_background": "light"
          }
        }
      ]
    },
    {
      "cell_type": "markdown",
      "metadata": {
        "id": "ngd-eAGnliGG"
      },
      "source": [
        "### 5.4. Realizamos consultas sobre el dataframe, queremos saber cuantas filas hay de cada numero"
      ]
    },
    {
      "cell_type": "code",
      "metadata": {
        "colab": {
          "base_uri": "https://localhost:8080/"
        },
        "id": "fw2V06aIqGJR",
        "outputId": "4f8f4131-4a4a-4396-ccf7-2f757174144e"
      },
      "source": [
        "#crea una tabla temporal para poder realizar consultas SQL puras, la nueva tabla llamada CountResults\n",
        "training.registerTempTable('CountLabels')\n",
        "\n",
        "#Creamos un dataframe nuevo que almacena la consulta realizada en SQL sobre la tabla anterior\n",
        "#la siguiente consulta cuenta cuentos hay de cada categoria resultado\n",
        "cr = spark.sql(\"SELECT COUNT(label) AS Cnt, label FROM CountLabels GROUP BY label\")\n",
        "cr.show()"
      ],
      "execution_count": null,
      "outputs": [
        {
          "output_type": "stream",
          "text": [
            "+----+-----+\n",
            "| Cnt|label|\n",
            "+----+-----+\n",
            "|6742|    1|\n",
            "|5918|    6|\n",
            "|6131|    3|\n",
            "|5421|    5|\n",
            "|5949|    9|\n",
            "|5842|    4|\n",
            "|5851|    8|\n",
            "|6265|    7|\n",
            "|5958|    2|\n",
            "|5923|    0|\n",
            "+----+-----+\n",
            "\n"
          ],
          "name": "stdout"
        }
      ]
    },
    {
      "cell_type": "code",
      "metadata": {
        "colab": {
          "base_uri": "https://localhost:8080/"
        },
        "id": "wRa81MbflOsZ",
        "outputId": "0e9804fc-76f2-46d4-8acf-10eb43db6841"
      },
      "source": [
        "#realizamos una consulta sql para contar cuantos registros hay de cada numero \n",
        "counts = training.groupBy(\"label\").count()\n",
        "type(counts)"
      ],
      "execution_count": null,
      "outputs": [
        {
          "output_type": "execute_result",
          "data": {
            "text/plain": [
              "pyspark.sql.dataframe.DataFrame"
            ]
          },
          "metadata": {
            "tags": []
          },
          "execution_count": 23
        }
      ]
    },
    {
      "cell_type": "code",
      "metadata": {
        "colab": {
          "base_uri": "https://localhost:8080/"
        },
        "id": "r7lsFImDk5in",
        "outputId": "62af7010-ab32-46fc-d48e-2ec11c4b3cb9"
      },
      "source": [
        "counts.show()\n"
      ],
      "execution_count": null,
      "outputs": [
        {
          "output_type": "stream",
          "text": [
            "+-----+-----+\n",
            "|label|count|\n",
            "+-----+-----+\n",
            "|    1| 6742|\n",
            "|    6| 5918|\n",
            "|    3| 6131|\n",
            "|    5| 5421|\n",
            "|    9| 5949|\n",
            "|    4| 5842|\n",
            "|    8| 5851|\n",
            "|    7| 6265|\n",
            "|    2| 5958|\n",
            "|    0| 5923|\n",
            "+-----+-----+\n",
            "\n"
          ],
          "name": "stdout"
        }
      ]
    },
    {
      "cell_type": "code",
      "metadata": {
        "colab": {
          "base_uri": "https://localhost:8080/"
        },
        "id": "yVsDiFVHnAs9",
        "outputId": "77526944-dae2-4c6e-d18f-f56b24784d8c"
      },
      "source": [
        "#quiero saber si la sumatoria de la columna count da el total de los registros\n",
        "total = counts.groupBy().sum(\"count\")\n",
        "total.show()\n"
      ],
      "execution_count": null,
      "outputs": [
        {
          "output_type": "stream",
          "text": [
            "+----------+\n",
            "|sum(count)|\n",
            "+----------+\n",
            "|     60000|\n",
            "+----------+\n",
            "\n"
          ],
          "name": "stdout"
        }
      ]
    },
    {
      "cell_type": "markdown",
      "metadata": {
        "id": "Xpm45a4XmFaY"
      },
      "source": [
        "### 5.5 Implementacion del modelo de regresion "
      ]
    },
    {
      "cell_type": "code",
      "metadata": {
        "id": "W2SZn4JzplMY"
      },
      "source": [
        "from pyspark.ml.classification import LogisticRegression"
      ],
      "execution_count": null,
      "outputs": []
    },
    {
      "cell_type": "code",
      "metadata": {
        "id": "HyuTnpwjppig"
      },
      "source": [
        "#creamos la funcion de regresion logistica con los parametros de entrada (features)(caracteristicas) y la variable objetivo que queremos \n",
        "#predecir (label) numero\n",
        "lr = LogisticRegression(featuresCol=\"features\", \n",
        "                        labelCol=\"label\", \n",
        "                        regParam=0.1, \n",
        "                        elasticNetParam=0.1, \n",
        "                        maxIter=10000)"
      ],
      "execution_count": null,
      "outputs": []
    },
    {
      "cell_type": "code",
      "metadata": {
        "id": "cvnfjjMyptCo"
      },
      "source": [
        "#creamos el modelo de regresion logistica con los datos de entrenamiento\n",
        "lr_model = lr.fit(training)"
      ],
      "execution_count": null,
      "outputs": []
    },
    {
      "cell_type": "code",
      "metadata": {
        "colab": {
          "base_uri": "https://localhost:8080/"
        },
        "id": "pSy0UhBcjOCx",
        "outputId": "14ddf937-3976-4a19-af24-ec038ce215c5"
      },
      "source": [
        "print(\"Multinomial coefficients: \" + str(lr_model.coefficientMatrix))"
      ],
      "execution_count": null,
      "outputs": [
        {
          "output_type": "stream",
          "text": [
            "Multinomial coefficients: 10 X 784 CSRMatrix\n",
            "(0,155) 0.0\n",
            "(0,156) 0.0001\n",
            "(0,157) 0.0\n",
            "(0,183) 0.0001\n",
            "(0,184) 0.0002\n",
            "(0,185) 0.0002\n",
            "(0,186) 0.0001\n",
            "(0,211) 0.0001\n",
            "(0,212) 0.0002\n",
            "(0,213) 0.0003\n",
            "(0,214) 0.0003\n",
            "(0,215) 0.0001\n",
            "(0,239) 0.0\n",
            "(0,240) 0.0001\n",
            "(0,241) 0.0001\n",
            "(0,242) 0.0002\n",
            "..\n",
            "..\n"
          ],
          "name": "stdout"
        }
      ]
    },
    {
      "cell_type": "code",
      "metadata": {
        "colab": {
          "base_uri": "https://localhost:8080/"
        },
        "id": "bs3OPzizsag7",
        "outputId": "32ee8083-8e3c-4e0d-acfe-0ddd92a9c45d"
      },
      "source": [
        "print(\"Multinomial intercepts: \" + str(lr_model.interceptVector))"
      ],
      "execution_count": null,
      "outputs": [
        {
          "output_type": "stream",
          "text": [
            "Multinomial intercepts: [0.05172460772164002,0.817058931540715,-0.27831372998010345,-0.1379900542129491,0.3049218355895447,0.871143040195552,-0.4311027130366925,0.7787666909556084,-1.5846384909526325,-0.3915701178206827]\n"
          ],
          "name": "stdout"
        }
      ]
    },
    {
      "cell_type": "code",
      "metadata": {
        "id": "F6nEOwsCpKXP"
      },
      "source": [
        "#importamos el dataframe de pruebas \n",
        "df_testing = (spark\n",
        "              .read\n",
        "              .options(header = False, inferSchema = True)\n",
        "              .csv(\"drive/MyDrive/DatosPyspark/mnist_test.csv\"))\n",
        "\n",
        "#realizamos el mismo proceso de construir un nuevo dataframe con 2 columnas, este sera el conjunto de datos utilizado en las pruebas\n",
        "testing = (vectorizer\n",
        "           .transform(df_testing)\n",
        "           .select(\"_c0\", \"features\")\n",
        "           .toDF(\"label\", \"features\")\n",
        "           .cache())"
      ],
      "execution_count": null,
      "outputs": []
    },
    {
      "cell_type": "code",
      "metadata": {
        "colab": {
          "base_uri": "https://localhost:8080/"
        },
        "id": "wWrJm0xXTXeC",
        "outputId": "df7539fa-8967-4881-dde1-7ef2dc6cb7e0"
      },
      "source": [
        "df_testing.count()"
      ],
      "execution_count": null,
      "outputs": [
        {
          "output_type": "execute_result",
          "data": {
            "text/plain": [
              "10000"
            ]
          },
          "metadata": {
            "tags": []
          },
          "execution_count": 32
        }
      ]
    },
    {
      "cell_type": "code",
      "metadata": {
        "id": "FzoDfFx1qTlG"
      },
      "source": [
        "#impotamos las funciones de la libreria sql functions, con * se importan todas, solo se necesita \"withColumn\" el cual devuelve un nuevo dataframe \n",
        "# \n",
        "from pyspark.sql.functions import *"
      ],
      "execution_count": null,
      "outputs": []
    },
    {
      "cell_type": "code",
      "metadata": {
        "colab": {
          "base_uri": "https://localhost:8080/"
        },
        "id": "7aUvCcMvqUnP",
        "outputId": "77c076cc-3e08-4a73-edb8-92179cb4889c"
      },
      "source": [
        "# a partir del modelo realizamos predicciones con los datos de pruebas es decir el archivo mnist_test.csv\n",
        "# queremos saber en que cuales predicciones acertamos y en cuales fallamos, se le agregamos la nueva  linea\n",
        "# es util para agregar columnas calculadas al dataframe ya existente.\n",
        "test_pred = lr_model.transform(testing).withColumn(\"matched\", expr(\"label == prediction\"))\n",
        "test_pred.show(20)"
      ],
      "execution_count": null,
      "outputs": [
        {
          "output_type": "stream",
          "text": [
            "+-----+--------------------+--------------------+--------------------+----------+-------+\n",
            "|label|            features|       rawPrediction|         probability|prediction|matched|\n",
            "+-----+--------------------+--------------------+--------------------+----------+-------+\n",
            "|    7|(784,[202,203,204...|[0.08070480165375...|[0.01163236392094...|       7.0|   true|\n",
            "|    2|(784,[94,95,96,97...|[1.25425406358767...|[0.02467764471717...|       2.0|   true|\n",
            "|    1|(784,[128,129,130...|[-1.2276524471688...|[0.00751263994471...|       1.0|   true|\n",
            "|    0|(784,[124,125,126...|[3.71476062530587...|[0.85536145424016...|       0.0|   true|\n",
            "|    4|(784,[150,151,159...|[-0.2039270192762...|[0.04549113250992...|       4.0|   true|\n",
            "|    1|(784,[156,157,158...|[-1.8454996939466...|[0.00278444647289...|       1.0|   true|\n",
            "|    4|(784,[149,150,151...|[-1.7871799792661...|[0.00965258005973...|       4.0|   true|\n",
            "|    9|(784,[179,180,181...|[-2.3331144616742...|[0.00711927716793...|       9.0|   true|\n",
            "|    5|(784,[129,130,131...|[0.25089606477708...|[0.06160565780449...|       5.0|   true|\n",
            "|    9|(784,[209,210,211...|[-0.7976271976762...|[0.02088880010781...|       9.0|   true|\n",
            "|    0|(784,[123,124,125...|[3.87665582702822...|[0.80110751027447...|       0.0|   true|\n",
            "|    6|(784,[94,95,96,97...|[1.8908613561981,...|[0.28924960656628...|       0.0|  false|\n",
            "|    9|(784,[208,209,210...|[-1.4656858164681...|[0.00902667735258...|       9.0|   true|\n",
            "|    0|(784,[152,153,154...|[3.52162978716863...|[0.84049195109150...|       0.0|   true|\n",
            "|    1|(784,[125,126,127...|[-2.2951507253657...|[0.00159973133619...|       1.0|   true|\n",
            "|    5|(784,[124,125,126...|[0.26443714870398...|[0.07367353100470...|       5.0|   true|\n",
            "|    9|(784,[179,180,181...|[-0.6255916188595...|[0.02550361387932...|       9.0|   true|\n",
            "|    7|(784,[200,201,202...|[0.70990611838534...|[0.02075121690891...|       7.0|   true|\n",
            "|    3|(784,[118,119,120...|[-1.0216859510240...|[0.01042092765356...|       3.0|   true|\n",
            "|    4|(784,[158,159,185...|[-1.2147078347317...|[0.01415523283792...|       4.0|   true|\n",
            "+-----+--------------------+--------------------+--------------------+----------+-------+\n",
            "only showing top 20 rows\n",
            "\n"
          ],
          "name": "stdout"
        }
      ]
    },
    {
      "cell_type": "code",
      "metadata": {
        "colab": {
          "base_uri": "https://localhost:8080/"
        },
        "id": "OuhQfZ7i5b0_",
        "outputId": "a846f862-0ee6-4b0b-c349-c8ea3caa5af6"
      },
      "source": [
        "#miramos el numero aproximado al intervalo de confianza y la probabilidad de que sea\n",
        "test_pred.select(\"label\", \"rawPrediction\", \"probability\").take(2)[1]"
      ],
      "execution_count": null,
      "outputs": [
        {
          "output_type": "execute_result",
          "data": {
            "text/plain": [
              "Row(label=2, rawPrediction=DenseVector([1.2543, 0.2944, 4.6778, 2.0032, -2.1912, 1.4541, 2.758, -2.0159, 0.5591, -1.5796]), probability=DenseVector([0.0247, 0.0094, 0.757, 0.0522, 0.0008, 0.0301, 0.111, 0.0009, 0.0123, 0.0015]))"
            ]
          },
          "metadata": {
            "tags": []
          },
          "execution_count": 35
        }
      ]
    },
    {
      "cell_type": "markdown",
      "metadata": {
        "id": "md8C2I-pcALS"
      },
      "source": [
        "### 5.6 Evaluacion del modelo\n"
      ]
    },
    {
      "cell_type": "code",
      "metadata": {
        "colab": {
          "base_uri": "https://localhost:8080/"
        },
        "id": "fXcf0R7ywzCv",
        "outputId": "13dfb1a0-4125-4d6d-98c5-a8f922bf3d9e"
      },
      "source": [
        "#Veamos cuantas observaciones acertamos y cuantas fallamos\n",
        "test_pred.groupBy(\"matched\").count().show()\n"
      ],
      "execution_count": null,
      "outputs": [
        {
          "output_type": "stream",
          "text": [
            "+-------+-----+\n",
            "|matched|count|\n",
            "+-------+-----+\n",
            "|   true| 8729|\n",
            "|  false| 1271|\n",
            "+-------+-----+\n",
            "\n"
          ],
          "name": "stdout"
        }
      ]
    },
    {
      "cell_type": "code",
      "metadata": {
        "colab": {
          "base_uri": "https://localhost:8080/"
        },
        "id": "RGhNUha0N1FV",
        "outputId": "cc2030e5-4c06-4542-a4e4-c59d9ea2b6b2"
      },
      "source": [
        "trainingSummary = lr_model.summary\n",
        "# para multiclase, podemos inspeccionar métricas por etiqueta\n",
        "print(\"Tasa de falsos positivos por etiqueta:\")\n",
        "for i, rate in enumerate(trainingSummary.falsePositiveRateByLabel):\n",
        "    print(\"label %d: %s\" % (i, rate))"
      ],
      "execution_count": null,
      "outputs": [
        {
          "output_type": "stream",
          "text": [
            "Tasa de falsos positivos por etiqueta:\n",
            "label 0: 0.009911792444107476\n",
            "label 1: 0.021217469675917235\n",
            "label 2: 0.011990673920284224\n",
            "label 3: 0.018804878501550056\n",
            "label 4: 0.014623878282063591\n",
            "label 5: 0.013759871012660548\n",
            "label 6: 0.011038792944047927\n",
            "label 7: 0.01233832697496976\n",
            "label 8: 0.015309608672366987\n",
            "label 9: 0.01979611848069416\n"
          ],
          "name": "stdout"
        }
      ]
    },
    {
      "cell_type": "code",
      "metadata": {
        "colab": {
          "base_uri": "https://localhost:8080/"
        },
        "id": "TF2_d_7rOAZV",
        "outputId": "26a86891-4f47-4d3e-dba0-9e2207533cfc"
      },
      "source": [
        "print(\"Tasa de verdaderos positivos por etiqueta:\")\n",
        "for i, rate in enumerate(trainingSummary.truePositiveRateByLabel):\n",
        "    print(\"label %d: %s\" % (i, rate))"
      ],
      "execution_count": null,
      "outputs": [
        {
          "output_type": "stream",
          "text": [
            "Tasa de verdaderos positivos por etiqueta:\n",
            "label 0: 0.9498564916427487\n",
            "label 1: 0.969890240284782\n",
            "label 2: 0.8340046995636119\n",
            "label 3: 0.8380362094274996\n",
            "label 4: 0.8892502567613831\n",
            "label 5: 0.7568714259361742\n",
            "label 6: 0.9166948293342345\n",
            "label 7: 0.8836392657621708\n",
            "label 8: 0.7660229020680226\n",
            "label 9: 0.8334173810724491\n"
          ],
          "name": "stdout"
        }
      ]
    },
    {
      "cell_type": "code",
      "metadata": {
        "colab": {
          "base_uri": "https://localhost:8080/"
        },
        "id": "F8uvc8IfORrI",
        "outputId": "c45634e3-498f-40c1-8bc3-bb3c328c4a6e"
      },
      "source": [
        "print(\"Precisión por etiqueta:\")\n",
        "for i, prec in enumerate(trainingSummary.precisionByLabel):\n",
        "    print(\"label %d: %s\" % (i, prec))"
      ],
      "execution_count": null,
      "outputs": [
        {
          "output_type": "stream",
          "text": [
            "Precisión por etiqueta:\n",
            "label 0: 0.9130152547874066\n",
            "label 1: 0.8526535402268874\n",
            "label 2: 0.8846359266512374\n",
            "label 3: 0.8353113314908145\n",
            "label 4: 0.8677133789878069\n",
            "label 5: 0.8452822414503502\n",
            "label 6: 0.9008635004981733\n",
            "label 7: 0.8930472656880142\n",
            "label 8: 0.8439088683863679\n",
            "label 9: 0.8224950232249503\n"
          ],
          "name": "stdout"
        }
      ]
    },
    {
      "cell_type": "code",
      "metadata": {
        "id": "6nuEg4aSqqME"
      },
      "source": [
        "#Evaluamos que tan precisa fueron las predicciones\n",
        "from pyspark.ml.evaluation import MulticlassClassificationEvaluator"
      ],
      "execution_count": null,
      "outputs": []
    },
    {
      "cell_type": "code",
      "metadata": {
        "id": "8F61CuhJqriZ"
      },
      "source": [
        "evaluator = MulticlassClassificationEvaluator(labelCol=\"label\", \n",
        "                                               predictionCol=\"prediction\", \n",
        "                                               metricName=\"accuracy\")"
      ],
      "execution_count": null,
      "outputs": []
    },
    {
      "cell_type": "code",
      "metadata": {
        "colab": {
          "base_uri": "https://localhost:8080/"
        },
        "id": "H1uloww8quk1",
        "outputId": "2a00f52a-4884-4656-dbdd-9465ee359e9b"
      },
      "source": [
        "#calculamos el porcentantaje de aciertos\n",
        "evaluator.evaluate(test_pred)*100"
      ],
      "execution_count": null,
      "outputs": [
        {
          "output_type": "execute_result",
          "data": {
            "text/plain": [
              "87.29"
            ]
          },
          "metadata": {
            "tags": []
          },
          "execution_count": 42
        }
      ]
    },
    {
      "cell_type": "markdown",
      "metadata": {
        "id": "5teLN9DK50sE"
      },
      "source": [
        "##Clasificador de perceptrón multicapa\n",
        "El clasificador de perceptrones multicapa (MLPC) es un clasificador basado en la red neuronal artificial feedforward . MLPC consta de múltiples capas de nodos. Cada capa está completamente conectada a la siguiente capa de la red. Los nodos de la capa de entrada representan los datos de entrada. Todos los demás nodos asignan entradas a salidas mediante una combinación lineal de las entradas con los pesos y el sesgo del nodo y aplicando una función de activación. Esto se puede escribir en forma de matriz para MLPC con capas de la siguiente manera: Los nodos en las capas intermedias usan la función sigmoidea (logística): Los nodos en la capa de salida usan la función softmax: El número de nodos en la capa de salida corresponde al número de clases.wbK+1"
      ]
    },
    {
      "cell_type": "code",
      "metadata": {
        "id": "aR7vwQpG5zsu"
      },
      "source": [
        "from pyspark.ml.classification import MultilayerPerceptronClassifier\n",
        "from time import time"
      ],
      "execution_count": null,
      "outputs": []
    },
    {
      "cell_type": "code",
      "metadata": {
        "id": "MaGqSvQa6Bnc"
      },
      "source": [
        "#aqui de crea las capas de la red neuronal\n",
        "start_time = time()\n",
        "layers = [784, 100, 20, 10]\n",
        "perceptron = MultilayerPerceptronClassifier(maxIter=1000, layers=layers, blockSize=128, seed=1234)\n",
        "perceptron_model = perceptron.fit(training)\n",
        "print(\"Tiempo tardado: %d\" % (time() - start_time))"
      ],
      "execution_count": null,
      "outputs": []
    },
    {
      "cell_type": "code",
      "metadata": {
        "colab": {
          "base_uri": "https://localhost:8080/"
        },
        "id": "hSbZEcy66JvQ",
        "outputId": "a9f19560-d6af-4b74-ff29-5f2071411046"
      },
      "source": [
        "type(perceptron_model)"
      ],
      "execution_count": null,
      "outputs": [
        {
          "output_type": "execute_result",
          "data": {
            "text/plain": [
              "pyspark.ml.classification.MultilayerPerceptronClassificationModel"
            ]
          },
          "metadata": {
            "tags": []
          },
          "execution_count": 50
        }
      ]
    },
    {
      "cell_type": "code",
      "metadata": {
        "id": "cZ79sfSwSdCu"
      },
      "source": [
        "test_pred2 = perceptron_model.transform(testing)"
      ],
      "execution_count": null,
      "outputs": []
    },
    {
      "cell_type": "code",
      "metadata": {
        "colab": {
          "base_uri": "https://localhost:8080/"
        },
        "id": "y2zcHFBsShv8",
        "outputId": "580b1d45-4bbe-4253-81fc-b35668de218c"
      },
      "source": [
        "test_pred2.show()"
      ],
      "execution_count": null,
      "outputs": [
        {
          "output_type": "stream",
          "text": [
            "+-----+--------------------+--------------------+--------------------+----------+\n",
            "|label|            features|       rawPrediction|         probability|prediction|\n",
            "+-----+--------------------+--------------------+--------------------+----------+\n",
            "|    7|(784,[202,203,204...|[2.37517885266977...|[2.10102187592847...|       7.0|\n",
            "|    2|(784,[94,95,96,97...|[-6.7817653343857...|[2.62512603513704...|       2.0|\n",
            "|    1|(784,[128,129,130...|[-3.7836110112152...|[1.06737099081332...|       1.0|\n",
            "|    0|(784,[124,125,126...|[13.0487148876553...|[0.99997662114041...|       0.0|\n",
            "|    4|(784,[150,151,159...|[-3.6702755037471...|[3.90758242409749...|       4.0|\n",
            "|    1|(784,[156,157,158...|[-4.0487215589126...|[1.40915673378218...|       1.0|\n",
            "|    4|(784,[149,150,151...|[-6.8400165424598...|[3.75039354719690...|       4.0|\n",
            "|    9|(784,[179,180,181...|[-6.9042381113852...|[4.22231993644251...|       9.0|\n",
            "|    5|(784,[129,130,131...|[-0.3590904916427...|[2.62088106026943...|       6.0|\n",
            "|    9|(784,[209,210,211...|[-3.1296875617752...|[5.69423874781536...|       9.0|\n",
            "|    0|(784,[123,124,125...|[13.2707182808528...|[0.99996902188059...|       0.0|\n",
            "|    6|(784,[94,95,96,97...|[-0.6041058234699...|[1.15663092766880...|       6.0|\n",
            "|    9|(784,[208,209,210...|[-2.9733287867980...|[3.88216513372951...|       9.0|\n",
            "|    0|(784,[152,153,154...|[12.2776669641879...|[0.99995478870975...|       0.0|\n",
            "|    1|(784,[125,126,127...|[-4.2109281193740...|[5.93819694263708...|       1.0|\n",
            "|    5|(784,[124,125,126...|[-4.6117039459944...|[3.61352791740096...|       5.0|\n",
            "|    9|(784,[179,180,181...|[-2.5672669894785...|[1.40221957429970...|       9.0|\n",
            "|    7|(784,[200,201,202...|[-0.1979907997015...|[2.24884558837211...|       7.0|\n",
            "|    3|(784,[118,119,120...|[-4.8808849945376...|[6.20455179467576...|       3.0|\n",
            "|    4|(784,[158,159,185...|[-6.2960526941309...|[5.12405743039241...|       4.0|\n",
            "+-----+--------------------+--------------------+--------------------+----------+\n",
            "only showing top 20 rows\n",
            "\n"
          ],
          "name": "stdout"
        }
      ]
    },
    {
      "cell_type": "code",
      "metadata": {
        "id": "jC2Ks5QzURA7"
      },
      "source": [
        "# es util para agregar columnas calculadas al dataframe ya existente.\n",
        "test_pred2 = perceptron_model.transform(testing).withColumn(\"matched\", expr(\"label == prediction\"))\n"
      ],
      "execution_count": null,
      "outputs": []
    },
    {
      "cell_type": "code",
      "metadata": {
        "colab": {
          "base_uri": "https://localhost:8080/"
        },
        "id": "mZuuUuRiWqKV",
        "outputId": "cdb585d0-57ef-4e68-af68-430c76842111"
      },
      "source": [
        "#mostramos los primero 20 registros del dataframe ya predicho\n",
        "test_pred2.show()"
      ],
      "execution_count": null,
      "outputs": [
        {
          "output_type": "stream",
          "text": [
            "+-----+--------------------+--------------------+--------------------+----------+-------+\n",
            "|label|            features|       rawPrediction|         probability|prediction|matched|\n",
            "+-----+--------------------+--------------------+--------------------+----------+-------+\n",
            "|    7|(784,[202,203,204...|[2.37517885266977...|[2.10102187592847...|       7.0|   true|\n",
            "|    2|(784,[94,95,96,97...|[-6.7817653343857...|[2.62512603513704...|       2.0|   true|\n",
            "|    1|(784,[128,129,130...|[-3.7836110112152...|[1.06737099081332...|       1.0|   true|\n",
            "|    0|(784,[124,125,126...|[13.0487148876553...|[0.99997662114041...|       0.0|   true|\n",
            "|    4|(784,[150,151,159...|[-3.6702755037471...|[3.90758242409749...|       4.0|   true|\n",
            "|    1|(784,[156,157,158...|[-4.0487215589126...|[1.40915673378218...|       1.0|   true|\n",
            "|    4|(784,[149,150,151...|[-6.8400165424598...|[3.75039354719690...|       4.0|   true|\n",
            "|    9|(784,[179,180,181...|[-6.9042381113852...|[4.22231993644251...|       9.0|   true|\n",
            "|    5|(784,[129,130,131...|[-0.3590904916427...|[2.62088106026943...|       6.0|  false|\n",
            "|    9|(784,[209,210,211...|[-3.1296875617752...|[5.69423874781536...|       9.0|   true|\n",
            "|    0|(784,[123,124,125...|[13.2707182808528...|[0.99996902188059...|       0.0|   true|\n",
            "|    6|(784,[94,95,96,97...|[-0.6041058234699...|[1.15663092766880...|       6.0|   true|\n",
            "|    9|(784,[208,209,210...|[-2.9733287867980...|[3.88216513372951...|       9.0|   true|\n",
            "|    0|(784,[152,153,154...|[12.2776669641879...|[0.99995478870975...|       0.0|   true|\n",
            "|    1|(784,[125,126,127...|[-4.2109281193740...|[5.93819694263708...|       1.0|   true|\n",
            "|    5|(784,[124,125,126...|[-4.6117039459944...|[3.61352791740096...|       5.0|   true|\n",
            "|    9|(784,[179,180,181...|[-2.5672669894785...|[1.40221957429970...|       9.0|   true|\n",
            "|    7|(784,[200,201,202...|[-0.1979907997015...|[2.24884558837211...|       7.0|   true|\n",
            "|    3|(784,[118,119,120...|[-4.8808849945376...|[6.20455179467576...|       3.0|   true|\n",
            "|    4|(784,[158,159,185...|[-6.2960526941309...|[5.12405743039241...|       4.0|   true|\n",
            "+-----+--------------------+--------------------+--------------------+----------+-------+\n",
            "only showing top 20 rows\n",
            "\n"
          ],
          "name": "stdout"
        }
      ]
    },
    {
      "cell_type": "code",
      "metadata": {
        "colab": {
          "base_uri": "https://localhost:8080/"
        },
        "id": "OiroY55BT5wh",
        "outputId": "8daf5c99-38b9-4b8f-f190-815a9dfcdfe3"
      },
      "source": [
        "#Veamos cuantas observaciones acertamos y cuantas fallamos con el modelo de redes neuronales\n",
        "test_pred2.groupBy(\"matched\").count().show()"
      ],
      "execution_count": null,
      "outputs": [
        {
          "output_type": "stream",
          "text": [
            "+-------+-----+\n",
            "|matched|count|\n",
            "+-------+-----+\n",
            "|   true| 9513|\n",
            "|  false|  487|\n",
            "+-------+-----+\n",
            "\n"
          ],
          "name": "stdout"
        }
      ]
    },
    {
      "cell_type": "code",
      "metadata": {
        "colab": {
          "base_uri": "https://localhost:8080/"
        },
        "id": "nTZvDaZEb1A9",
        "outputId": "150ed67b-6e2c-4a0a-876c-b36224c9f1d5"
      },
      "source": [
        "#Veamos cuantas observaciones acertamos y cuantas fallamos con el modelo de regresion logistica multinomial\n",
        "test_pred.groupBy(\"matched\").count().show()"
      ],
      "execution_count": null,
      "outputs": [
        {
          "output_type": "stream",
          "text": [
            "+-------+-----+\n",
            "|matched|count|\n",
            "+-------+-----+\n",
            "|   true| 8729|\n",
            "|  false| 1271|\n",
            "+-------+-----+\n",
            "\n"
          ],
          "name": "stdout"
        }
      ]
    },
    {
      "cell_type": "code",
      "metadata": {
        "colab": {
          "base_uri": "https://localhost:8080/"
        },
        "id": "IThMG4olSzv-",
        "outputId": "976c5b89-d8ea-4b3c-991a-130f952664f0"
      },
      "source": [
        "#cual es la tasa de acierto\n",
        "print(\"Precision:\", evaluator.evaluate(test_pred2)*100)\n"
      ],
      "execution_count": null,
      "outputs": [
        {
          "output_type": "stream",
          "text": [
            "Precision: 95.13000000000001\n",
            "Tiempo tardado: 1071\n"
          ],
          "name": "stdout"
        }
      ]
    },
    {
      "cell_type": "code",
      "metadata": {
        "colab": {
          "base_uri": "https://localhost:8080/"
        },
        "id": "HOjdPhjR6O6_",
        "outputId": "408ece66-cf4f-4fa7-ba92-1c2d57c43e05"
      },
      "source": [
        "type(perceptron_model)"
      ],
      "execution_count": null,
      "outputs": [
        {
          "output_type": "execute_result",
          "data": {
            "text/plain": [
              "pyspark.ml.classification.MultilayerPerceptronClassificationModel"
            ]
          },
          "metadata": {
            "tags": []
          },
          "execution_count": 56
        }
      ]
    },
    {
      "cell_type": "code",
      "metadata": {
        "colab": {
          "base_uri": "https://localhost:8080/",
          "height": 137
        },
        "id": "8zr-ieQNa-XN",
        "outputId": "627fc21d-5656-49f7-b73b-594eebbe193f"
      },
      "source": [
        "perceptron_model.explainParams()"
      ],
      "execution_count": null,
      "outputs": [
        {
          "output_type": "execute_result",
          "data": {
            "application/vnd.google.colaboratory.intrinsic+json": {
              "type": "string"
            },
            "text/plain": [
              "\"blockSize: block size for stacking input data in matrices. Data is stacked within partitions. If block size is more than remaining data in a partition then it is adjusted to the size of this data. (default: 128, current: 128)\\nfeaturesCol: features column name. (default: features)\\ninitialWeights: The initial weights of the model. (undefined)\\nlabelCol: label column name. (default: label)\\nlayers: Sizes of layers from input layer to output layer E.g., Array(780, 100, 10) means 780 inputs, one hidden layer with 100 neurons and output layer of 10 neurons. (current: [784, 100, 20, 10])\\nmaxIter: max number of iterations (>= 0). (default: 100, current: 1000)\\npredictionCol: prediction column name. (default: prediction)\\nprobabilityCol: Column name for predicted class conditional probabilities. Note: Not all models output well-calibrated probability estimates! These probabilities should be treated as confidences, not precise probabilities. (default: probability)\\nrawPredictionCol: raw prediction (a.k.a. confidence) column name. (default: rawPrediction)\\nseed: random seed. (default: 3407118050600511442, current: 1234)\\nsolver: The solver algorithm for optimization. Supported options: l-bfgs, gd. (default: l-bfgs)\\nstepSize: Step size to be used for each iteration of optimization (>= 0). (default: 0.03)\\nthresholds: Thresholds in multi-class classification to adjust the probability of predicting each class. Array must have length equal to the number of classes, with values > 0, excepting that at most one value may be 0. The class with largest value p/t is predicted, where p is the original probability of that class and t is the class's threshold. (undefined)\\ntol: the convergence tolerance for iterative algorithms (>= 0). (default: 1e-06)\""
            ]
          },
          "metadata": {
            "tags": []
          },
          "execution_count": 59
        }
      ]
    },
    {
      "cell_type": "markdown",
      "metadata": {
        "id": "2KyvhkyfC3Fe"
      },
      "source": [
        "## Segunda Prueba"
      ]
    },
    {
      "cell_type": "code",
      "metadata": {
        "colab": {
          "base_uri": "https://localhost:8080/"
        },
        "id": "mTXM0DcacnQD",
        "outputId": "830af90b-1503-4398-f707-589a01a532d2"
      },
      "source": [
        "#Realizamos una nueva prueba con una distribucion dsitinta en las capas intermedias de la red feed forward\n",
        "#aqui de crea las capas de la red neuronal\n",
        "start_time = time()\n",
        "layers2 = [784, 100, 10]\n",
        "red2 = MultilayerPerceptronClassifier(maxIter=1000, layers=layers, blockSize=128, seed=1234)\n",
        "Red_Model = red2.fit(training)\n",
        "print(\"Tiempo tardado: %d\" % (time() - start_time))"
      ],
      "execution_count": null,
      "outputs": [
        {
          "output_type": "stream",
          "text": [
            "Tiempo tardado: 9843\n"
          ],
          "name": "stdout"
        }
      ]
    },
    {
      "cell_type": "code",
      "metadata": {
        "id": "vUZSpw7MdE94"
      },
      "source": [
        "test_pred3 = Red_Model.transform(testing)"
      ],
      "execution_count": null,
      "outputs": []
    },
    {
      "cell_type": "code",
      "metadata": {
        "colab": {
          "base_uri": "https://localhost:8080/"
        },
        "id": "iXmu_T6JdYvF",
        "outputId": "9c74ea15-acd1-4ef7-e425-36c9cfb7f8ca"
      },
      "source": [
        "test_pred3.show()"
      ],
      "execution_count": null,
      "outputs": [
        {
          "output_type": "stream",
          "text": [
            "+-----+--------------------+--------------------+--------------------+----------+\n",
            "|label|            features|       rawPrediction|         probability|prediction|\n",
            "+-----+--------------------+--------------------+--------------------+----------+\n",
            "|    7|(784,[202,203,204...|[2.37517885266977...|[2.10102187592847...|       7.0|\n",
            "|    2|(784,[94,95,96,97...|[-6.7817653343857...|[2.62512603513704...|       2.0|\n",
            "|    1|(784,[128,129,130...|[-3.7836110112152...|[1.06737099081332...|       1.0|\n",
            "|    0|(784,[124,125,126...|[13.0487148876553...|[0.99997662114041...|       0.0|\n",
            "|    4|(784,[150,151,159...|[-3.6702755037471...|[3.90758242409749...|       4.0|\n",
            "|    1|(784,[156,157,158...|[-4.0487215589126...|[1.40915673378218...|       1.0|\n",
            "|    4|(784,[149,150,151...|[-6.8400165424598...|[3.75039354719690...|       4.0|\n",
            "|    9|(784,[179,180,181...|[-6.9042381113852...|[4.22231993644251...|       9.0|\n",
            "|    5|(784,[129,130,131...|[-0.3590904916427...|[2.62088106026943...|       6.0|\n",
            "|    9|(784,[209,210,211...|[-3.1296875617752...|[5.69423874781536...|       9.0|\n",
            "|    0|(784,[123,124,125...|[13.2707182808528...|[0.99996902188059...|       0.0|\n",
            "|    6|(784,[94,95,96,97...|[-0.6041058234699...|[1.15663092766880...|       6.0|\n",
            "|    9|(784,[208,209,210...|[-2.9733287867980...|[3.88216513372951...|       9.0|\n",
            "|    0|(784,[152,153,154...|[12.2776669641879...|[0.99995478870975...|       0.0|\n",
            "|    1|(784,[125,126,127...|[-4.2109281193740...|[5.93819694263708...|       1.0|\n",
            "|    5|(784,[124,125,126...|[-4.6117039459944...|[3.61352791740096...|       5.0|\n",
            "|    9|(784,[179,180,181...|[-2.5672669894785...|[1.40221957429970...|       9.0|\n",
            "|    7|(784,[200,201,202...|[-0.1979907997015...|[2.24884558837211...|       7.0|\n",
            "|    3|(784,[118,119,120...|[-4.8808849945376...|[6.20455179467576...|       3.0|\n",
            "|    4|(784,[158,159,185...|[-6.2960526941309...|[5.12405743039241...|       4.0|\n",
            "+-----+--------------------+--------------------+--------------------+----------+\n",
            "only showing top 20 rows\n",
            "\n"
          ],
          "name": "stdout"
        }
      ]
    },
    {
      "cell_type": "code",
      "metadata": {
        "id": "uhVw28SYdfcu"
      },
      "source": [
        "# es util para agregar columnas calculadas al dataframe ya existente.\n",
        "test_pred3 = Red_Model.transform(testing).withColumn(\"matched\", expr(\"label == prediction\"))"
      ],
      "execution_count": null,
      "outputs": []
    },
    {
      "cell_type": "code",
      "metadata": {
        "colab": {
          "base_uri": "https://localhost:8080/"
        },
        "id": "DgLj9b_-dt-A",
        "outputId": "c71580e8-caa7-4f44-b4de-e002f6131bfb"
      },
      "source": [
        "test_pred3.show()"
      ],
      "execution_count": null,
      "outputs": [
        {
          "output_type": "stream",
          "text": [
            "+-----+--------------------+--------------------+--------------------+----------+-------+\n",
            "|label|            features|       rawPrediction|         probability|prediction|matched|\n",
            "+-----+--------------------+--------------------+--------------------+----------+-------+\n",
            "|    7|(784,[202,203,204...|[2.37517885266977...|[2.10102187592847...|       7.0|   true|\n",
            "|    2|(784,[94,95,96,97...|[-6.7817653343857...|[2.62512603513704...|       2.0|   true|\n",
            "|    1|(784,[128,129,130...|[-3.7836110112152...|[1.06737099081332...|       1.0|   true|\n",
            "|    0|(784,[124,125,126...|[13.0487148876553...|[0.99997662114041...|       0.0|   true|\n",
            "|    4|(784,[150,151,159...|[-3.6702755037471...|[3.90758242409749...|       4.0|   true|\n",
            "|    1|(784,[156,157,158...|[-4.0487215589126...|[1.40915673378218...|       1.0|   true|\n",
            "|    4|(784,[149,150,151...|[-6.8400165424598...|[3.75039354719690...|       4.0|   true|\n",
            "|    9|(784,[179,180,181...|[-6.9042381113852...|[4.22231993644251...|       9.0|   true|\n",
            "|    5|(784,[129,130,131...|[-0.3590904916427...|[2.62088106026943...|       6.0|  false|\n",
            "|    9|(784,[209,210,211...|[-3.1296875617752...|[5.69423874781536...|       9.0|   true|\n",
            "|    0|(784,[123,124,125...|[13.2707182808528...|[0.99996902188059...|       0.0|   true|\n",
            "|    6|(784,[94,95,96,97...|[-0.6041058234699...|[1.15663092766880...|       6.0|   true|\n",
            "|    9|(784,[208,209,210...|[-2.9733287867980...|[3.88216513372951...|       9.0|   true|\n",
            "|    0|(784,[152,153,154...|[12.2776669641879...|[0.99995478870975...|       0.0|   true|\n",
            "|    1|(784,[125,126,127...|[-4.2109281193740...|[5.93819694263708...|       1.0|   true|\n",
            "|    5|(784,[124,125,126...|[-4.6117039459944...|[3.61352791740096...|       5.0|   true|\n",
            "|    9|(784,[179,180,181...|[-2.5672669894785...|[1.40221957429970...|       9.0|   true|\n",
            "|    7|(784,[200,201,202...|[-0.1979907997015...|[2.24884558837211...|       7.0|   true|\n",
            "|    3|(784,[118,119,120...|[-4.8808849945376...|[6.20455179467576...|       3.0|   true|\n",
            "|    4|(784,[158,159,185...|[-6.2960526941309...|[5.12405743039241...|       4.0|   true|\n",
            "+-----+--------------------+--------------------+--------------------+----------+-------+\n",
            "only showing top 20 rows\n",
            "\n"
          ],
          "name": "stdout"
        }
      ]
    },
    {
      "cell_type": "code",
      "metadata": {
        "colab": {
          "base_uri": "https://localhost:8080/"
        },
        "id": "ipHQb0etdzQ7",
        "outputId": "baef0097-3dc6-4a0c-9c3a-371d571d06c2"
      },
      "source": [
        "test_pred3.groupBy(\"matched\").count().show()"
      ],
      "execution_count": null,
      "outputs": [
        {
          "output_type": "stream",
          "text": [
            "+-------+-----+\n",
            "|matched|count|\n",
            "+-------+-----+\n",
            "|   true| 9513|\n",
            "|  false|  487|\n",
            "+-------+-----+\n",
            "\n"
          ],
          "name": "stdout"
        }
      ]
    },
    {
      "cell_type": "markdown",
      "metadata": {
        "id": "Nt4ol3YbC-5Y"
      },
      "source": [
        "## Tercera Prueba"
      ]
    },
    {
      "cell_type": "code",
      "metadata": {
        "colab": {
          "base_uri": "https://localhost:8080/"
        },
        "id": "RhZyJazEDEsa",
        "outputId": "e56f3111-12ea-413c-9201-5a05ec491e5c"
      },
      "source": [
        "#Realizamos una nueva prueba con una distribucion dsitinta en las capas intermedias de la red feed forward\n",
        "#aqui de crea las capas de la red neuronal\n",
        "start_time = time()\n",
        "layers3 = [784, 50, 10]\n",
        "red3 = MultilayerPerceptronClassifier(maxIter=1000, layers=layers, blockSize=128, seed=1234567890)\n",
        "Red_Model3 = red3.fit(training)\n",
        "print(\"Tiempo tardado: %d\" % (time() - start_time))"
      ],
      "execution_count": null,
      "outputs": [
        {
          "output_type": "stream",
          "text": [
            "Tiempo tardado: 6349\n"
          ],
          "name": "stdout"
        }
      ]
    },
    {
      "cell_type": "code",
      "metadata": {
        "id": "DzFx2ZQFDQK4"
      },
      "source": [
        "test_pred4 = Red_Model3.transform(testing)"
      ],
      "execution_count": null,
      "outputs": []
    },
    {
      "cell_type": "code",
      "metadata": {
        "colab": {
          "base_uri": "https://localhost:8080/"
        },
        "id": "au8JJAs0DhDw",
        "outputId": "11a01a65-5a06-4e09-d65a-0406756e5bcd"
      },
      "source": [
        "test_pred4.show()"
      ],
      "execution_count": null,
      "outputs": [
        {
          "output_type": "stream",
          "text": [
            "+-----+--------------------+--------------------+--------------------+----------+\n",
            "|label|            features|       rawPrediction|         probability|prediction|\n",
            "+-----+--------------------+--------------------+--------------------+----------+\n",
            "|    7|(784,[202,203,204...|[-4.5759246181917...|[6.47842375128777...|       7.0|\n",
            "|    2|(784,[94,95,96,97...|[2.54466129240989...|[1.27257436339794...|       2.0|\n",
            "|    1|(784,[128,129,130...|[-8.0917859092943...|[6.09302654279281...|       1.0|\n",
            "|    0|(784,[124,125,126...|[10.4538809243357...|[0.99826588560692...|       0.0|\n",
            "|    4|(784,[150,151,159...|[-1.6103951867442...|[2.39902837501095...|       4.0|\n",
            "|    1|(784,[156,157,158...|[-8.5636488628644...|[6.59705361444784...|       1.0|\n",
            "|    4|(784,[149,150,151...|[-4.5801869505142...|[4.38356211504523...|       4.0|\n",
            "|    9|(784,[179,180,181...|[-4.2495186052355...|[2.86686610138415...|       9.0|\n",
            "|    5|(784,[129,130,131...|[0.61275905455161...|[3.14461993185612...|       5.0|\n",
            "|    9|(784,[209,210,211...|[-0.3347458354011...|[1.54565475864029...|       9.0|\n",
            "|    0|(784,[123,124,125...|[14.5713946536739...|[0.99998648582629...|       0.0|\n",
            "|    6|(784,[94,95,96,97...|[-0.3847215580201...|[1.96525994803870...|       6.0|\n",
            "|    9|(784,[208,209,210...|[-4.3440310039642...|[3.97092508985028...|       9.0|\n",
            "|    0|(784,[152,153,154...|[13.8554880546683...|[0.99997045610467...|       0.0|\n",
            "|    1|(784,[125,126,127...|[-11.742562842941...|[1.96698329575566...|       1.0|\n",
            "|    5|(784,[124,125,126...|[-2.2906905726922...|[5.80468294772914...|       5.0|\n",
            "|    9|(784,[179,180,181...|[-4.5933783230983...|[4.96940297811651...|       9.0|\n",
            "|    7|(784,[200,201,202...|[-4.8674563878535...|[3.42784087814114...|       7.0|\n",
            "|    3|(784,[118,119,120...|[-2.9901059568082...|[4.04026836606569...|       3.0|\n",
            "|    4|(784,[158,159,185...|[-3.4319645944074...|[3.26694785005502...|       4.0|\n",
            "+-----+--------------------+--------------------+--------------------+----------+\n",
            "only showing top 20 rows\n",
            "\n"
          ],
          "name": "stdout"
        }
      ]
    },
    {
      "cell_type": "code",
      "metadata": {
        "id": "rMPHeQzCDlFG"
      },
      "source": [
        "# es util para agregar columnas calculadas al dataframe ya existente.\n",
        "test_pred4 = Red_Model3.transform(testing).withColumn(\"matched\", expr(\"label == prediction\"))"
      ],
      "execution_count": null,
      "outputs": []
    },
    {
      "cell_type": "code",
      "metadata": {
        "colab": {
          "base_uri": "https://localhost:8080/",
          "height": 165
        },
        "id": "-m4Z6IqFfwDo",
        "outputId": "9d50967f-5927-4d27-89f9-4d88c32e9b81"
      },
      "source": [
        "Red_Model3.take(1)"
      ],
      "execution_count": null,
      "outputs": [
        {
          "output_type": "error",
          "ename": "AttributeError",
          "evalue": "ignored",
          "traceback": [
            "\u001b[0;31m---------------------------------------------------------------------------\u001b[0m",
            "\u001b[0;31mAttributeError\u001b[0m                            Traceback (most recent call last)",
            "\u001b[0;32m<ipython-input-78-f61e09cc9e8b>\u001b[0m in \u001b[0;36m<module>\u001b[0;34m()\u001b[0m\n\u001b[0;32m----> 1\u001b[0;31m \u001b[0mRed_Model3\u001b[0m\u001b[0;34m.\u001b[0m\u001b[0mtake\u001b[0m\u001b[0;34m(\u001b[0m\u001b[0;36m1\u001b[0m\u001b[0;34m)\u001b[0m\u001b[0;34m\u001b[0m\u001b[0;34m\u001b[0m\u001b[0m\n\u001b[0m",
            "\u001b[0;31mAttributeError\u001b[0m: 'MultilayerPerceptronClassificationModel' object has no attribute 'take'"
          ]
        }
      ]
    },
    {
      "cell_type": "code",
      "metadata": {
        "colab": {
          "base_uri": "https://localhost:8080/"
        },
        "id": "CHqIDbbhDqhy",
        "outputId": "bb6f4360-e143-48c7-b4b3-03636482b4dc"
      },
      "source": [
        "test_pred4.show()"
      ],
      "execution_count": null,
      "outputs": [
        {
          "output_type": "stream",
          "text": [
            "+-----+--------------------+--------------------+--------------------+----------+-------+\n",
            "|label|            features|       rawPrediction|         probability|prediction|matched|\n",
            "+-----+--------------------+--------------------+--------------------+----------+-------+\n",
            "|    7|(784,[202,203,204...|[-4.5759246181917...|[6.47842375128777...|       7.0|   true|\n",
            "|    2|(784,[94,95,96,97...|[2.54466129240989...|[1.27257436339794...|       2.0|   true|\n",
            "|    1|(784,[128,129,130...|[-8.0917859092943...|[6.09302654279281...|       1.0|   true|\n",
            "|    0|(784,[124,125,126...|[10.4538809243357...|[0.99826588560692...|       0.0|   true|\n",
            "|    4|(784,[150,151,159...|[-1.6103951867442...|[2.39902837501095...|       4.0|   true|\n",
            "|    1|(784,[156,157,158...|[-8.5636488628644...|[6.59705361444784...|       1.0|   true|\n",
            "|    4|(784,[149,150,151...|[-4.5801869505142...|[4.38356211504523...|       4.0|   true|\n",
            "|    9|(784,[179,180,181...|[-4.2495186052355...|[2.86686610138415...|       9.0|   true|\n",
            "|    5|(784,[129,130,131...|[0.61275905455161...|[3.14461993185612...|       5.0|   true|\n",
            "|    9|(784,[209,210,211...|[-0.3347458354011...|[1.54565475864029...|       9.0|   true|\n",
            "|    0|(784,[123,124,125...|[14.5713946536739...|[0.99998648582629...|       0.0|   true|\n",
            "|    6|(784,[94,95,96,97...|[-0.3847215580201...|[1.96525994803870...|       6.0|   true|\n",
            "|    9|(784,[208,209,210...|[-4.3440310039642...|[3.97092508985028...|       9.0|   true|\n",
            "|    0|(784,[152,153,154...|[13.8554880546683...|[0.99997045610467...|       0.0|   true|\n",
            "|    1|(784,[125,126,127...|[-11.742562842941...|[1.96698329575566...|       1.0|   true|\n",
            "|    5|(784,[124,125,126...|[-2.2906905726922...|[5.80468294772914...|       5.0|   true|\n",
            "|    9|(784,[179,180,181...|[-4.5933783230983...|[4.96940297811651...|       9.0|   true|\n",
            "|    7|(784,[200,201,202...|[-4.8674563878535...|[3.42784087814114...|       7.0|   true|\n",
            "|    3|(784,[118,119,120...|[-2.9901059568082...|[4.04026836606569...|       3.0|   true|\n",
            "|    4|(784,[158,159,185...|[-3.4319645944074...|[3.26694785005502...|       4.0|   true|\n",
            "+-----+--------------------+--------------------+--------------------+----------+-------+\n",
            "only showing top 20 rows\n",
            "\n"
          ],
          "name": "stdout"
        }
      ]
    },
    {
      "cell_type": "code",
      "metadata": {
        "colab": {
          "base_uri": "https://localhost:8080/"
        },
        "id": "T3XanqBnDvY6",
        "outputId": "8b070a11-02f6-4e93-d264-f62f6f933221"
      },
      "source": [
        "test_pred4.groupBy(\"matched\").count().show()"
      ],
      "execution_count": null,
      "outputs": [
        {
          "output_type": "stream",
          "text": [
            "+-------+-----+\n",
            "|matched|count|\n",
            "+-------+-----+\n",
            "|   true| 9538|\n",
            "|  false|  462|\n",
            "+-------+-----+\n",
            "\n"
          ],
          "name": "stdout"
        }
      ]
    },
    {
      "cell_type": "code",
      "metadata": {
        "colab": {
          "base_uri": "https://localhost:8080/"
        },
        "id": "k6HEMTA_cbo1",
        "outputId": "6fcad7f1-b158-4b7f-bdfe-01453c6b833d"
      },
      "source": [
        "#cual es la tasa de acierto\n",
        "print(\"Precision:\", evaluator.evaluate(test_pred4)*100)\n"
      ],
      "execution_count": null,
      "outputs": [
        {
          "output_type": "stream",
          "text": [
            "Precision: 95.38\n"
          ],
          "name": "stdout"
        }
      ]
    },
    {
      "cell_type": "markdown",
      "metadata": {
        "id": "K9_BTeolcxTO"
      },
      "source": [
        "### 5.7 Guardar los resultados en disco"
      ]
    },
    {
      "cell_type": "code",
      "metadata": {
        "id": "3hPit2O-c3nw"
      },
      "source": [
        "#convertimos a RDD \n",
        "Resultrdd = test_pred.rdd.map(list)"
      ],
      "execution_count": null,
      "outputs": []
    },
    {
      "cell_type": "code",
      "metadata": {
        "id": "nws9IcDIe1uC"
      },
      "source": [
        "#guarda los datos en un solo archivo\n",
        "Resultrdd.repartition(1).saveAsTextFile(\"drive/MyDrive/DatosPyspark/Output_Pyspark\")"
      ],
      "execution_count": null,
      "outputs": []
    },
    {
      "cell_type": "markdown",
      "metadata": {
        "id": "o8O_2T6_VmCe"
      },
      "source": [
        "## Guardar los Modelos Ya entrenados"
      ]
    },
    {
      "cell_type": "code",
      "metadata": {
        "id": "qLoJ7wk4c7X3"
      },
      "source": [
        "import sys\n",
        "import os"
      ],
      "execution_count": null,
      "outputs": []
    },
    {
      "cell_type": "code",
      "metadata": {
        "id": "yG2cNtKvc--z"
      },
      "source": [
        "#guardo el modelo 784,50,10\n",
        "Red_Model3.save[1](os.path.join(sys.argv[1], 'model_3'))"
      ],
      "execution_count": null,
      "outputs": []
    },
    {
      "cell_type": "code",
      "metadata": {
        "colab": {
          "base_uri": "https://localhost:8080/",
          "height": 165
        },
        "id": "UCA1mZUTk20o",
        "outputId": "7d4d7a97-0f1a-4910-9324-81bcd9a26b90"
      },
      "source": [
        "Resultrdd = Red_Model3.rdd.map(list)"
      ],
      "execution_count": null,
      "outputs": [
        {
          "output_type": "error",
          "ename": "AttributeError",
          "evalue": "ignored",
          "traceback": [
            "\u001b[0;31m---------------------------------------------------------------------------\u001b[0m",
            "\u001b[0;31mAttributeError\u001b[0m                            Traceback (most recent call last)",
            "\u001b[0;32m<ipython-input-79-0cc71b360afa>\u001b[0m in \u001b[0;36m<module>\u001b[0;34m()\u001b[0m\n\u001b[0;32m----> 1\u001b[0;31m \u001b[0mResultrdd\u001b[0m \u001b[0;34m=\u001b[0m \u001b[0mRed_Model3\u001b[0m\u001b[0;34m.\u001b[0m\u001b[0mrdd\u001b[0m\u001b[0;34m.\u001b[0m\u001b[0mmap\u001b[0m\u001b[0;34m(\u001b[0m\u001b[0mlist\u001b[0m\u001b[0;34m)\u001b[0m\u001b[0;34m\u001b[0m\u001b[0;34m\u001b[0m\u001b[0m\n\u001b[0m",
            "\u001b[0;31mAttributeError\u001b[0m: 'MultilayerPerceptronClassificationModel' object has no attribute 'rdd'"
          ]
        }
      ]
    },
    {
      "cell_type": "code",
      "metadata": {
        "id": "JWgS2d0ZlA78"
      },
      "source": [
        "Red_Model3.save(os.path.join(sys.argv[1],'drive/MyDrive/DatosPyspark/Output_Pyspark/Model'))"
      ],
      "execution_count": null,
      "outputs": []
    },
    {
      "cell_type": "code",
      "metadata": {
        "id": "H7tnW1DymgSG"
      },
      "source": [
        "Red_Model3.save('drive/MyDrive/DatosPyspark/Output_Pyspark/Model')"
      ],
      "execution_count": null,
      "outputs": []
    },
    {
      "cell_type": "code",
      "metadata": {
        "id": "Sv1u1FKNVuin"
      },
      "source": [
        "modeloentre"
      ],
      "execution_count": null,
      "outputs": []
    },
    {
      "cell_type": "markdown",
      "metadata": {
        "id": "T426GNl4V-Ss"
      },
      "source": [
        "## Cargar los Modelos ya entrenados"
      ]
    },
    {
      "cell_type": "code",
      "metadata": {
        "colab": {
          "base_uri": "https://localhost:8080/",
          "height": 597
        },
        "id": "61MUADWRWCiP",
        "outputId": "0d53c8c7-fa25-46e1-b343-907d1fd454e9"
      },
      "source": [
        "#carga del modelo 784,50,10\n",
        "model_preentrenado = MultilayerPerceptronClassifier.load(os.path.join(sys.argv[1], 'model_3'))"
      ],
      "execution_count": null,
      "outputs": [
        {
          "output_type": "error",
          "ename": "Py4JJavaError",
          "evalue": "ignored",
          "traceback": [
            "\u001b[0;31m---------------------------------------------------------------------------\u001b[0m",
            "\u001b[0;31mPy4JJavaError\u001b[0m                             Traceback (most recent call last)",
            "\u001b[0;32m<ipython-input-76-b178266a55e9>\u001b[0m in \u001b[0;36m<module>\u001b[0;34m()\u001b[0m\n\u001b[1;32m      1\u001b[0m \u001b[0;31m#carga del modelo 784,50,10\u001b[0m\u001b[0;34m\u001b[0m\u001b[0;34m\u001b[0m\u001b[0;34m\u001b[0m\u001b[0m\n\u001b[0;32m----> 2\u001b[0;31m \u001b[0mmodel_preentrenado\u001b[0m \u001b[0;34m=\u001b[0m \u001b[0mMultilayerPerceptronClassifier\u001b[0m\u001b[0;34m.\u001b[0m\u001b[0mload\u001b[0m\u001b[0;34m(\u001b[0m\u001b[0mos\u001b[0m\u001b[0;34m.\u001b[0m\u001b[0mpath\u001b[0m\u001b[0;34m.\u001b[0m\u001b[0mjoin\u001b[0m\u001b[0;34m(\u001b[0m\u001b[0msys\u001b[0m\u001b[0;34m.\u001b[0m\u001b[0margv\u001b[0m\u001b[0;34m[\u001b[0m\u001b[0;36m1\u001b[0m\u001b[0;34m]\u001b[0m\u001b[0;34m,\u001b[0m \u001b[0;34m'model_3'\u001b[0m\u001b[0;34m)\u001b[0m\u001b[0;34m)\u001b[0m\u001b[0;34m\u001b[0m\u001b[0;34m\u001b[0m\u001b[0m\n\u001b[0m",
            "\u001b[0;32m/usr/local/lib/python3.7/dist-packages/pyspark/ml/util.py\u001b[0m in \u001b[0;36mload\u001b[0;34m(cls, path)\u001b[0m\n\u001b[1;32m    328\u001b[0m     \u001b[0;32mdef\u001b[0m \u001b[0mload\u001b[0m\u001b[0;34m(\u001b[0m\u001b[0mcls\u001b[0m\u001b[0;34m,\u001b[0m \u001b[0mpath\u001b[0m\u001b[0;34m)\u001b[0m\u001b[0;34m:\u001b[0m\u001b[0;34m\u001b[0m\u001b[0;34m\u001b[0m\u001b[0m\n\u001b[1;32m    329\u001b[0m         \u001b[0;34m\"\"\"Reads an ML instance from the input path, a shortcut of `read().load(path)`.\"\"\"\u001b[0m\u001b[0;34m\u001b[0m\u001b[0;34m\u001b[0m\u001b[0m\n\u001b[0;32m--> 330\u001b[0;31m         \u001b[0;32mreturn\u001b[0m \u001b[0mcls\u001b[0m\u001b[0;34m.\u001b[0m\u001b[0mread\u001b[0m\u001b[0;34m(\u001b[0m\u001b[0;34m)\u001b[0m\u001b[0;34m.\u001b[0m\u001b[0mload\u001b[0m\u001b[0;34m(\u001b[0m\u001b[0mpath\u001b[0m\u001b[0;34m)\u001b[0m\u001b[0;34m\u001b[0m\u001b[0;34m\u001b[0m\u001b[0m\n\u001b[0m\u001b[1;32m    331\u001b[0m \u001b[0;34m\u001b[0m\u001b[0m\n\u001b[1;32m    332\u001b[0m \u001b[0;34m\u001b[0m\u001b[0m\n",
            "\u001b[0;32m/usr/local/lib/python3.7/dist-packages/pyspark/ml/util.py\u001b[0m in \u001b[0;36mload\u001b[0;34m(self, path)\u001b[0m\n\u001b[1;32m    278\u001b[0m         \u001b[0;32mif\u001b[0m \u001b[0;32mnot\u001b[0m \u001b[0misinstance\u001b[0m\u001b[0;34m(\u001b[0m\u001b[0mpath\u001b[0m\u001b[0;34m,\u001b[0m \u001b[0mbasestring\u001b[0m\u001b[0;34m)\u001b[0m\u001b[0;34m:\u001b[0m\u001b[0;34m\u001b[0m\u001b[0;34m\u001b[0m\u001b[0m\n\u001b[1;32m    279\u001b[0m             \u001b[0;32mraise\u001b[0m \u001b[0mTypeError\u001b[0m\u001b[0;34m(\u001b[0m\u001b[0;34m\"path should be a basestring, got type %s\"\u001b[0m \u001b[0;34m%\u001b[0m \u001b[0mtype\u001b[0m\u001b[0;34m(\u001b[0m\u001b[0mpath\u001b[0m\u001b[0;34m)\u001b[0m\u001b[0;34m)\u001b[0m\u001b[0;34m\u001b[0m\u001b[0;34m\u001b[0m\u001b[0m\n\u001b[0;32m--> 280\u001b[0;31m         \u001b[0mjava_obj\u001b[0m \u001b[0;34m=\u001b[0m \u001b[0mself\u001b[0m\u001b[0;34m.\u001b[0m\u001b[0m_jread\u001b[0m\u001b[0;34m.\u001b[0m\u001b[0mload\u001b[0m\u001b[0;34m(\u001b[0m\u001b[0mpath\u001b[0m\u001b[0;34m)\u001b[0m\u001b[0;34m\u001b[0m\u001b[0;34m\u001b[0m\u001b[0m\n\u001b[0m\u001b[1;32m    281\u001b[0m         \u001b[0;32mif\u001b[0m \u001b[0;32mnot\u001b[0m \u001b[0mhasattr\u001b[0m\u001b[0;34m(\u001b[0m\u001b[0mself\u001b[0m\u001b[0;34m.\u001b[0m\u001b[0m_clazz\u001b[0m\u001b[0;34m,\u001b[0m \u001b[0;34m\"_from_java\"\u001b[0m\u001b[0;34m)\u001b[0m\u001b[0;34m:\u001b[0m\u001b[0;34m\u001b[0m\u001b[0;34m\u001b[0m\u001b[0m\n\u001b[1;32m    282\u001b[0m             raise NotImplementedError(\"This Java ML type cannot be loaded into Python currently: %r\"\n",
            "\u001b[0;32m/usr/local/lib/python3.7/dist-packages/py4j/java_gateway.py\u001b[0m in \u001b[0;36m__call__\u001b[0;34m(self, *args)\u001b[0m\n\u001b[1;32m   1303\u001b[0m         \u001b[0manswer\u001b[0m \u001b[0;34m=\u001b[0m \u001b[0mself\u001b[0m\u001b[0;34m.\u001b[0m\u001b[0mgateway_client\u001b[0m\u001b[0;34m.\u001b[0m\u001b[0msend_command\u001b[0m\u001b[0;34m(\u001b[0m\u001b[0mcommand\u001b[0m\u001b[0;34m)\u001b[0m\u001b[0;34m\u001b[0m\u001b[0;34m\u001b[0m\u001b[0m\n\u001b[1;32m   1304\u001b[0m         return_value = get_return_value(\n\u001b[0;32m-> 1305\u001b[0;31m             answer, self.gateway_client, self.target_id, self.name)\n\u001b[0m\u001b[1;32m   1306\u001b[0m \u001b[0;34m\u001b[0m\u001b[0m\n\u001b[1;32m   1307\u001b[0m         \u001b[0;32mfor\u001b[0m \u001b[0mtemp_arg\u001b[0m \u001b[0;32min\u001b[0m \u001b[0mtemp_args\u001b[0m\u001b[0;34m:\u001b[0m\u001b[0;34m\u001b[0m\u001b[0;34m\u001b[0m\u001b[0m\n",
            "\u001b[0;32m/usr/local/lib/python3.7/dist-packages/pyspark/sql/utils.py\u001b[0m in \u001b[0;36mdeco\u001b[0;34m(*a, **kw)\u001b[0m\n\u001b[1;32m    126\u001b[0m     \u001b[0;32mdef\u001b[0m \u001b[0mdeco\u001b[0m\u001b[0;34m(\u001b[0m\u001b[0;34m*\u001b[0m\u001b[0ma\u001b[0m\u001b[0;34m,\u001b[0m \u001b[0;34m**\u001b[0m\u001b[0mkw\u001b[0m\u001b[0;34m)\u001b[0m\u001b[0;34m:\u001b[0m\u001b[0;34m\u001b[0m\u001b[0;34m\u001b[0m\u001b[0m\n\u001b[1;32m    127\u001b[0m         \u001b[0;32mtry\u001b[0m\u001b[0;34m:\u001b[0m\u001b[0;34m\u001b[0m\u001b[0;34m\u001b[0m\u001b[0m\n\u001b[0;32m--> 128\u001b[0;31m             \u001b[0;32mreturn\u001b[0m \u001b[0mf\u001b[0m\u001b[0;34m(\u001b[0m\u001b[0;34m*\u001b[0m\u001b[0ma\u001b[0m\u001b[0;34m,\u001b[0m \u001b[0;34m**\u001b[0m\u001b[0mkw\u001b[0m\u001b[0;34m)\u001b[0m\u001b[0;34m\u001b[0m\u001b[0;34m\u001b[0m\u001b[0m\n\u001b[0m\u001b[1;32m    129\u001b[0m         \u001b[0;32mexcept\u001b[0m \u001b[0mpy4j\u001b[0m\u001b[0;34m.\u001b[0m\u001b[0mprotocol\u001b[0m\u001b[0;34m.\u001b[0m\u001b[0mPy4JJavaError\u001b[0m \u001b[0;32mas\u001b[0m \u001b[0me\u001b[0m\u001b[0;34m:\u001b[0m\u001b[0;34m\u001b[0m\u001b[0;34m\u001b[0m\u001b[0m\n\u001b[1;32m    130\u001b[0m             \u001b[0mconverted\u001b[0m \u001b[0;34m=\u001b[0m \u001b[0mconvert_exception\u001b[0m\u001b[0;34m(\u001b[0m\u001b[0me\u001b[0m\u001b[0;34m.\u001b[0m\u001b[0mjava_exception\u001b[0m\u001b[0;34m)\u001b[0m\u001b[0;34m\u001b[0m\u001b[0;34m\u001b[0m\u001b[0m\n",
            "\u001b[0;32m/usr/local/lib/python3.7/dist-packages/py4j/protocol.py\u001b[0m in \u001b[0;36mget_return_value\u001b[0;34m(answer, gateway_client, target_id, name)\u001b[0m\n\u001b[1;32m    326\u001b[0m                 raise Py4JJavaError(\n\u001b[1;32m    327\u001b[0m                     \u001b[0;34m\"An error occurred while calling {0}{1}{2}.\\n\"\u001b[0m\u001b[0;34m.\u001b[0m\u001b[0;34m\u001b[0m\u001b[0;34m\u001b[0m\u001b[0m\n\u001b[0;32m--> 328\u001b[0;31m                     format(target_id, \".\", name), value)\n\u001b[0m\u001b[1;32m    329\u001b[0m             \u001b[0;32melse\u001b[0m\u001b[0;34m:\u001b[0m\u001b[0;34m\u001b[0m\u001b[0;34m\u001b[0m\u001b[0m\n\u001b[1;32m    330\u001b[0m                 raise Py4JError(\n",
            "\u001b[0;31mPy4JJavaError\u001b[0m: An error occurred while calling o880.load.\n: java.lang.NoSuchMethodException: org.apache.spark.ml.classification.MultilayerPerceptronClassificationModel.<init>(java.lang.String)\n\tat java.lang.Class.getConstructor0(Class.java:3082)\n\tat java.lang.Class.getConstructor(Class.java:1825)\n\tat org.apache.spark.ml.util.DefaultParamsReader.load(ReadWrite.scala:468)\n\tat sun.reflect.NativeMethodAccessorImpl.invoke0(Native Method)\n\tat sun.reflect.NativeMethodAccessorImpl.invoke(NativeMethodAccessorImpl.java:62)\n\tat sun.reflect.DelegatingMethodAccessorImpl.invoke(DelegatingMethodAccessorImpl.java:43)\n\tat java.lang.reflect.Method.invoke(Method.java:498)\n\tat py4j.reflection.MethodInvoker.invoke(MethodInvoker.java:244)\n\tat py4j.reflection.ReflectionEngine.invoke(ReflectionEngine.java:357)\n\tat py4j.Gateway.invoke(Gateway.java:282)\n\tat py4j.commands.AbstractCommand.invokeMethod(AbstractCommand.java:132)\n\tat py4j.commands.CallCommand.execute(CallCommand.java:79)\n\tat py4j.GatewayConnection.run(GatewayConnection.java:238)\n\tat java.lang.Thread.run(Thread.java:748)\n"
          ]
        }
      ]
    }
  ]
}